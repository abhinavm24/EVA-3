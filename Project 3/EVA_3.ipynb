{
  "nbformat": 4,
  "nbformat_minor": 0,
  "metadata": {
    "colab": {
      "name": "EVA_3.ipynb",
      "version": "0.3.2",
      "provenance": [],
      "collapsed_sections": []
    },
    "kernelspec": {
      "name": "python3",
      "display_name": "Python 3"
    },
    "accelerator": "GPU"
  },
  "cells": [
    {
      "cell_type": "markdown",
      "metadata": {
        "id": "aNyZv-Ec52ot",
        "colab_type": "text"
      },
      "source": [
        "# **Import Libraries and modules**"
      ]
    },
    {
      "cell_type": "code",
      "metadata": {
        "id": "3m3w1Cw49Zkt",
        "colab_type": "code",
        "colab": {}
      },
      "source": [
        "# https://keras.io/\n",
        "!pip install -q keras\n",
        "import keras"
      ],
      "execution_count": 0,
      "outputs": []
    },
    {
      "cell_type": "code",
      "metadata": {
        "id": "Eso6UHE080D4",
        "colab_type": "code",
        "colab": {}
      },
      "source": [
        "import numpy as np\n",
        "\n",
        "from keras.models import Sequential\n",
        "from keras.layers import Dense, Dropout, Activation, Flatten, Add\n",
        "from keras.layers import Convolution2D, MaxPooling2D, BatchNormalization\n",
        "from keras.utils import np_utils\n",
        "\n",
        "from keras.datasets import mnist"
      ],
      "execution_count": 0,
      "outputs": []
    },
    {
      "cell_type": "markdown",
      "metadata": {
        "id": "zByEi95J86RD",
        "colab_type": "text"
      },
      "source": [
        "### Load pre-shuffled MNIST data into train and test sets"
      ]
    },
    {
      "cell_type": "code",
      "metadata": {
        "id": "7eRM0QWN83PV",
        "colab_type": "code",
        "colab": {}
      },
      "source": [
        "(X_train, y_train), (X_test, y_test) = mnist.load_data()"
      ],
      "execution_count": 0,
      "outputs": []
    },
    {
      "cell_type": "code",
      "metadata": {
        "id": "4a4Be72j8-ZC",
        "colab_type": "code",
        "outputId": "0b92432b-ae0c-467b-edc9-8971a03a0dff",
        "colab": {
          "base_uri": "https://localhost:8080/",
          "height": 303
        }
      },
      "source": [
        "# display sample image\n",
        "print (X_train.shape)\n",
        "from matplotlib import pyplot as plt\n",
        "%matplotlib inline\n",
        "plt.imshow(X_train[4])"
      ],
      "execution_count": 263,
      "outputs": [
        {
          "output_type": "stream",
          "text": [
            "(60000, 28, 28)\n"
          ],
          "name": "stdout"
        },
        {
          "output_type": "execute_result",
          "data": {
            "text/plain": [
              "<matplotlib.image.AxesImage at 0x7f81ad0b8550>"
            ]
          },
          "metadata": {
            "tags": []
          },
          "execution_count": 263
        },
        {
          "output_type": "display_data",
          "data": {
            "image/png": "[encoded data removed]",
            "text/plain": [
              "<Figure size 432x288 with 1 Axes>"
            ]
          },
          "metadata": {
            "tags": []
          }
        }
      ]
    },
    {
      "cell_type": "code",
      "metadata": {
        "id": "dkmprriw9AnZ",
        "colab_type": "code",
        "colab": {}
      },
      "source": [
        "X_train = X_train.reshape(X_train.shape[0], 28, 28,1)\n",
        "X_test = X_test.reshape(X_test.shape[0], 28, 28,1)"
      ],
      "execution_count": 0,
      "outputs": []
    },
    {
      "cell_type": "code",
      "metadata": {
        "id": "X2m4YS4E9CRh",
        "colab_type": "code",
        "colab": {}
      },
      "source": [
        "# Convert values from 0 to 1\n",
        "X_train = X_train.astype('float32')\n",
        "X_test = X_test.astype('float32')\n",
        "X_train /= 255\n",
        "X_test /= 255"
      ],
      "execution_count": 0,
      "outputs": []
    },
    {
      "cell_type": "code",
      "metadata": {
        "id": "0Mn0vAYD9DvB",
        "colab_type": "code",
        "outputId": "c43a19ba-8930-4eea-ae41-4b04e9364377",
        "colab": {
          "base_uri": "https://localhost:8080/",
          "height": 34
        }
      },
      "source": [
        "# First 10 digits\n",
        "y_train[:10]"
      ],
      "execution_count": 8,
      "outputs": [
        {
          "output_type": "execute_result",
          "data": {
            "text/plain": [
              "array([5, 0, 4, 1, 9, 2, 1, 3, 1, 4], dtype=uint8)"
            ]
          },
          "metadata": {
            "tags": []
          },
          "execution_count": 8
        }
      ]
    },
    {
      "cell_type": "code",
      "metadata": {
        "id": "ZG8JiXR39FHC",
        "colab_type": "code",
        "colab": {}
      },
      "source": [
        "# Convert 1-dimensional class arrays to 10-dimensional class matrices\n",
        "Y_train = np_utils.to_categorical(y_train, 10)\n",
        "Y_test = np_utils.to_categorical(y_test, 10)"
      ],
      "execution_count": 0,
      "outputs": []
    },
    {
      "cell_type": "code",
      "metadata": {
        "id": "fYlFRvKS9HMB",
        "colab_type": "code",
        "outputId": "056519e5-c113-49a9-c542-3954415a847b",
        "colab": {
          "base_uri": "https://localhost:8080/",
          "height": 187
        }
      },
      "source": [
        "# one hot encoded\n",
        "Y_train[:10]\n"
      ],
      "execution_count": 10,
      "outputs": [
        {
          "output_type": "execute_result",
          "data": {
            "text/plain": [
              "array([[0., 0., 0., 0., 0., 1., 0., 0., 0., 0.],\n",
              "       [1., 0., 0., 0., 0., 0., 0., 0., 0., 0.],\n",
              "       [0., 0., 0., 0., 1., 0., 0., 0., 0., 0.],\n",
              "       [0., 1., 0., 0., 0., 0., 0., 0., 0., 0.],\n",
              "       [0., 0., 0., 0., 0., 0., 0., 0., 0., 1.],\n",
              "       [0., 0., 1., 0., 0., 0., 0., 0., 0., 0.],\n",
              "       [0., 1., 0., 0., 0., 0., 0., 0., 0., 0.],\n",
              "       [0., 0., 0., 1., 0., 0., 0., 0., 0., 0.],\n",
              "       [0., 1., 0., 0., 0., 0., 0., 0., 0., 0.],\n",
              "       [0., 0., 0., 0., 1., 0., 0., 0., 0., 0.]], dtype=float32)"
            ]
          },
          "metadata": {
            "tags": []
          },
          "execution_count": 10
        }
      ]
    },
    {
      "cell_type": "code",
      "metadata": {
        "id": "osKqT73Q9JJB",
        "colab_type": "code",
        "outputId": "798fb63f-0e99-4e1e-afc8-2d97959163a3",
        "colab": {
          "base_uri": "https://localhost:8080/",
          "height": 289
        }
      },
      "source": [
        "from keras.layers import Activation\n",
        "model = Sequential()\n",
        "model.add(Convolution2D(8, 3, 3, activation='relu', input_shape=(28,28,1)))\n",
        "model.add(Convolution2D(16, 3, 3, activation='relu'))\n",
        "model.add(BatchNormalization())\n",
        "model.add(Convolution2D(20, 3, 3, activation='relu'))\n",
        "model.add(BatchNormalization())\n",
        "model.add(Convolution2D(8, 1, 1, activation='relu'))\n",
        "model.add(MaxPooling2D(pool_size=(2, 2)))\n",
        "\n",
        "model.add(BatchNormalization())\n",
        "model.add(Convolution2D(16, 3, 3, activation='relu'))\n",
        "# model.add(Convolution2D(32, 1, 1, activation='relu'))\n",
        "# model.add(MaxPooling2D(pool_size=(2, 2)))\n",
        "model.add(BatchNormalization())\n",
        "model.add(Convolution2D(20, 3, 3, activation='relu'))\n",
        "model.add(BatchNormalization())\n",
        "model.add(Convolution2D(12, 1, 1, activation='relu'))\n",
        "\n",
        "model.add(BatchNormalization())\n",
        "model.add(Convolution2D(16, 3, 3, activation='relu'))\n",
        "model.add(BatchNormalization())\n",
        "model.add(Convolution2D(20, 3, 3, activation='relu'))\n",
        "model.add(BatchNormalization())\n",
        "model.add(Convolution2D(24, 3, 3, activation='relu'))\n",
        "model.add(BatchNormalization())\n",
        "model.add(Convolution2D(10, 1, 1, activation='relu'))\n",
        "\n",
        "model.add(Flatten())\n",
        "model.add(BatchNormalization())\n",
        "model.add(Activation('softmax'))"
      ],
      "execution_count": 244,
      "outputs": [
        {
          "output_type": "stream",
          "text": [
            "/usr/local/lib/python3.6/dist-packages/ipykernel_launcher.py:4: UserWarning: Update your `Conv2D` call to the Keras 2 API: `Conv2D(8, (3, 3), activation=\"relu\", input_shape=(28, 28, 1...)`\n",
            "  after removing the cwd from sys.path.\n",
            "/usr/local/lib/python3.6/dist-packages/ipykernel_launcher.py:5: UserWarning: Update your `Conv2D` call to the Keras 2 API: `Conv2D(16, (3, 3), activation=\"relu\")`\n",
            "  \"\"\"\n",
            "/usr/local/lib/python3.6/dist-packages/ipykernel_launcher.py:7: UserWarning: Update your `Conv2D` call to the Keras 2 API: `Conv2D(20, (3, 3), activation=\"relu\")`\n",
            "  import sys\n",
            "/usr/local/lib/python3.6/dist-packages/ipykernel_launcher.py:9: UserWarning: Update your `Conv2D` call to the Keras 2 API: `Conv2D(8, (1, 1), activation=\"relu\")`\n",
            "  if __name__ == '__main__':\n",
            "/usr/local/lib/python3.6/dist-packages/ipykernel_launcher.py:13: UserWarning: Update your `Conv2D` call to the Keras 2 API: `Conv2D(16, (3, 3), activation=\"relu\")`\n",
            "  del sys.path[0]\n",
            "/usr/local/lib/python3.6/dist-packages/ipykernel_launcher.py:17: UserWarning: Update your `Conv2D` call to the Keras 2 API: `Conv2D(20, (3, 3), activation=\"relu\")`\n",
            "/usr/local/lib/python3.6/dist-packages/ipykernel_launcher.py:19: UserWarning: Update your `Conv2D` call to the Keras 2 API: `Conv2D(12, (1, 1), activation=\"relu\")`\n",
            "/usr/local/lib/python3.6/dist-packages/ipykernel_launcher.py:22: UserWarning: Update your `Conv2D` call to the Keras 2 API: `Conv2D(16, (3, 3), activation=\"relu\")`\n",
            "/usr/local/lib/python3.6/dist-packages/ipykernel_launcher.py:24: UserWarning: Update your `Conv2D` call to the Keras 2 API: `Conv2D(20, (3, 3), activation=\"relu\")`\n",
            "/usr/local/lib/python3.6/dist-packages/ipykernel_launcher.py:26: UserWarning: Update your `Conv2D` call to the Keras 2 API: `Conv2D(24, (3, 3), activation=\"relu\")`\n",
            "/usr/local/lib/python3.6/dist-packages/ipykernel_launcher.py:28: UserWarning: Update your `Conv2D` call to the Keras 2 API: `Conv2D(10, (1, 1), activation=\"relu\")`\n"
          ],
          "name": "stderr"
        }
      ]
    },
    {
      "cell_type": "code",
      "metadata": {
        "id": "TzdAYg1k9K7Z",
        "colab_type": "code",
        "outputId": "b695d57b-9021-4964-c31c-2159fc9eff5f",
        "colab": {
          "base_uri": "https://localhost:8080/",
          "height": 952
        }
      },
      "source": [
        "model.summary()"
      ],
      "execution_count": 245,
      "outputs": [
        {
          "output_type": "stream",
          "text": [
            "_________________________________________________________________\n",
            "Layer (type)                 Output Shape              Param #   \n",
            "=================================================================\n",
            "conv2d_507 (Conv2D)          (None, 26, 26, 8)         80        \n",
            "_________________________________________________________________\n",
            "conv2d_508 (Conv2D)          (None, 24, 24, 16)        1168      \n",
            "_________________________________________________________________\n",
            "batch_normalization_24 (Batc (None, 24, 24, 16)        64        \n",
            "_________________________________________________________________\n",
            "conv2d_509 (Conv2D)          (None, 22, 22, 20)        2900      \n",
            "_________________________________________________________________\n",
            "batch_normalization_25 (Batc (None, 22, 22, 20)        80        \n",
            "_________________________________________________________________\n",
            "conv2d_510 (Conv2D)          (None, 22, 22, 8)         168       \n",
            "_________________________________________________________________\n",
            "max_pooling2d_85 (MaxPooling (None, 11, 11, 8)         0         \n",
            "_________________________________________________________________\n",
            "batch_normalization_26 (Batc (None, 11, 11, 8)         32        \n",
            "_________________________________________________________________\n",
            "conv2d_511 (Conv2D)          (None, 9, 9, 16)          1168      \n",
            "_________________________________________________________________\n",
            "batch_normalization_27 (Batc (None, 9, 9, 16)          64        \n",
            "_________________________________________________________________\n",
            "conv2d_512 (Conv2D)          (None, 7, 7, 20)          2900      \n",
            "_________________________________________________________________\n",
            "batch_normalization_28 (Batc (None, 7, 7, 20)          80        \n",
            "_________________________________________________________________\n",
            "conv2d_513 (Conv2D)          (None, 7, 7, 12)          252       \n",
            "_________________________________________________________________\n",
            "batch_normalization_29 (Batc (None, 7, 7, 12)          48        \n",
            "_________________________________________________________________\n",
            "conv2d_514 (Conv2D)          (None, 5, 5, 16)          1744      \n",
            "_________________________________________________________________\n",
            "batch_normalization_30 (Batc (None, 5, 5, 16)          64        \n",
            "_________________________________________________________________\n",
            "conv2d_515 (Conv2D)          (None, 3, 3, 20)          2900      \n",
            "_________________________________________________________________\n",
            "batch_normalization_31 (Batc (None, 3, 3, 20)          80        \n",
            "_________________________________________________________________\n",
            "conv2d_516 (Conv2D)          (None, 1, 1, 24)          4344      \n",
            "_________________________________________________________________\n",
            "batch_normalization_32 (Batc (None, 1, 1, 24)          96        \n",
            "_________________________________________________________________\n",
            "conv2d_517 (Conv2D)          (None, 1, 1, 10)          250       \n",
            "_________________________________________________________________\n",
            "flatten_54 (Flatten)         (None, 10)                0         \n",
            "_________________________________________________________________\n",
            "batch_normalization_33 (Batc (None, 10)                40        \n",
            "_________________________________________________________________\n",
            "activation_55 (Activation)   (None, 10)                0         \n",
            "=================================================================\n",
            "Total params: 18,522\n",
            "Trainable params: 18,198\n",
            "Non-trainable params: 324\n",
            "_________________________________________________________________\n"
          ],
          "name": "stdout"
        }
      ]
    },
    {
      "cell_type": "code",
      "metadata": {
        "id": "Zp6SuGrL9M3h",
        "colab_type": "code",
        "colab": {}
      },
      "source": [
        "model.compile(loss='categorical_crossentropy',\n",
        "             optimizer='adam',\n",
        "             metrics=['accuracy'])"
      ],
      "execution_count": 0,
      "outputs": []
    },
    {
      "cell_type": "code",
      "metadata": {
        "id": "W8Z9YEIpOweB",
        "colab_type": "code",
        "colab": {
          "base_uri": "https://localhost:8080/",
          "height": 1411
        },
        "outputId": "a3ae489c-2ba9-4e4d-8726-590ae884fade"
      },
      "source": [
        "model.fit(X_train, Y_train, batch_size=32, epochs=40, verbose=1, validation_data=(X_test, Y_test))"
      ],
      "execution_count": 247,
      "outputs": [
        {
          "output_type": "stream",
          "text": [
            "Train on 60000 samples, validate on 10000 samples\n",
            "Epoch 1/40\n",
            "60000/60000 [==============================] - 52s 859us/step - loss: 0.4442 - acc: 0.8980 - val_loss: 0.1128 - val_acc: 0.9814\n",
            "Epoch 2/40\n",
            "60000/60000 [==============================] - 41s 675us/step - loss: 0.1629 - acc: 0.9646 - val_loss: 0.0588 - val_acc: 0.9861\n",
            "Epoch 3/40\n",
            "60000/60000 [==============================] - 40s 659us/step - loss: 0.1115 - acc: 0.9745 - val_loss: 0.0539 - val_acc: 0.9862\n",
            "Epoch 4/40\n",
            "60000/60000 [==============================] - 40s 674us/step - loss: 0.0905 - acc: 0.9787 - val_loss: 0.0534 - val_acc: 0.9864\n",
            "Epoch 5/40\n",
            "60000/60000 [==============================] - 39s 658us/step - loss: 0.0728 - acc: 0.9821 - val_loss: 0.0381 - val_acc: 0.9896\n",
            "Epoch 6/40\n",
            "60000/60000 [==============================] - 41s 676us/step - loss: 0.0612 - acc: 0.9848 - val_loss: 0.0302 - val_acc: 0.9918\n",
            "Epoch 7/40\n",
            "60000/60000 [==============================] - 41s 677us/step - loss: 0.0528 - acc: 0.9866 - val_loss: 0.0357 - val_acc: 0.9896\n",
            "Epoch 8/40\n",
            "60000/60000 [==============================] - 41s 676us/step - loss: 0.0463 - acc: 0.9882 - val_loss: 0.0353 - val_acc: 0.9894\n",
            "Epoch 9/40\n",
            "60000/60000 [==============================] - 39s 656us/step - loss: 0.0428 - acc: 0.9887 - val_loss: 0.0290 - val_acc: 0.9911\n",
            "Epoch 10/40\n",
            "60000/60000 [==============================] - 41s 677us/step - loss: 0.0409 - acc: 0.9894 - val_loss: 0.0276 - val_acc: 0.9912\n",
            "Epoch 11/40\n",
            "60000/60000 [==============================] - 39s 658us/step - loss: 0.0380 - acc: 0.9898 - val_loss: 0.0259 - val_acc: 0.9924\n",
            "Epoch 12/40\n",
            "60000/60000 [==============================] - 40s 667us/step - loss: 0.0351 - acc: 0.9905 - val_loss: 0.0273 - val_acc: 0.9915\n",
            "Epoch 13/40\n",
            "60000/60000 [==============================] - 39s 658us/step - loss: 0.0313 - acc: 0.9916 - val_loss: 0.0288 - val_acc: 0.9920\n",
            "Epoch 14/40\n",
            "60000/60000 [==============================] - 41s 684us/step - loss: 0.0282 - acc: 0.9922 - val_loss: 0.0260 - val_acc: 0.9923\n",
            "Epoch 15/40\n",
            "60000/60000 [==============================] - 41s 681us/step - loss: 0.0281 - acc: 0.9921 - val_loss: 0.0283 - val_acc: 0.9915\n",
            "Epoch 16/40\n",
            "60000/60000 [==============================] - 40s 673us/step - loss: 0.0255 - acc: 0.9931 - val_loss: 0.0303 - val_acc: 0.9901\n",
            "Epoch 17/40\n",
            "60000/60000 [==============================] - 39s 657us/step - loss: 0.0241 - acc: 0.9933 - val_loss: 0.0322 - val_acc: 0.9904\n",
            "Epoch 18/40\n",
            "60000/60000 [==============================] - 40s 673us/step - loss: 0.0247 - acc: 0.9932 - val_loss: 0.0270 - val_acc: 0.9922\n",
            "Epoch 19/40\n",
            "60000/60000 [==============================] - 39s 657us/step - loss: 0.0215 - acc: 0.9936 - val_loss: 0.0245 - val_acc: 0.9930\n",
            "Epoch 20/40\n",
            "60000/60000 [==============================] - 41s 677us/step - loss: 0.0222 - acc: 0.9939 - val_loss: 0.0313 - val_acc: 0.9905\n",
            "Epoch 21/40\n",
            "60000/60000 [==============================] - 40s 670us/step - loss: 0.0216 - acc: 0.9936 - val_loss: 0.0240 - val_acc: 0.9926\n",
            "Epoch 22/40\n",
            "60000/60000 [==============================] - 41s 676us/step - loss: 0.0187 - acc: 0.9949 - val_loss: 0.0296 - val_acc: 0.9914\n",
            "Epoch 23/40\n",
            "60000/60000 [==============================] - 41s 684us/step - loss: 0.0188 - acc: 0.9943 - val_loss: 0.0253 - val_acc: 0.9925\n",
            "Epoch 24/40\n",
            "60000/60000 [==============================] - 40s 666us/step - loss: 0.0173 - acc: 0.9950 - val_loss: 0.0271 - val_acc: 0.9918\n",
            "Epoch 25/40\n",
            "60000/60000 [==============================] - 39s 656us/step - loss: 0.0176 - acc: 0.9949 - val_loss: 0.0231 - val_acc: 0.9926\n",
            "Epoch 26/40\n",
            "60000/60000 [==============================] - 40s 673us/step - loss: 0.0162 - acc: 0.9953 - val_loss: 0.0250 - val_acc: 0.9923\n",
            "Epoch 27/40\n",
            "60000/60000 [==============================] - 40s 659us/step - loss: 0.0165 - acc: 0.9951 - val_loss: 0.0261 - val_acc: 0.9922\n",
            "Epoch 28/40\n",
            "60000/60000 [==============================] - 40s 671us/step - loss: 0.0148 - acc: 0.9957 - val_loss: 0.0294 - val_acc: 0.9904\n",
            "Epoch 29/40\n",
            "60000/60000 [==============================] - 40s 665us/step - loss: 0.0154 - acc: 0.9955 - val_loss: 0.0255 - val_acc: 0.9931\n",
            "Epoch 30/40\n",
            "60000/60000 [==============================] - 40s 674us/step - loss: 0.0137 - acc: 0.9959 - val_loss: 0.0262 - val_acc: 0.9922\n",
            "Epoch 31/40\n",
            "60000/60000 [==============================] - 41s 680us/step - loss: 0.0131 - acc: 0.9960 - val_loss: 0.0254 - val_acc: 0.9931\n",
            "Epoch 32/40\n",
            "60000/60000 [==============================] - 40s 673us/step - loss: 0.0117 - acc: 0.9966 - val_loss: 0.0298 - val_acc: 0.9918\n",
            "Epoch 33/40\n",
            "60000/60000 [==============================] - 39s 657us/step - loss: 0.0136 - acc: 0.9959 - val_loss: 0.0294 - val_acc: 0.9912\n",
            "Epoch 34/40\n",
            "60000/60000 [==============================] - 40s 673us/step - loss: 0.0124 - acc: 0.9963 - val_loss: 0.0272 - val_acc: 0.9914\n",
            "Epoch 35/40\n",
            "60000/60000 [==============================] - 39s 658us/step - loss: 0.0108 - acc: 0.9970 - val_loss: 0.0295 - val_acc: 0.9916\n",
            "Epoch 36/40\n",
            "60000/60000 [==============================] - 41s 676us/step - loss: 0.0119 - acc: 0.9963 - val_loss: 0.0267 - val_acc: 0.9929\n",
            "Epoch 37/40\n",
            "60000/60000 [==============================] - 39s 658us/step - loss: 0.0105 - acc: 0.9968 - val_loss: 0.0300 - val_acc: 0.9924\n",
            "Epoch 38/40\n",
            "60000/60000 [==============================] - 42s 696us/step - loss: 0.0111 - acc: 0.9965 - val_loss: 0.0278 - val_acc: 0.9922\n",
            "Epoch 39/40\n",
            "60000/60000 [==============================] - 39s 655us/step - loss: 0.0104 - acc: 0.9967 - val_loss: 0.0290 - val_acc: 0.9926\n",
            "Epoch 40/40\n",
            "60000/60000 [==============================] - 40s 673us/step - loss: 0.0110 - acc: 0.9966 - val_loss: 0.0297 - val_acc: 0.9913\n"
          ],
          "name": "stdout"
        },
        {
          "output_type": "execute_result",
          "data": {
            "text/plain": [
              "<keras.callbacks.History at 0x7f81b0e8ab38>"
            ]
          },
          "metadata": {
            "tags": []
          },
          "execution_count": 247
        }
      ]
    },
    {
      "cell_type": "code",
      "metadata": {
        "id": "h4CsNgoDVars",
        "colab_type": "code",
        "colab": {
          "base_uri": "https://localhost:8080/",
          "height": 1411
        },
        "outputId": "09fcee95-df01-427c-dbf6-4d4823f1554c"
      },
      "source": [
        "# 25th epoch has validation accuracy = 99.40\n",
        "model.fit(X_train, Y_train, batch_size=256, epochs=40, verbose=1, validation_data=(X_test, Y_test))"
      ],
      "execution_count": 248,
      "outputs": [
        {
          "output_type": "stream",
          "text": [
            "Train on 60000 samples, validate on 10000 samples\n",
            "Epoch 1/40\n",
            "60000/60000 [==============================] - 6s 98us/step - loss: 0.0026 - acc: 0.9994 - val_loss: 0.0229 - val_acc: 0.9933\n",
            "Epoch 2/40\n",
            "60000/60000 [==============================] - 6s 99us/step - loss: 0.0012 - acc: 0.9999 - val_loss: 0.0223 - val_acc: 0.9935\n",
            "Epoch 3/40\n",
            "60000/60000 [==============================] - 6s 108us/step - loss: 9.7861e-04 - acc: 0.9999 - val_loss: 0.0222 - val_acc: 0.9935\n",
            "Epoch 4/40\n",
            "60000/60000 [==============================] - 6s 100us/step - loss: 7.4304e-04 - acc: 1.0000 - val_loss: 0.0223 - val_acc: 0.9936\n",
            "Epoch 5/40\n",
            "60000/60000 [==============================] - 6s 97us/step - loss: 6.0926e-04 - acc: 0.9999 - val_loss: 0.0227 - val_acc: 0.9934\n",
            "Epoch 6/40\n",
            "60000/60000 [==============================] - 6s 97us/step - loss: 5.3075e-04 - acc: 1.0000 - val_loss: 0.0227 - val_acc: 0.9935\n",
            "Epoch 7/40\n",
            "60000/60000 [==============================] - 6s 96us/step - loss: 4.7782e-04 - acc: 1.0000 - val_loss: 0.0228 - val_acc: 0.9939\n",
            "Epoch 8/40\n",
            "60000/60000 [==============================] - 6s 97us/step - loss: 4.2165e-04 - acc: 1.0000 - val_loss: 0.0238 - val_acc: 0.9936\n",
            "Epoch 9/40\n",
            "60000/60000 [==============================] - 6s 96us/step - loss: 3.8520e-04 - acc: 1.0000 - val_loss: 0.0241 - val_acc: 0.9936\n",
            "Epoch 10/40\n",
            "60000/60000 [==============================] - 6s 96us/step - loss: 3.2095e-04 - acc: 1.0000 - val_loss: 0.0242 - val_acc: 0.9937\n",
            "Epoch 11/40\n",
            "60000/60000 [==============================] - 6s 97us/step - loss: 2.8538e-04 - acc: 1.0000 - val_loss: 0.0244 - val_acc: 0.9936\n",
            "Epoch 12/40\n",
            "60000/60000 [==============================] - 6s 96us/step - loss: 2.3915e-04 - acc: 1.0000 - val_loss: 0.0245 - val_acc: 0.9937\n",
            "Epoch 13/40\n",
            "60000/60000 [==============================] - 6s 97us/step - loss: 2.1375e-04 - acc: 1.0000 - val_loss: 0.0251 - val_acc: 0.9938\n",
            "Epoch 14/40\n",
            "60000/60000 [==============================] - 6s 96us/step - loss: 2.0121e-04 - acc: 1.0000 - val_loss: 0.0251 - val_acc: 0.9939\n",
            "Epoch 15/40\n",
            "60000/60000 [==============================] - 6s 97us/step - loss: 1.8176e-04 - acc: 1.0000 - val_loss: 0.0257 - val_acc: 0.9939\n",
            "Epoch 16/40\n",
            "60000/60000 [==============================] - 6s 101us/step - loss: 1.6182e-04 - acc: 1.0000 - val_loss: 0.0259 - val_acc: 0.9939\n",
            "Epoch 17/40\n",
            "60000/60000 [==============================] - 7s 112us/step - loss: 1.7259e-04 - acc: 1.0000 - val_loss: 0.0269 - val_acc: 0.9938\n",
            "Epoch 18/40\n",
            "60000/60000 [==============================] - 6s 105us/step - loss: 1.3349e-04 - acc: 1.0000 - val_loss: 0.0266 - val_acc: 0.9937\n",
            "Epoch 19/40\n",
            "60000/60000 [==============================] - 6s 96us/step - loss: 1.1187e-04 - acc: 1.0000 - val_loss: 0.0269 - val_acc: 0.9937\n",
            "Epoch 20/40\n",
            "60000/60000 [==============================] - 6s 97us/step - loss: 1.0626e-04 - acc: 1.0000 - val_loss: 0.0274 - val_acc: 0.9937\n",
            "Epoch 21/40\n",
            "60000/60000 [==============================] - 6s 97us/step - loss: 9.4117e-05 - acc: 1.0000 - val_loss: 0.0279 - val_acc: 0.9939\n",
            "Epoch 22/40\n",
            "60000/60000 [==============================] - 6s 96us/step - loss: 8.1993e-05 - acc: 1.0000 - val_loss: 0.0283 - val_acc: 0.9938\n",
            "Epoch 23/40\n",
            "60000/60000 [==============================] - 6s 96us/step - loss: 7.3498e-05 - acc: 1.0000 - val_loss: 0.0286 - val_acc: 0.9937\n",
            "Epoch 24/40\n",
            "60000/60000 [==============================] - 6s 96us/step - loss: 7.0555e-05 - acc: 1.0000 - val_loss: 0.0289 - val_acc: 0.9936\n",
            "Epoch 25/40\n",
            "60000/60000 [==============================] - 6s 98us/step - loss: 6.6936e-05 - acc: 1.0000 - val_loss: 0.0284 - val_acc: 0.9940\n",
            "Epoch 26/40\n",
            "60000/60000 [==============================] - 6s 96us/step - loss: 7.6404e-05 - acc: 1.0000 - val_loss: 0.0286 - val_acc: 0.9931\n",
            "Epoch 27/40\n",
            "60000/60000 [==============================] - 6s 97us/step - loss: 1.2222e-04 - acc: 1.0000 - val_loss: 0.0301 - val_acc: 0.9937\n",
            "Epoch 28/40\n",
            "60000/60000 [==============================] - 6s 98us/step - loss: 0.0060 - acc: 0.9983 - val_loss: 0.0278 - val_acc: 0.9932\n",
            "Epoch 29/40\n",
            "60000/60000 [==============================] - 6s 102us/step - loss: 0.0020 - acc: 0.9993 - val_loss: 0.0340 - val_acc: 0.9930\n",
            "Epoch 30/40\n",
            "60000/60000 [==============================] - 7s 110us/step - loss: 4.8307e-04 - acc: 0.9999 - val_loss: 0.0276 - val_acc: 0.9938\n",
            "Epoch 31/40\n",
            "60000/60000 [==============================] - 6s 105us/step - loss: 4.1073e-04 - acc: 0.9999 - val_loss: 0.0280 - val_acc: 0.9927\n",
            "Epoch 32/40\n",
            "60000/60000 [==============================] - 6s 103us/step - loss: 1.5448e-04 - acc: 1.0000 - val_loss: 0.0283 - val_acc: 0.9932\n",
            "Epoch 33/40\n",
            "60000/60000 [==============================] - 6s 102us/step - loss: 9.7538e-05 - acc: 1.0000 - val_loss: 0.0282 - val_acc: 0.9932\n",
            "Epoch 34/40\n",
            "60000/60000 [==============================] - 6s 101us/step - loss: 7.9097e-05 - acc: 1.0000 - val_loss: 0.0288 - val_acc: 0.9932\n",
            "Epoch 35/40\n",
            "60000/60000 [==============================] - 6s 101us/step - loss: 7.2764e-05 - acc: 1.0000 - val_loss: 0.0283 - val_acc: 0.9933\n",
            "Epoch 36/40\n",
            "60000/60000 [==============================] - 6s 98us/step - loss: 1.0362e-04 - acc: 1.0000 - val_loss: 0.0308 - val_acc: 0.9927\n",
            "Epoch 37/40\n",
            "60000/60000 [==============================] - 6s 97us/step - loss: 6.6235e-05 - acc: 1.0000 - val_loss: 0.0296 - val_acc: 0.9933\n",
            "Epoch 38/40\n",
            "60000/60000 [==============================] - 6s 97us/step - loss: 6.3305e-05 - acc: 1.0000 - val_loss: 0.0290 - val_acc: 0.9934\n",
            "Epoch 39/40\n",
            "60000/60000 [==============================] - 6s 97us/step - loss: 4.7477e-05 - acc: 1.0000 - val_loss: 0.0291 - val_acc: 0.9933\n",
            "Epoch 40/40\n",
            "60000/60000 [==============================] - 6s 96us/step - loss: 4.1440e-05 - acc: 1.0000 - val_loss: 0.0297 - val_acc: 0.9936\n"
          ],
          "name": "stdout"
        },
        {
          "output_type": "execute_result",
          "data": {
            "text/plain": [
              "<keras.callbacks.History at 0x7f81afca50b8>"
            ]
          },
          "metadata": {
            "tags": []
          },
          "execution_count": 248
        }
      ]
    },
    {
      "cell_type": "code",
      "metadata": {
        "id": "AtsH-lLk-eLb",
        "colab_type": "code",
        "colab": {}
      },
      "source": [
        "score = model.evaluate(X_test, Y_test, verbose=0)"
      ],
      "execution_count": 0,
      "outputs": []
    },
    {
      "cell_type": "code",
      "metadata": {
        "id": "mkX8JMv79q9r",
        "colab_type": "code",
        "outputId": "03b7a294-02a3-4837-bec2-e1cc9da7855a",
        "colab": {
          "base_uri": "https://localhost:8080/",
          "height": 34
        }
      },
      "source": [
        "# (40+25)th epoch has 99.40% validation accuracy\n",
        "print(score)"
      ],
      "execution_count": 250,
      "outputs": [
        {
          "output_type": "stream",
          "text": [
            "[0.02970153876168297, 0.9936]\n"
          ],
          "name": "stdout"
        }
      ]
    },
    {
      "cell_type": "code",
      "metadata": {
        "id": "OCWoJkwE9suh",
        "colab_type": "code",
        "colab": {}
      },
      "source": [
        "# predict values for text data\n",
        "y_pred = model.predict(X_test)"
      ],
      "execution_count": 0,
      "outputs": []
    },
    {
      "cell_type": "code",
      "metadata": {
        "id": "Ym7iCFBm9uBs",
        "colab_type": "code",
        "outputId": "23f5a433-4c6c-4678-c5c8-14a9e6312a45",
        "colab": {
          "base_uri": "https://localhost:8080/",
          "height": 493
        }
      },
      "source": [
        "# compare first 9 from predicted and test values\n",
        "print(y_pred[:9])\n",
        "print(y_test[:9])"
      ],
      "execution_count": 252,
      "outputs": [
        {
          "output_type": "stream",
          "text": [
            "[[6.75780598e-10 2.71298802e-07 1.39598977e-09 1.91095348e-10\n",
            "  1.03259772e-07 3.40746387e-09 3.04070658e-09 9.99999642e-01\n",
            "  2.02968059e-10 4.90067720e-09]\n",
            " [2.18547065e-08 4.17418917e-08 9.99999762e-01 1.38804142e-08\n",
            "  2.00079349e-08 2.34476172e-08 7.52411751e-08 3.92530497e-09\n",
            "  2.19233858e-08 3.02772172e-08]\n",
            " [3.71034647e-10 9.99999881e-01 3.69734976e-09 8.81904327e-09\n",
            "  5.22214343e-08 3.76366529e-08 2.12193925e-08 3.85018328e-09\n",
            "  6.01081895e-09 3.27287242e-09]\n",
            " [9.99998331e-01 1.78058490e-09 1.01309681e-08 7.39696260e-09\n",
            "  7.15251716e-08 3.64091264e-08 1.12754822e-06 3.71932373e-07\n",
            "  1.05442957e-07 3.19092450e-08]\n",
            " [8.18637531e-08 2.92939930e-08 5.79352744e-08 1.22015198e-08\n",
            "  9.99999166e-01 7.38467598e-09 1.93844674e-08 9.79498171e-09\n",
            "  2.83049961e-09 6.09894869e-07]\n",
            " [1.87162480e-10 1.00000000e+00 2.91724950e-10 3.48844331e-09\n",
            "  1.21130910e-08 6.25114582e-09 1.51988715e-08 2.44470488e-08\n",
            "  2.10341931e-08 1.09869127e-08]\n",
            " [3.50019014e-10 2.43882766e-07 2.15680052e-09 2.22304924e-10\n",
            "  9.99999523e-01 8.48725534e-09 2.03843764e-09 4.68065720e-09\n",
            "  2.02680694e-09 2.01247502e-07]\n",
            " [5.53405677e-09 8.68264483e-09 4.46778881e-09 1.02920005e-07\n",
            "  4.38048842e-09 1.55118641e-07 9.20638321e-09 4.56614124e-08\n",
            "  2.30270114e-08 9.99999642e-01]\n",
            " [4.32215074e-06 3.15930765e-06 3.17104195e-07 7.01071087e-07\n",
            "  9.32945113e-05 2.20656767e-01 7.79210567e-01 3.04157711e-05\n",
            "  1.86098518e-07 2.57010242e-07]]\n",
            "[7 2 1 0 4 1 4 9 5]\n"
          ],
          "name": "stdout"
        }
      ]
    },
    {
      "cell_type": "code",
      "metadata": {
        "id": "CT--y98_dr2T",
        "colab_type": "code",
        "colab": {}
      },
      "source": [
        "layer_dict = dict([(layer.name, layer) for layer in model.layers])"
      ],
      "execution_count": 0,
      "outputs": []
    },
    {
      "cell_type": "code",
      "metadata": {
        "id": "2GY4Upv4dsUR",
        "colab_type": "code",
        "outputId": "bedb21d1-4783-4c22-b33a-c2795596b88c",
        "colab": {
          "base_uri": "https://localhost:8080/",
          "height": 741
        }
      },
      "source": [
        "# how the kernel looks for 3rd convolutional layer\n",
        "\n",
        "import numpy as np\n",
        "from matplotlib import pyplot as plt\n",
        "from keras import backend as K\n",
        "%matplotlib inline\n",
        "# util function to convert a tensor into a valid image\n",
        "def deprocess_image(x):\n",
        "    # normalize tensor: center on 0., ensure std is 0.1\n",
        "    x -= x.mean()\n",
        "    x /= (x.std() + 1e-5)\n",
        "    x *= 0.1\n",
        "\n",
        "    # clip to [0, 1]\n",
        "    x += 0.5\n",
        "    x = np.clip(x, 0, 1)\n",
        "\n",
        "    # convert to RGB array\n",
        "    x *= 255\n",
        "    #x = x.transpose((1, 2, 0))\n",
        "    x = np.clip(x, 0, 255).astype('uint8')\n",
        "    return x\n",
        "\n",
        "def vis_img_in_filter(img = np.array(X_train[2]).reshape((1, 28, 28, 1)).astype(np.float64), \n",
        "                      layer_name = 'conv2d_509'):\n",
        "    layer_output = layer_dict[layer_name].output\n",
        "    img_ascs = list()\n",
        "    for filter_index in range(layer_output.shape[3]):\n",
        "        # build a loss function that maximizes the activation\n",
        "        # of the nth filter of the layer considered\n",
        "        loss = K.mean(layer_output[:, :, :, filter_index])\n",
        "\n",
        "        # compute the gradient of the input picture wrt this loss\n",
        "        grads = K.gradients(loss, model.input)[0]\n",
        "\n",
        "        # normalization trick: we normalize the gradient\n",
        "        grads /= (K.sqrt(K.mean(K.square(grads))) + 1e-5)\n",
        "\n",
        "        # this function returns the loss and grads given the input picture\n",
        "        iterate = K.function([model.input], [loss, grads])\n",
        "\n",
        "        # step size for gradient ascent\n",
        "        step = 5.\n",
        "\n",
        "        img_asc = np.array(img)\n",
        "        # run gradient ascent for 20 steps\n",
        "        for i in range(20):\n",
        "            loss_value, grads_value = iterate([img_asc])\n",
        "            img_asc += grads_value * step\n",
        "\n",
        "        img_asc = img_asc[0]\n",
        "        img_ascs.append(deprocess_image(img_asc).reshape((28, 28)))\n",
        "        \n",
        "    if layer_output.shape[3] >= 35:\n",
        "        plot_x, plot_y = 6, 6\n",
        "    elif layer_output.shape[3] >= 23:\n",
        "        plot_x, plot_y = 4, 6\n",
        "    elif layer_output.shape[3] >= 11:\n",
        "        plot_x, plot_y = 2, 6\n",
        "    else:\n",
        "        plot_x, plot_y = 1, 2\n",
        "    fig, ax = plt.subplots(plot_x, plot_y, figsize = (12, 12))\n",
        "    ax[0, 0].imshow(img.reshape((28, 28)), cmap = 'gray')\n",
        "    ax[0, 0].set_title('Input image')\n",
        "    fig.suptitle('Input image and %s filters' % (layer_name,))\n",
        "    fig.tight_layout(pad = 0.3, rect = [0, 0, 0.9, 0.9])\n",
        "    for (x, y) in [(i, j) for i in range(plot_x) for j in range(plot_y)]:\n",
        "        if x == 0 and y == 0:\n",
        "            continue\n",
        "        ax[x, y].imshow(img_ascs[x * plot_y + y - 1], cmap = 'gray')\n",
        "        ax[x, y].set_title('filter %d' % (x * plot_y + y - 1))\n",
        "\n",
        "vis_img_in_filter()"
      ],
      "execution_count": 264,
      "outputs": [
        {
          "output_type": "display_data",
          "data": {
            "image/png": "[encoded data removed]",
            "text/plain": [
              "<Figure size 864x864 with 12 Axes>"
            ]
          },
          "metadata": {
            "tags": []
          }
        }
      ]
    },
    {
      "cell_type": "code",
      "metadata": {
        "id": "9tvptcn8dxvp",
        "colab_type": "code",
        "colab": {}
      },
      "source": [
        ""
      ],
      "execution_count": 0,
      "outputs": []
    }
  ]
}