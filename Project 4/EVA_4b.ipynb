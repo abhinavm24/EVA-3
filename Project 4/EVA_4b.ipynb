{
  "nbformat": 4,
  "nbformat_minor": 0,
  "metadata": {
    "colab": {
      "name": "EVA_4b.ipynb",
      "version": "0.3.2",
      "provenance": [],
      "collapsed_sections": []
    },
    "kernelspec": {
      "name": "python3",
      "display_name": "Python 3"
    },
    "accelerator": "GPU"
  },
  "cells": [
    {
      "cell_type": "markdown",
      "metadata": {
        "id": "EmvTvt4RGQVO",
        "colab_type": "text"
      },
      "source": [
        "**Iteration 2: Reduce Parameters**\n",
        "\n",
        "Changes:\n",
        "*   Reducing 3x3 parameters\n",
        "*   Reducing 1x1 parameters\n",
        "*   Adding Partical Transition Block (1x1 conv but no maxPool)"
      ]
    },
    {
      "cell_type": "markdown",
      "metadata": {
        "id": "aNyZv-Ec52ot",
        "colab_type": "text"
      },
      "source": [
        "# **Import Libraries and modules**"
      ]
    },
    {
      "cell_type": "code",
      "metadata": {
        "id": "3m3w1Cw49Zkt",
        "colab_type": "code",
        "outputId": "925b38e8-d180-48da-ecdf-09b93e7d8496",
        "colab": {
          "base_uri": "https://localhost:8080/",
          "height": 34
        }
      },
      "source": [
        "# https://keras.io/\n",
        "!pip install -q keras\n",
        "import keras"
      ],
      "execution_count": 1,
      "outputs": [
        {
          "output_type": "stream",
          "text": [
            "Using TensorFlow backend.\n"
          ],
          "name": "stderr"
        }
      ]
    },
    {
      "cell_type": "code",
      "metadata": {
        "id": "Eso6UHE080D4",
        "colab_type": "code",
        "colab": {}
      },
      "source": [
        "import numpy as np\n",
        "\n",
        "from keras.models import Sequential\n",
        "from keras.layers import Dense, Dropout, Activation, Flatten, Add, BatchNormalization, Dropout\n",
        "from keras.layers import Convolution2D, MaxPooling2D\n",
        "from keras.utils import np_utils\n",
        "\n",
        "from keras.datasets import mnist"
      ],
      "execution_count": 0,
      "outputs": []
    },
    {
      "cell_type": "markdown",
      "metadata": {
        "id": "zByEi95J86RD",
        "colab_type": "text"
      },
      "source": [
        "### Load pre-shuffled MNIST data into train and test sets"
      ]
    },
    {
      "cell_type": "code",
      "metadata": {
        "id": "7eRM0QWN83PV",
        "colab_type": "code",
        "colab": {}
      },
      "source": [
        "(X_train, y_train), (X_test, y_test) = mnist.load_data()"
      ],
      "execution_count": 0,
      "outputs": []
    },
    {
      "cell_type": "code",
      "metadata": {
        "id": "4a4Be72j8-ZC",
        "colab_type": "code",
        "outputId": "390862d2-b930-42ab-c3a1-e5a37cf0a5a2",
        "colab": {
          "base_uri": "https://localhost:8080/",
          "height": 303
        }
      },
      "source": [
        "print (X_train.shape)\n",
        "from matplotlib import pyplot as plt\n",
        "%matplotlib inline\n",
        "plt.imshow(X_train[0])"
      ],
      "execution_count": 4,
      "outputs": [
        {
          "output_type": "stream",
          "text": [
            "(60000, 28, 28)\n"
          ],
          "name": "stdout"
        },
        {
          "output_type": "execute_result",
          "data": {
            "text/plain": [
              "<matplotlib.image.AxesImage at 0x7f1a5e7e8358>"
            ]
          },
          "metadata": {
            "tags": []
          },
          "execution_count": 4
        },
        {
          "output_type": "display_data",
          "data": {
            "image/png": "[encoded data removed]",
            "text/plain": [
              "<Figure size 432x288 with 1 Axes>"
            ]
          },
          "metadata": {
            "tags": []
          }
        }
      ]
    },
    {
      "cell_type": "code",
      "metadata": {
        "id": "dkmprriw9AnZ",
        "colab_type": "code",
        "colab": {}
      },
      "source": [
        "X_train = X_train.reshape(X_train.shape[0], 28, 28,1)\n",
        "X_test = X_test.reshape(X_test.shape[0], 28, 28,1)"
      ],
      "execution_count": 0,
      "outputs": []
    },
    {
      "cell_type": "code",
      "metadata": {
        "id": "X2m4YS4E9CRh",
        "colab_type": "code",
        "colab": {}
      },
      "source": [
        "X_train = X_train.astype('float32')\n",
        "X_test = X_test.astype('float32')\n",
        "X_train /= 255\n",
        "X_test /= 255"
      ],
      "execution_count": 0,
      "outputs": []
    },
    {
      "cell_type": "code",
      "metadata": {
        "id": "0Mn0vAYD9DvB",
        "colab_type": "code",
        "outputId": "1e9cc0b3-55f9-4392-e1bb-0747aa654537",
        "colab": {
          "base_uri": "https://localhost:8080/",
          "height": 34
        }
      },
      "source": [
        "y_train[:10]"
      ],
      "execution_count": 7,
      "outputs": [
        {
          "output_type": "execute_result",
          "data": {
            "text/plain": [
              "array([5, 0, 4, 1, 9, 2, 1, 3, 1, 4], dtype=uint8)"
            ]
          },
          "metadata": {
            "tags": []
          },
          "execution_count": 7
        }
      ]
    },
    {
      "cell_type": "code",
      "metadata": {
        "id": "ZG8JiXR39FHC",
        "colab_type": "code",
        "colab": {}
      },
      "source": [
        "# Convert 1-dimensional class arrays to 10-dimensional class matrices\n",
        "Y_train = np_utils.to_categorical(y_train, 10)\n",
        "Y_test = np_utils.to_categorical(y_test, 10)"
      ],
      "execution_count": 0,
      "outputs": []
    },
    {
      "cell_type": "code",
      "metadata": {
        "id": "fYlFRvKS9HMB",
        "colab_type": "code",
        "outputId": "2c8a1dab-3f75-4a13-8f16-e18809dc6f9b",
        "colab": {
          "base_uri": "https://localhost:8080/",
          "height": 187
        }
      },
      "source": [
        "Y_train[:10]\n"
      ],
      "execution_count": 9,
      "outputs": [
        {
          "output_type": "execute_result",
          "data": {
            "text/plain": [
              "array([[0., 0., 0., 0., 0., 1., 0., 0., 0., 0.],\n",
              "       [1., 0., 0., 0., 0., 0., 0., 0., 0., 0.],\n",
              "       [0., 0., 0., 0., 1., 0., 0., 0., 0., 0.],\n",
              "       [0., 1., 0., 0., 0., 0., 0., 0., 0., 0.],\n",
              "       [0., 0., 0., 0., 0., 0., 0., 0., 0., 1.],\n",
              "       [0., 0., 1., 0., 0., 0., 0., 0., 0., 0.],\n",
              "       [0., 1., 0., 0., 0., 0., 0., 0., 0., 0.],\n",
              "       [0., 0., 0., 1., 0., 0., 0., 0., 0., 0.],\n",
              "       [0., 1., 0., 0., 0., 0., 0., 0., 0., 0.],\n",
              "       [0., 0., 0., 0., 1., 0., 0., 0., 0., 0.]], dtype=float32)"
            ]
          },
          "metadata": {
            "tags": []
          },
          "execution_count": 9
        }
      ]
    },
    {
      "cell_type": "code",
      "metadata": {
        "id": "osKqT73Q9JJB",
        "colab_type": "code",
        "outputId": "3a4aff87-823f-42a4-ffd0-00a99241c24b",
        "colab": {
          "base_uri": "https://localhost:8080/",
          "height": 323
        }
      },
      "source": [
        "from keras.layers import Activation\n",
        "model = Sequential()\n",
        "\n",
        " \n",
        "model.add(Convolution2D(8, 3, 3, activation='relu', input_shape=(28,28,1))) # change 1 # 26 \n",
        "model.add(Convolution2D(16, 3, 3, activation='relu')) # change 1 # 24\n",
        "\n",
        "model.add(Convolution2D(10, 1, 1, activation='relu')) # change 2 # 12\n",
        "model.add(MaxPooling2D(pool_size=(2, 2))) # 12\n",
        "\n",
        "model.add(Convolution2D(16, 3, 3, activation='relu')) # change 1 # 10\n",
        "model.add(Convolution2D(20, 3, 3, activation='relu')) # change 1 # 8\n",
        "\n",
        "model.add(Convolution2D(12, 1, 1, activation='relu')) # change 3 # 8\n",
        "\n",
        "model.add(Convolution2D(16, 3, 3, activation='relu')) # change 1 # 6\n",
        "model.add(Convolution2D(20, 3, 3, activation='relu')) # change 1 # 4\n",
        "\n",
        "\n",
        "model.add(Convolution2D(10, 1, activation='relu')) # change 1 #4\n",
        "model.add(Convolution2D(10, 4))\n",
        "model.add(Flatten())\n",
        "model.add(Activation('softmax'))"
      ],
      "execution_count": 10,
      "outputs": [
        {
          "output_type": "stream",
          "text": [
            "WARNING:tensorflow:From /usr/local/lib/python3.6/dist-packages/tensorflow/python/framework/op_def_library.py:263: colocate_with (from tensorflow.python.framework.ops) is deprecated and will be removed in a future version.\n",
            "Instructions for updating:\n",
            "Colocations handled automatically by placer.\n"
          ],
          "name": "stdout"
        },
        {
          "output_type": "stream",
          "text": [
            "/usr/local/lib/python3.6/dist-packages/ipykernel_launcher.py:5: UserWarning: Update your `Conv2D` call to the Keras 2 API: `Conv2D(8, (3, 3), activation=\"relu\", input_shape=(28, 28, 1...)`\n",
            "  \"\"\"\n",
            "/usr/local/lib/python3.6/dist-packages/ipykernel_launcher.py:6: UserWarning: Update your `Conv2D` call to the Keras 2 API: `Conv2D(16, (3, 3), activation=\"relu\")`\n",
            "  \n",
            "/usr/local/lib/python3.6/dist-packages/ipykernel_launcher.py:8: UserWarning: Update your `Conv2D` call to the Keras 2 API: `Conv2D(10, (1, 1), activation=\"relu\")`\n",
            "  \n",
            "/usr/local/lib/python3.6/dist-packages/ipykernel_launcher.py:11: UserWarning: Update your `Conv2D` call to the Keras 2 API: `Conv2D(16, (3, 3), activation=\"relu\")`\n",
            "  # This is added back by InteractiveShellApp.init_path()\n",
            "/usr/local/lib/python3.6/dist-packages/ipykernel_launcher.py:12: UserWarning: Update your `Conv2D` call to the Keras 2 API: `Conv2D(20, (3, 3), activation=\"relu\")`\n",
            "  if sys.path[0] == '':\n",
            "/usr/local/lib/python3.6/dist-packages/ipykernel_launcher.py:14: UserWarning: Update your `Conv2D` call to the Keras 2 API: `Conv2D(12, (1, 1), activation=\"relu\")`\n",
            "  \n",
            "/usr/local/lib/python3.6/dist-packages/ipykernel_launcher.py:16: UserWarning: Update your `Conv2D` call to the Keras 2 API: `Conv2D(16, (3, 3), activation=\"relu\")`\n",
            "  app.launch_new_instance()\n",
            "/usr/local/lib/python3.6/dist-packages/ipykernel_launcher.py:17: UserWarning: Update your `Conv2D` call to the Keras 2 API: `Conv2D(20, (3, 3), activation=\"relu\")`\n"
          ],
          "name": "stderr"
        }
      ]
    },
    {
      "cell_type": "code",
      "metadata": {
        "id": "TzdAYg1k9K7Z",
        "colab_type": "code",
        "outputId": "e5d5a31f-11a6-4ae8-e703-9690aa38ac60",
        "colab": {
          "base_uri": "https://localhost:8080/",
          "height": 578
        }
      },
      "source": [
        "model.summary()"
      ],
      "execution_count": 11,
      "outputs": [
        {
          "output_type": "stream",
          "text": [
            "_________________________________________________________________\n",
            "Layer (type)                 Output Shape              Param #   \n",
            "=================================================================\n",
            "conv2d_1 (Conv2D)            (None, 26, 26, 8)         80        \n",
            "_________________________________________________________________\n",
            "conv2d_2 (Conv2D)            (None, 24, 24, 16)        1168      \n",
            "_________________________________________________________________\n",
            "conv2d_3 (Conv2D)            (None, 24, 24, 10)        170       \n",
            "_________________________________________________________________\n",
            "max_pooling2d_1 (MaxPooling2 (None, 12, 12, 10)        0         \n",
            "_________________________________________________________________\n",
            "conv2d_4 (Conv2D)            (None, 10, 10, 16)        1456      \n",
            "_________________________________________________________________\n",
            "conv2d_5 (Conv2D)            (None, 8, 8, 20)          2900      \n",
            "_________________________________________________________________\n",
            "conv2d_6 (Conv2D)            (None, 8, 8, 12)          252       \n",
            "_________________________________________________________________\n",
            "conv2d_7 (Conv2D)            (None, 6, 6, 16)          1744      \n",
            "_________________________________________________________________\n",
            "conv2d_8 (Conv2D)            (None, 4, 4, 20)          2900      \n",
            "_________________________________________________________________\n",
            "conv2d_9 (Conv2D)            (None, 4, 4, 10)          210       \n",
            "_________________________________________________________________\n",
            "conv2d_10 (Conv2D)           (None, 1, 1, 10)          1610      \n",
            "_________________________________________________________________\n",
            "flatten_1 (Flatten)          (None, 10)                0         \n",
            "_________________________________________________________________\n",
            "activation_1 (Activation)    (None, 10)                0         \n",
            "=================================================================\n",
            "Total params: 12,490\n",
            "Trainable params: 12,490\n",
            "Non-trainable params: 0\n",
            "_________________________________________________________________\n"
          ],
          "name": "stdout"
        }
      ]
    },
    {
      "cell_type": "code",
      "metadata": {
        "id": "Zp6SuGrL9M3h",
        "colab_type": "code",
        "colab": {}
      },
      "source": [
        "model.compile(loss='categorical_crossentropy', \n",
        "              optimizer='Adam', \n",
        "              metrics=['accuracy'])"
      ],
      "execution_count": 0,
      "outputs": []
    },
    {
      "cell_type": "code",
      "metadata": {
        "id": "4xWoKhPY9Of5",
        "colab_type": "code",
        "outputId": "eb763712-c827-4ecb-db81-b99c5d119506",
        "colab": {
          "base_uri": "https://localhost:8080/",
          "height": 799
        }
      },
      "source": [
        "model.fit(X_train, Y_train, batch_size=64, nb_epoch=20, verbose=1)"
      ],
      "execution_count": 13,
      "outputs": [
        {
          "output_type": "stream",
          "text": [
            "WARNING:tensorflow:From /usr/local/lib/python3.6/dist-packages/tensorflow/python/ops/math_ops.py:3066: to_int32 (from tensorflow.python.ops.math_ops) is deprecated and will be removed in a future version.\n",
            "Instructions for updating:\n",
            "Use tf.cast instead.\n"
          ],
          "name": "stdout"
        },
        {
          "output_type": "stream",
          "text": [
            "/usr/local/lib/python3.6/dist-packages/ipykernel_launcher.py:1: UserWarning: The `nb_epoch` argument in `fit` has been renamed `epochs`.\n",
            "  \"\"\"Entry point for launching an IPython kernel.\n"
          ],
          "name": "stderr"
        },
        {
          "output_type": "stream",
          "text": [
            "Epoch 1/20\n",
            "60000/60000 [==============================] - 16s 269us/step - loss: 0.3375 - acc: 0.8915\n",
            "Epoch 2/20\n",
            "60000/60000 [==============================] - 12s 203us/step - loss: 0.1086 - acc: 0.9669\n",
            "Epoch 3/20\n",
            "60000/60000 [==============================] - 11s 183us/step - loss: 0.0821 - acc: 0.9746\n",
            "Epoch 4/20\n",
            "60000/60000 [==============================] - 11s 180us/step - loss: 0.0687 - acc: 0.9787\n",
            "Epoch 5/20\n",
            "60000/60000 [==============================] - 11s 182us/step - loss: 0.0570 - acc: 0.9826\n",
            "Epoch 6/20\n",
            "60000/60000 [==============================] - 11s 178us/step - loss: 0.0524 - acc: 0.9833\n",
            "Epoch 7/20\n",
            "60000/60000 [==============================] - 11s 184us/step - loss: 0.0459 - acc: 0.9854\n",
            "Epoch 8/20\n",
            "60000/60000 [==============================] - 12s 206us/step - loss: 0.0410 - acc: 0.9872\n",
            "Epoch 9/20\n",
            "60000/60000 [==============================] - 11s 177us/step - loss: 0.0384 - acc: 0.9878\n",
            "Epoch 10/20\n",
            "60000/60000 [==============================] - 12s 195us/step - loss: 0.0348 - acc: 0.9886\n",
            "Epoch 11/20\n",
            "60000/60000 [==============================] - 11s 188us/step - loss: 0.0322 - acc: 0.9901\n",
            "Epoch 12/20\n",
            "60000/60000 [==============================] - 14s 235us/step - loss: 0.0298 - acc: 0.9905\n",
            "Epoch 13/20\n",
            "60000/60000 [==============================] - 18s 299us/step - loss: 0.0280 - acc: 0.9911\n",
            "Epoch 14/20\n",
            "60000/60000 [==============================] - 21s 345us/step - loss: 0.0264 - acc: 0.9916\n",
            "Epoch 15/20\n",
            "60000/60000 [==============================] - 19s 323us/step - loss: 0.0246 - acc: 0.9921\n",
            "Epoch 16/20\n",
            "60000/60000 [==============================] - 19s 320us/step - loss: 0.0239 - acc: 0.9919\n",
            "Epoch 17/20\n",
            "60000/60000 [==============================] - 19s 324us/step - loss: 0.0219 - acc: 0.9927\n",
            "Epoch 18/20\n",
            "60000/60000 [==============================] - 21s 345us/step - loss: 0.0210 - acc: 0.9931\n",
            "Epoch 19/20\n",
            "60000/60000 [==============================] - 19s 323us/step - loss: 0.0197 - acc: 0.9934\n",
            "Epoch 20/20\n",
            "60000/60000 [==============================] - 20s 325us/step - loss: 0.0176 - acc: 0.9942\n"
          ],
          "name": "stdout"
        },
        {
          "output_type": "execute_result",
          "data": {
            "text/plain": [
              "<keras.callbacks.History at 0x7f1a5e823080>"
            ]
          },
          "metadata": {
            "tags": []
          },
          "execution_count": 13
        }
      ]
    },
    {
      "cell_type": "code",
      "metadata": {
        "id": "BChDmrWkOm42",
        "colab_type": "code",
        "outputId": "5a9ea7e0-b5d8-4b67-80e3-12f3c33feb3b",
        "colab": {
          "base_uri": "https://localhost:8080/",
          "height": 748
        }
      },
      "source": [
        "model.fit(X_train, Y_train, batch_size=64, nb_epoch=20, verbose=1)"
      ],
      "execution_count": 15,
      "outputs": [
        {
          "output_type": "stream",
          "text": [
            "Epoch 1/20\n",
            "  384/60000 [..............................] - ETA: 24s - loss: 0.0196 - acc: 0.9948"
          ],
          "name": "stdout"
        },
        {
          "output_type": "stream",
          "text": [
            "/usr/local/lib/python3.6/dist-packages/ipykernel_launcher.py:1: UserWarning: The `nb_epoch` argument in `fit` has been renamed `epochs`.\n",
            "  \"\"\"Entry point for launching an IPython kernel.\n"
          ],
          "name": "stderr"
        },
        {
          "output_type": "stream",
          "text": [
            "60000/60000 [==============================] - 19s 319us/step - loss: 0.0194 - acc: 0.9935\n",
            "Epoch 2/20\n",
            "60000/60000 [==============================] - 19s 316us/step - loss: 0.0159 - acc: 0.9946\n",
            "Epoch 3/20\n",
            "60000/60000 [==============================] - 19s 320us/step - loss: 0.0171 - acc: 0.9945\n",
            "Epoch 4/20\n",
            "60000/60000 [==============================] - 20s 339us/step - loss: 0.0144 - acc: 0.9950\n",
            "Epoch 5/20\n",
            "60000/60000 [==============================] - 19s 311us/step - loss: 0.0151 - acc: 0.9948\n",
            "Epoch 6/20\n",
            "60000/60000 [==============================] - 19s 323us/step - loss: 0.0142 - acc: 0.9953\n",
            "Epoch 7/20\n",
            "60000/60000 [==============================] - 14s 230us/step - loss: 0.0137 - acc: 0.9955\n",
            "Epoch 8/20\n",
            "60000/60000 [==============================] - 11s 177us/step - loss: 0.0145 - acc: 0.9951\n",
            "Epoch 9/20\n",
            "60000/60000 [==============================] - 12s 198us/step - loss: 0.0129 - acc: 0.9958\n",
            "Epoch 10/20\n",
            "60000/60000 [==============================] - 11s 181us/step - loss: 0.0129 - acc: 0.9955\n",
            "Epoch 11/20\n",
            "60000/60000 [==============================] - 11s 182us/step - loss: 0.0122 - acc: 0.9960\n",
            "Epoch 12/20\n",
            "60000/60000 [==============================] - 11s 183us/step - loss: 0.0119 - acc: 0.9960\n",
            "Epoch 13/20\n",
            "60000/60000 [==============================] - 11s 177us/step - loss: 0.0107 - acc: 0.9964\n",
            "Epoch 14/20\n",
            "60000/60000 [==============================] - 11s 178us/step - loss: 0.0117 - acc: 0.9961\n",
            "Epoch 15/20\n",
            "60000/60000 [==============================] - 11s 187us/step - loss: 0.0111 - acc: 0.9959\n",
            "Epoch 16/20\n",
            "60000/60000 [==============================] - 12s 207us/step - loss: 0.0117 - acc: 0.9960\n",
            "Epoch 17/20\n",
            "60000/60000 [==============================] - 11s 186us/step - loss: 0.0091 - acc: 0.9971\n",
            "Epoch 18/20\n",
            "60000/60000 [==============================] - 11s 176us/step - loss: 0.0091 - acc: 0.9970\n",
            "Epoch 19/20\n",
            "60000/60000 [==============================] - 11s 177us/step - loss: 0.0102 - acc: 0.9964\n",
            "Epoch 20/20\n",
            "60000/60000 [==============================] - 11s 179us/step - loss: 0.0100 - acc: 0.9969\n"
          ],
          "name": "stdout"
        },
        {
          "output_type": "execute_result",
          "data": {
            "text/plain": [
              "<keras.callbacks.History at 0x7f1a5adb0860>"
            ]
          },
          "metadata": {
            "tags": []
          },
          "execution_count": 15
        }
      ]
    },
    {
      "cell_type": "code",
      "metadata": {
        "id": "AtsH-lLk-eLb",
        "colab_type": "code",
        "colab": {}
      },
      "source": [
        "score = model.evaluate(X_test, Y_test, verbose=0)"
      ],
      "execution_count": 0,
      "outputs": []
    },
    {
      "cell_type": "code",
      "metadata": {
        "id": "mkX8JMv79q9r",
        "colab_type": "code",
        "outputId": "cefcb858-d406-408d-ac36-069d84006278",
        "colab": {
          "base_uri": "https://localhost:8080/",
          "height": 34
        }
      },
      "source": [
        "print(score)"
      ],
      "execution_count": 17,
      "outputs": [
        {
          "output_type": "stream",
          "text": [
            "[0.047876747752471104, 0.989]\n"
          ],
          "name": "stdout"
        }
      ]
    },
    {
      "cell_type": "code",
      "metadata": {
        "id": "OCWoJkwE9suh",
        "colab_type": "code",
        "colab": {}
      },
      "source": [
        "y_pred = model.predict(X_test)"
      ],
      "execution_count": 0,
      "outputs": []
    },
    {
      "cell_type": "code",
      "metadata": {
        "id": "Ym7iCFBm9uBs",
        "colab_type": "code",
        "outputId": "cbfa9cf7-f346-4509-ae09-6c8e565edb69",
        "colab": {
          "base_uri": "https://localhost:8080/",
          "height": 493
        }
      },
      "source": [
        "print(y_pred[:9])\n",
        "print(y_test[:9])"
      ],
      "execution_count": 19,
      "outputs": [
        {
          "output_type": "stream",
          "text": [
            "[[9.69639511e-17 3.18365403e-11 2.53272141e-08 2.63044808e-10\n",
            "  2.03350411e-19 6.02918158e-16 1.09338102e-31 1.00000000e+00\n",
            "  2.72957738e-22 5.19716462e-15]\n",
            " [5.05127590e-14 1.05597142e-10 1.00000000e+00 1.51584272e-19\n",
            "  6.86012935e-18 5.31398100e-23 7.62555895e-15 5.09506129e-25\n",
            "  1.36879984e-15 5.35144651e-25]\n",
            " [3.76226522e-10 9.99998927e-01 2.46598464e-10 1.14864741e-11\n",
            "  5.19695220e-07 4.21544848e-11 1.43720586e-14 2.05433977e-07\n",
            "  1.81937008e-08 2.80003434e-07]\n",
            " [9.99999881e-01 5.36812478e-12 6.05718531e-10 1.30579597e-12\n",
            "  1.38715950e-09 7.05750805e-11 1.37719454e-07 8.80294999e-15\n",
            "  1.03135191e-11 1.17425303e-09]\n",
            " [9.17848957e-12 5.14650070e-14 1.32496248e-20 1.58221440e-19\n",
            "  9.99999404e-01 2.95493339e-12 3.73334502e-10 9.87559210e-13\n",
            "  6.83923607e-14 5.67213021e-07]\n",
            " [2.45140575e-11 9.99999762e-01 6.62167474e-11 2.57666338e-14\n",
            "  1.20330043e-07 1.03206645e-14 7.96822369e-16 1.12225628e-07\n",
            "  5.68709790e-09 4.58958596e-08]\n",
            " [4.44018577e-22 5.04731812e-10 8.86408121e-14 2.33994196e-19\n",
            "  1.00000000e+00 1.90422896e-15 2.72539477e-22 1.21261912e-09\n",
            "  1.76666626e-10 1.19603065e-08]\n",
            " [4.76158513e-16 2.52278726e-10 1.17329392e-07 1.16479153e-15\n",
            "  2.97854654e-03 2.31127912e-11 2.12422070e-18 2.66549734e-11\n",
            "  2.88729947e-08 9.97021377e-01]\n",
            " [7.69458944e-04 3.70011057e-17 8.60530536e-11 1.79818638e-09\n",
            "  4.14074672e-19 8.89816973e-03 9.87594724e-01 3.59999220e-16\n",
            "  2.73757242e-03 5.13575597e-12]]\n",
            "[7 2 1 0 4 1 4 9 5]\n"
          ],
          "name": "stdout"
        }
      ]
    },
    {
      "cell_type": "code",
      "metadata": {
        "id": "CT--y98_dr2T",
        "colab_type": "code",
        "colab": {}
      },
      "source": [
        "layer_dict = dict([(layer.name, layer) for layer in model.layers])"
      ],
      "execution_count": 0,
      "outputs": []
    },
    {
      "cell_type": "code",
      "metadata": {
        "id": "2GY4Upv4dsUR",
        "colab_type": "code",
        "outputId": "7c6c664e-5203-48d6-aade-7783aa82cf59",
        "colab": {
          "base_uri": "https://localhost:8080/",
          "height": 741
        }
      },
      "source": [
        "import numpy as np\n",
        "from matplotlib import pyplot as plt\n",
        "from keras import backend as K\n",
        "%matplotlib inline\n",
        "# util function to convert a tensor into a valid image\n",
        "def deprocess_image(x):\n",
        "    # normalize tensor: center on 0., ensure std is 0.1\n",
        "    x -= x.mean()\n",
        "    x /= (x.std() + 1e-5)\n",
        "    x *= 0.1\n",
        "\n",
        "    # clip to [0, 1]\n",
        "    x += 0.5\n",
        "    x = np.clip(x, 0, 1)\n",
        "\n",
        "    # convert to RGB array\n",
        "    x *= 255\n",
        "    #x = x.transpose((1, 2, 0))\n",
        "    x = np.clip(x, 0, 255).astype('uint8')\n",
        "    return x\n",
        "\n",
        "def vis_img_in_filter(img = np.array(X_train[2]).reshape((1, 28, 28, 1)).astype(np.float64), \n",
        "                      layer_name = 'conv2d_2'):\n",
        "    layer_output = layer_dict[layer_name].output\n",
        "    img_ascs = list()\n",
        "    for filter_index in range(layer_output.shape[3]):\n",
        "        # build a loss function that maximizes the activation\n",
        "        # of the nth filter of the layer considered\n",
        "        loss = K.mean(layer_output[:, :, :, filter_index])\n",
        "\n",
        "        # compute the gradient of the input picture wrt this loss\n",
        "        grads = K.gradients(loss, model.input)[0]\n",
        "\n",
        "        # normalization trick: we normalize the gradient\n",
        "        grads /= (K.sqrt(K.mean(K.square(grads))) + 1e-5)\n",
        "\n",
        "        # this function returns the loss and grads given the input picture\n",
        "        iterate = K.function([model.input], [loss, grads])\n",
        "\n",
        "        # step size for gradient ascent\n",
        "        step = 5.\n",
        "\n",
        "        img_asc = np.array(img)\n",
        "        # run gradient ascent for 20 steps\n",
        "        for i in range(20):\n",
        "            loss_value, grads_value = iterate([img_asc])\n",
        "            img_asc += grads_value * step\n",
        "\n",
        "        img_asc = img_asc[0]\n",
        "        img_ascs.append(deprocess_image(img_asc).reshape((28, 28)))\n",
        "        \n",
        "    if layer_output.shape[3] >= 35:\n",
        "        plot_x, plot_y = 6, 6\n",
        "    elif layer_output.shape[3] >= 23:\n",
        "        plot_x, plot_y = 4, 6\n",
        "    elif layer_output.shape[3] >= 11:\n",
        "        plot_x, plot_y = 2, 6\n",
        "    else:\n",
        "        plot_x, plot_y = 1, 2\n",
        "    fig, ax = plt.subplots(plot_x, plot_y, figsize = (12, 12))\n",
        "    ax[0, 0].imshow(img.reshape((28, 28)), cmap = 'gray')\n",
        "    ax[0, 0].set_title('Input image')\n",
        "    fig.suptitle('Input image and %s filters' % (layer_name,))\n",
        "    fig.tight_layout(pad = 0.3, rect = [0, 0, 0.9, 0.9])\n",
        "    for (x, y) in [(i, j) for i in range(plot_x) for j in range(plot_y)]:\n",
        "        if x == 0 and y == 0:\n",
        "            continue\n",
        "        ax[x, y].imshow(img_ascs[x * plot_y + y - 1], cmap = 'gray')\n",
        "        ax[x, y].set_title('filter %d' % (x * plot_y + y - 1))\n",
        "\n",
        "vis_img_in_filter()"
      ],
      "execution_count": 22,
      "outputs": [
        {
          "output_type": "display_data",
          "data": {
            "image/png": "[encoded data removed]",
            "text/plain": [
              "<Figure size 864x864 with 12 Axes>"
            ]
          },
          "metadata": {
            "tags": []
          }
        }
      ]
    }
  ]
}