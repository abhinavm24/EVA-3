{
  "nbformat": 4,
  "nbformat_minor": 0,
  "metadata": {
    "colab": {
      "name": "EVA_4a.ipynb",
      "version": "0.3.2",
      "provenance": [],
      "collapsed_sections": []
    },
    "kernelspec": {
      "name": "python3",
      "display_name": "Python 3"
    },
    "accelerator": "GPU"
  },
  "cells": [
    {
      "cell_type": "markdown",
      "metadata": {
        "id": "LXmobMCNGCAi",
        "colab_type": "text"
      },
      "source": [
        "**Iteration 1: Vanilla Network**"
      ]
    },
    {
      "cell_type": "markdown",
      "metadata": {
        "id": "aNyZv-Ec52ot",
        "colab_type": "text"
      },
      "source": [
        "# **Import Libraries and modules**"
      ]
    },
    {
      "cell_type": "code",
      "metadata": {
        "id": "3m3w1Cw49Zkt",
        "colab_type": "code",
        "outputId": "3c0a360f-6f61-4d8e-b8bd-19919412cbc4",
        "colab": {
          "base_uri": "https://localhost:8080/",
          "height": 34
        }
      },
      "source": [
        "# https://keras.io/\n",
        "!pip install -q keras\n",
        "import keras"
      ],
      "execution_count": 1,
      "outputs": [
        {
          "output_type": "stream",
          "text": [
            "Using TensorFlow backend.\n"
          ],
          "name": "stderr"
        }
      ]
    },
    {
      "cell_type": "code",
      "metadata": {
        "id": "Eso6UHE080D4",
        "colab_type": "code",
        "colab": {}
      },
      "source": [
        "import numpy as np\n",
        "\n",
        "from keras.models import Sequential\n",
        "from keras.layers import Dense, Dropout, Activation, Flatten, Add, BatchNormalization, Dropout\n",
        "from keras.layers import Convolution2D, MaxPooling2D\n",
        "from keras.utils import np_utils\n",
        "\n",
        "from keras.datasets import mnist"
      ],
      "execution_count": 0,
      "outputs": []
    },
    {
      "cell_type": "markdown",
      "metadata": {
        "id": "zByEi95J86RD",
        "colab_type": "text"
      },
      "source": [
        "### Load pre-shuffled MNIST data into train and test sets"
      ]
    },
    {
      "cell_type": "code",
      "metadata": {
        "id": "7eRM0QWN83PV",
        "colab_type": "code",
        "colab": {}
      },
      "source": [
        "(X_train, y_train), (X_test, y_test) = mnist.load_data()"
      ],
      "execution_count": 0,
      "outputs": []
    },
    {
      "cell_type": "code",
      "metadata": {
        "id": "4a4Be72j8-ZC",
        "colab_type": "code",
        "outputId": "9272e9ca-c844-4801-a022-1d6cae77f554",
        "colab": {
          "base_uri": "https://localhost:8080/",
          "height": 303
        }
      },
      "source": [
        "print (X_train.shape)\n",
        "from matplotlib import pyplot as plt\n",
        "%matplotlib inline\n",
        "plt.imshow(X_train[0])"
      ],
      "execution_count": 4,
      "outputs": [
        {
          "output_type": "stream",
          "text": [
            "(60000, 28, 28)\n"
          ],
          "name": "stdout"
        },
        {
          "output_type": "execute_result",
          "data": {
            "text/plain": [
              "<matplotlib.image.AxesImage at 0x7f3929b392e8>"
            ]
          },
          "metadata": {
            "tags": []
          },
          "execution_count": 4
        },
        {
          "output_type": "display_data",
          "data": {
            "image/png": "[encoded data removed]",
            "text/plain": [
              "<Figure size 432x288 with 1 Axes>"
            ]
          },
          "metadata": {
            "tags": []
          }
        }
      ]
    },
    {
      "cell_type": "code",
      "metadata": {
        "id": "dkmprriw9AnZ",
        "colab_type": "code",
        "colab": {}
      },
      "source": [
        "X_train = X_train.reshape(X_train.shape[0], 28, 28,1)\n",
        "X_test = X_test.reshape(X_test.shape[0], 28, 28,1)"
      ],
      "execution_count": 0,
      "outputs": []
    },
    {
      "cell_type": "code",
      "metadata": {
        "id": "X2m4YS4E9CRh",
        "colab_type": "code",
        "colab": {}
      },
      "source": [
        "X_train = X_train.astype('float32')\n",
        "X_test = X_test.astype('float32')\n",
        "X_train /= 255\n",
        "X_test /= 255"
      ],
      "execution_count": 0,
      "outputs": []
    },
    {
      "cell_type": "code",
      "metadata": {
        "id": "0Mn0vAYD9DvB",
        "colab_type": "code",
        "outputId": "b129e004-97ca-46f4-b68e-db19c0aac287",
        "colab": {
          "base_uri": "https://localhost:8080/",
          "height": 34
        }
      },
      "source": [
        "y_train[:10]"
      ],
      "execution_count": 7,
      "outputs": [
        {
          "output_type": "execute_result",
          "data": {
            "text/plain": [
              "array([5, 0, 4, 1, 9, 2, 1, 3, 1, 4], dtype=uint8)"
            ]
          },
          "metadata": {
            "tags": []
          },
          "execution_count": 7
        }
      ]
    },
    {
      "cell_type": "code",
      "metadata": {
        "id": "ZG8JiXR39FHC",
        "colab_type": "code",
        "colab": {}
      },
      "source": [
        "# Convert 1-dimensional class arrays to 10-dimensional class matrices\n",
        "Y_train = np_utils.to_categorical(y_train, 10)\n",
        "Y_test = np_utils.to_categorical(y_test, 10)"
      ],
      "execution_count": 0,
      "outputs": []
    },
    {
      "cell_type": "code",
      "metadata": {
        "id": "fYlFRvKS9HMB",
        "colab_type": "code",
        "outputId": "7a316bac-5f2c-495c-aff2-330f527377d1",
        "colab": {
          "base_uri": "https://localhost:8080/",
          "height": 187
        }
      },
      "source": [
        "Y_train[:10]\n"
      ],
      "execution_count": 9,
      "outputs": [
        {
          "output_type": "execute_result",
          "data": {
            "text/plain": [
              "array([[0., 0., 0., 0., 0., 1., 0., 0., 0., 0.],\n",
              "       [1., 0., 0., 0., 0., 0., 0., 0., 0., 0.],\n",
              "       [0., 0., 0., 0., 1., 0., 0., 0., 0., 0.],\n",
              "       [0., 1., 0., 0., 0., 0., 0., 0., 0., 0.],\n",
              "       [0., 0., 0., 0., 0., 0., 0., 0., 0., 1.],\n",
              "       [0., 0., 1., 0., 0., 0., 0., 0., 0., 0.],\n",
              "       [0., 1., 0., 0., 0., 0., 0., 0., 0., 0.],\n",
              "       [0., 0., 0., 1., 0., 0., 0., 0., 0., 0.],\n",
              "       [0., 1., 0., 0., 0., 0., 0., 0., 0., 0.],\n",
              "       [0., 0., 0., 0., 1., 0., 0., 0., 0., 0.]], dtype=float32)"
            ]
          },
          "metadata": {
            "tags": []
          },
          "execution_count": 9
        }
      ]
    },
    {
      "cell_type": "code",
      "metadata": {
        "id": "osKqT73Q9JJB",
        "colab_type": "code",
        "outputId": "eb2b036a-4025-448d-8973-84b936b9bb9c",
        "colab": {
          "base_uri": "https://localhost:8080/",
          "height": 255
        }
      },
      "source": [
        "from keras.layers import Activation\n",
        "model = Sequential()\n",
        "\n",
        " \n",
        "model.add(Convolution2D(32, 3, 3, activation='relu', input_shape=(28,28,1))) # 26 \n",
        "model.add(Convolution2D(64, 3, 3, activation='relu')) # 24\n",
        "\n",
        "model.add(Convolution2D(32, 1, 1, activation='relu')) # 24\n",
        "model.add(MaxPooling2D(pool_size=(2, 2))) # 12\n",
        "\n",
        "model.add(Convolution2D(64, 3, 3, activation='relu')) # 10\n",
        "model.add(Convolution2D(128, 3, 3, activation='relu')) # 8\n",
        "model.add(Convolution2D(256, 3, 3, activation='relu')) # 6\n",
        "model.add(Convolution2D(512, 3, 3, activation='relu')) # 4\n",
        "\n",
        "model.add(Convolution2D(10, 1, activation='relu')) # 4\n",
        "model.add(Convolution2D(10, 4))\n",
        "model.add(Flatten())\n",
        "model.add(Activation('softmax'))"
      ],
      "execution_count": 15,
      "outputs": [
        {
          "output_type": "stream",
          "text": [
            "/usr/local/lib/python3.6/dist-packages/ipykernel_launcher.py:5: UserWarning: Update your `Conv2D` call to the Keras 2 API: `Conv2D(32, (3, 3), activation=\"relu\", input_shape=(28, 28, 1...)`\n",
            "  \"\"\"\n",
            "/usr/local/lib/python3.6/dist-packages/ipykernel_launcher.py:6: UserWarning: Update your `Conv2D` call to the Keras 2 API: `Conv2D(64, (3, 3), activation=\"relu\")`\n",
            "  \n",
            "/usr/local/lib/python3.6/dist-packages/ipykernel_launcher.py:8: UserWarning: Update your `Conv2D` call to the Keras 2 API: `Conv2D(32, (1, 1), activation=\"relu\")`\n",
            "  \n",
            "/usr/local/lib/python3.6/dist-packages/ipykernel_launcher.py:11: UserWarning: Update your `Conv2D` call to the Keras 2 API: `Conv2D(64, (3, 3), activation=\"relu\")`\n",
            "  # This is added back by InteractiveShellApp.init_path()\n",
            "/usr/local/lib/python3.6/dist-packages/ipykernel_launcher.py:12: UserWarning: Update your `Conv2D` call to the Keras 2 API: `Conv2D(128, (3, 3), activation=\"relu\")`\n",
            "  if sys.path[0] == '':\n",
            "/usr/local/lib/python3.6/dist-packages/ipykernel_launcher.py:13: UserWarning: Update your `Conv2D` call to the Keras 2 API: `Conv2D(256, (3, 3), activation=\"relu\")`\n",
            "  del sys.path[0]\n",
            "/usr/local/lib/python3.6/dist-packages/ipykernel_launcher.py:14: UserWarning: Update your `Conv2D` call to the Keras 2 API: `Conv2D(512, (3, 3), activation=\"relu\")`\n",
            "  \n"
          ],
          "name": "stderr"
        }
      ]
    },
    {
      "cell_type": "code",
      "metadata": {
        "id": "TzdAYg1k9K7Z",
        "colab_type": "code",
        "outputId": "b14ede61-fc21-4648-d0a5-9818ed977abd",
        "colab": {
          "base_uri": "https://localhost:8080/",
          "height": 544
        }
      },
      "source": [
        "model.summary()"
      ],
      "execution_count": 16,
      "outputs": [
        {
          "output_type": "stream",
          "text": [
            "_________________________________________________________________\n",
            "Layer (type)                 Output Shape              Param #   \n",
            "=================================================================\n",
            "conv2d_10 (Conv2D)           (None, 26, 26, 32)        320       \n",
            "_________________________________________________________________\n",
            "conv2d_11 (Conv2D)           (None, 24, 24, 64)        18496     \n",
            "_________________________________________________________________\n",
            "conv2d_12 (Conv2D)           (None, 24, 24, 32)        2080      \n",
            "_________________________________________________________________\n",
            "max_pooling2d_2 (MaxPooling2 (None, 12, 12, 32)        0         \n",
            "_________________________________________________________________\n",
            "conv2d_13 (Conv2D)           (None, 10, 10, 64)        18496     \n",
            "_________________________________________________________________\n",
            "conv2d_14 (Conv2D)           (None, 8, 8, 128)         73856     \n",
            "_________________________________________________________________\n",
            "conv2d_15 (Conv2D)           (None, 6, 6, 256)         295168    \n",
            "_________________________________________________________________\n",
            "conv2d_16 (Conv2D)           (None, 4, 4, 512)         1180160   \n",
            "_________________________________________________________________\n",
            "conv2d_17 (Conv2D)           (None, 4, 4, 10)          5130      \n",
            "_________________________________________________________________\n",
            "conv2d_18 (Conv2D)           (None, 1, 1, 10)          1610      \n",
            "_________________________________________________________________\n",
            "flatten_2 (Flatten)          (None, 10)                0         \n",
            "_________________________________________________________________\n",
            "activation_2 (Activation)    (None, 10)                0         \n",
            "=================================================================\n",
            "Total params: 1,595,316\n",
            "Trainable params: 1,595,316\n",
            "Non-trainable params: 0\n",
            "_________________________________________________________________\n"
          ],
          "name": "stdout"
        }
      ]
    },
    {
      "cell_type": "code",
      "metadata": {
        "id": "Zp6SuGrL9M3h",
        "colab_type": "code",
        "colab": {}
      },
      "source": [
        "model.compile(loss='categorical_crossentropy', \n",
        "              optimizer='Adam', \n",
        "              metrics=['accuracy'])"
      ],
      "execution_count": 0,
      "outputs": []
    },
    {
      "cell_type": "code",
      "metadata": {
        "id": "4xWoKhPY9Of5",
        "colab_type": "code",
        "outputId": "b1179819-e912-4b94-c44f-5cc88cb9c287",
        "colab": {
          "base_uri": "https://localhost:8080/",
          "height": 748
        }
      },
      "source": [
        "model.fit(X_train, Y_train, batch_size=64, nb_epoch=20, verbose=1)"
      ],
      "execution_count": 18,
      "outputs": [
        {
          "output_type": "stream",
          "text": [
            "/usr/local/lib/python3.6/dist-packages/ipykernel_launcher.py:1: UserWarning: The `nb_epoch` argument in `fit` has been renamed `epochs`.\n",
            "  \"\"\"Entry point for launching an IPython kernel.\n"
          ],
          "name": "stderr"
        },
        {
          "output_type": "stream",
          "text": [
            "Epoch 1/20\n",
            "60000/60000 [==============================] - 11s 179us/step - loss: 0.1725 - acc: 0.9459\n",
            "Epoch 2/20\n",
            "60000/60000 [==============================] - 10s 167us/step - loss: 0.0499 - acc: 0.9844\n",
            "Epoch 3/20\n",
            "60000/60000 [==============================] - 10s 167us/step - loss: 0.0379 - acc: 0.9881\n",
            "Epoch 4/20\n",
            "60000/60000 [==============================] - 10s 168us/step - loss: 0.0306 - acc: 0.9909\n",
            "Epoch 5/20\n",
            "60000/60000 [==============================] - 10s 168us/step - loss: 0.0267 - acc: 0.9916\n",
            "Epoch 6/20\n",
            "60000/60000 [==============================] - 10s 169us/step - loss: 0.0208 - acc: 0.9932\n",
            "Epoch 7/20\n",
            "60000/60000 [==============================] - 10s 170us/step - loss: 0.0191 - acc: 0.9940\n",
            "Epoch 8/20\n",
            "60000/60000 [==============================] - 11s 177us/step - loss: 0.0152 - acc: 0.9952\n",
            "Epoch 9/20\n",
            "60000/60000 [==============================] - 10s 170us/step - loss: 0.0144 - acc: 0.9955\n",
            "Epoch 10/20\n",
            "60000/60000 [==============================] - 10s 169us/step - loss: 0.0139 - acc: 0.9956\n",
            "Epoch 11/20\n",
            "60000/60000 [==============================] - 10s 171us/step - loss: 0.0110 - acc: 0.9962\n",
            "Epoch 12/20\n",
            "60000/60000 [==============================] - 10s 170us/step - loss: 0.0112 - acc: 0.9966\n",
            "Epoch 13/20\n",
            "60000/60000 [==============================] - 10s 168us/step - loss: 0.0098 - acc: 0.9969\n",
            "Epoch 14/20\n",
            "60000/60000 [==============================] - 10s 168us/step - loss: 0.0104 - acc: 0.9969\n",
            "Epoch 15/20\n",
            "60000/60000 [==============================] - 10s 169us/step - loss: 0.0064 - acc: 0.9981\n",
            "Epoch 16/20\n",
            "60000/60000 [==============================] - 11s 175us/step - loss: 0.0111 - acc: 0.9966\n",
            "Epoch 17/20\n",
            "60000/60000 [==============================] - 10s 168us/step - loss: 0.0073 - acc: 0.9979\n",
            "Epoch 18/20\n",
            "60000/60000 [==============================] - 10s 168us/step - loss: 0.0081 - acc: 0.9975\n",
            "Epoch 19/20\n",
            "60000/60000 [==============================] - 10s 168us/step - loss: 0.0093 - acc: 0.9972\n",
            "Epoch 20/20\n",
            "60000/60000 [==============================] - 10s 167us/step - loss: 0.0068 - acc: 0.9980\n"
          ],
          "name": "stdout"
        },
        {
          "output_type": "execute_result",
          "data": {
            "text/plain": [
              "<keras.callbacks.History at 0x7f391a163cf8>"
            ]
          },
          "metadata": {
            "tags": []
          },
          "execution_count": 18
        }
      ]
    },
    {
      "cell_type": "code",
      "metadata": {
        "id": "BChDmrWkOm42",
        "colab_type": "code",
        "outputId": "6c18ff32-ab02-4c79-d56c-b577ea634dee",
        "colab": {
          "base_uri": "https://localhost:8080/",
          "height": 748
        }
      },
      "source": [
        "model.fit(X_train, Y_train, batch_size=64, nb_epoch=20, verbose=1)"
      ],
      "execution_count": 19,
      "outputs": [
        {
          "output_type": "stream",
          "text": [
            "Epoch 1/20\n",
            " 1024/60000 [..............................] - ETA: 10s - loss: 0.0059 - acc: 0.9980"
          ],
          "name": "stdout"
        },
        {
          "output_type": "stream",
          "text": [
            "/usr/local/lib/python3.6/dist-packages/ipykernel_launcher.py:1: UserWarning: The `nb_epoch` argument in `fit` has been renamed `epochs`.\n",
            "  \"\"\"Entry point for launching an IPython kernel.\n"
          ],
          "name": "stderr"
        },
        {
          "output_type": "stream",
          "text": [
            "60000/60000 [==============================] - 10s 168us/step - loss: 0.0059 - acc: 0.9982\n",
            "Epoch 2/20\n",
            "60000/60000 [==============================] - 10s 168us/step - loss: 0.0087 - acc: 0.9974\n",
            "Epoch 3/20\n",
            "60000/60000 [==============================] - 10s 169us/step - loss: 0.0071 - acc: 0.9980\n",
            "Epoch 4/20\n",
            "60000/60000 [==============================] - 10s 174us/step - loss: 0.0055 - acc: 0.9986\n",
            "Epoch 5/20\n",
            "60000/60000 [==============================] - 10s 168us/step - loss: 0.0061 - acc: 0.9984\n",
            "Epoch 6/20\n",
            "60000/60000 [==============================] - 10s 168us/step - loss: 0.0059 - acc: 0.9984\n",
            "Epoch 7/20\n",
            "60000/60000 [==============================] - 10s 167us/step - loss: 0.0085 - acc: 0.9977\n",
            "Epoch 8/20\n",
            "60000/60000 [==============================] - 11s 175us/step - loss: 0.0046 - acc: 0.9988\n",
            "Epoch 9/20\n",
            "60000/60000 [==============================] - 10s 168us/step - loss: 0.0070 - acc: 0.9984\n",
            "Epoch 10/20\n",
            "60000/60000 [==============================] - 10s 167us/step - loss: 0.0064 - acc: 0.9982\n",
            "Epoch 11/20\n",
            "60000/60000 [==============================] - 10s 169us/step - loss: 0.0055 - acc: 0.9986\n",
            "Epoch 12/20\n",
            "60000/60000 [==============================] - 10s 174us/step - loss: 0.0047 - acc: 0.9989\n",
            "Epoch 13/20\n",
            "60000/60000 [==============================] - 10s 167us/step - loss: 0.0075 - acc: 0.9980\n",
            "Epoch 14/20\n",
            "60000/60000 [==============================] - 10s 167us/step - loss: 0.0070 - acc: 0.9982\n",
            "Epoch 15/20\n",
            "60000/60000 [==============================] - 10s 167us/step - loss: 0.0045 - acc: 0.9988\n",
            "Epoch 16/20\n",
            "60000/60000 [==============================] - 10s 167us/step - loss: 0.0053 - acc: 0.9985\n",
            "Epoch 17/20\n",
            "60000/60000 [==============================] - 10s 167us/step - loss: 0.0028 - acc: 0.9993\n",
            "Epoch 18/20\n",
            "60000/60000 [==============================] - 10s 167us/step - loss: 0.0079 - acc: 0.9981\n",
            "Epoch 19/20\n",
            "60000/60000 [==============================] - 10s 169us/step - loss: 0.0064 - acc: 0.9984\n",
            "Epoch 20/20\n",
            "60000/60000 [==============================] - 10s 172us/step - loss: 0.0049 - acc: 0.9987\n"
          ],
          "name": "stdout"
        },
        {
          "output_type": "execute_result",
          "data": {
            "text/plain": [
              "<keras.callbacks.History at 0x7f391a1843c8>"
            ]
          },
          "metadata": {
            "tags": []
          },
          "execution_count": 19
        }
      ]
    },
    {
      "cell_type": "code",
      "metadata": {
        "id": "AtsH-lLk-eLb",
        "colab_type": "code",
        "colab": {}
      },
      "source": [
        "score = model.evaluate(X_test, Y_test, verbose=0)"
      ],
      "execution_count": 0,
      "outputs": []
    },
    {
      "cell_type": "code",
      "metadata": {
        "id": "mkX8JMv79q9r",
        "colab_type": "code",
        "outputId": "61a7ca30-2b24-464c-b230-aa45a3e1288d",
        "colab": {
          "base_uri": "https://localhost:8080/",
          "height": 34
        }
      },
      "source": [
        "print(score)"
      ],
      "execution_count": 21,
      "outputs": [
        {
          "output_type": "stream",
          "text": [
            "[0.05416861307784409, 0.9914]\n"
          ],
          "name": "stdout"
        }
      ]
    },
    {
      "cell_type": "code",
      "metadata": {
        "id": "OCWoJkwE9suh",
        "colab_type": "code",
        "colab": {}
      },
      "source": [
        "y_pred = model.predict(X_test)"
      ],
      "execution_count": 0,
      "outputs": []
    },
    {
      "cell_type": "code",
      "metadata": {
        "id": "Ym7iCFBm9uBs",
        "colab_type": "code",
        "outputId": "d5de6d13-8ed5-4909-bd0e-5d81253c1f27",
        "colab": {
          "base_uri": "https://localhost:8080/",
          "height": 340
        }
      },
      "source": [
        "print(y_pred[:9])\n",
        "print(y_test[:9])"
      ],
      "execution_count": 23,
      "outputs": [
        {
          "output_type": "stream",
          "text": [
            "[[3.0917173e-38 2.6289064e-30 2.0187572e-19 2.2058244e-19 7.1666076e-12\n",
            "  2.5813980e-20 0.0000000e+00 1.0000000e+00 0.0000000e+00 2.2577791e-13]\n",
            " [5.2523247e-18 8.2619549e-20 1.0000000e+00 6.8002291e-18 1.7358401e-21\n",
            "  2.6803393e-29 7.3104052e-17 1.5228167e-17 2.2446869e-17 0.0000000e+00]\n",
            " [5.4923766e-16 1.0000000e+00 4.8217266e-14 3.5372213e-12 7.6455437e-14\n",
            "  9.2056329e-20 6.3082170e-17 1.2184150e-13 3.5149834e-14 1.3844566e-19]\n",
            " [1.0000000e+00 3.8404360e-28 1.9694849e-16 6.5302620e-20 6.6299094e-28\n",
            "  2.1667226e-16 1.4462184e-18 6.6782248e-17 2.0921744e-17 4.8576616e-18]\n",
            " [3.0344283e-16 5.2881385e-15 1.6620386e-23 1.8833805e-22 1.0000000e+00\n",
            "  4.5302422e-17 1.8541163e-16 4.3608317e-17 3.0455294e-10 3.2461154e-09]\n",
            " [2.5653207e-26 1.0000000e+00 5.6329177e-20 8.3579371e-21 1.5278226e-22\n",
            "  1.2292589e-26 6.6594460e-26 1.2250994e-15 1.4700124e-19 6.1046895e-26]\n",
            " [4.7630156e-18 3.8942294e-10 3.3077079e-21 4.4968217e-25 1.0000000e+00\n",
            "  2.0956678e-22 4.4411638e-24 8.7089773e-11 8.2968402e-16 1.6173063e-16]\n",
            " [1.7100592e-18 4.7747582e-22 9.9403793e-28 1.7850982e-19 1.8371806e-12\n",
            "  1.4256887e-10 7.0625471e-33 1.1690723e-25 8.1556581e-17 1.0000000e+00]\n",
            " [2.4878881e-09 6.3439243e-10 1.6937807e-15 4.6241716e-10 2.9784126e-13\n",
            "  9.9994361e-01 5.6242097e-05 4.7292860e-12 1.1567813e-07 6.8691702e-14]]\n",
            "[7 2 1 0 4 1 4 9 5]\n"
          ],
          "name": "stdout"
        }
      ]
    },
    {
      "cell_type": "code",
      "metadata": {
        "id": "CT--y98_dr2T",
        "colab_type": "code",
        "colab": {}
      },
      "source": [
        "layer_dict = dict([(layer.name, layer) for layer in model.layers])"
      ],
      "execution_count": 0,
      "outputs": []
    },
    {
      "cell_type": "code",
      "metadata": {
        "id": "2GY4Upv4dsUR",
        "colab_type": "code",
        "outputId": "d7dafaf3-cbe6-48ab-d790-030d7dc16a71",
        "colab": {
          "base_uri": "https://localhost:8080/",
          "height": 868
        }
      },
      "source": [
        "import numpy as np\n",
        "from matplotlib import pyplot as plt\n",
        "from keras import backend as K\n",
        "%matplotlib inline\n",
        "# util function to convert a tensor into a valid image\n",
        "def deprocess_image(x):\n",
        "    # normalize tensor: center on 0., ensure std is 0.1\n",
        "    x -= x.mean()\n",
        "    x /= (x.std() + 1e-5)\n",
        "    x *= 0.1\n",
        "\n",
        "    # clip to [0, 1]\n",
        "    x += 0.5\n",
        "    x = np.clip(x, 0, 1)\n",
        "\n",
        "    # convert to RGB array\n",
        "    x *= 255\n",
        "    #x = x.transpose((1, 2, 0))\n",
        "    x = np.clip(x, 0, 255).astype('uint8')\n",
        "    return x\n",
        "\n",
        "def vis_img_in_filter(img = np.array(X_train[2]).reshape((1, 28, 28, 1)).astype(np.float64), \n",
        "                      layer_name = 'conv2d_13'):\n",
        "    layer_output = layer_dict[layer_name].output\n",
        "    img_ascs = list()\n",
        "    for filter_index in range(layer_output.shape[3]):\n",
        "        # build a loss function that maximizes the activation\n",
        "        # of the nth filter of the layer considered\n",
        "        loss = K.mean(layer_output[:, :, :, filter_index])\n",
        "\n",
        "        # compute the gradient of the input picture wrt this loss\n",
        "        grads = K.gradients(loss, model.input)[0]\n",
        "\n",
        "        # normalization trick: we normalize the gradient\n",
        "        grads /= (K.sqrt(K.mean(K.square(grads))) + 1e-5)\n",
        "\n",
        "        # this function returns the loss and grads given the input picture\n",
        "        iterate = K.function([model.input], [loss, grads])\n",
        "\n",
        "        # step size for gradient ascent\n",
        "        step = 5.\n",
        "\n",
        "        img_asc = np.array(img)\n",
        "        # run gradient ascent for 20 steps\n",
        "        for i in range(20):\n",
        "            loss_value, grads_value = iterate([img_asc])\n",
        "            img_asc += grads_value * step\n",
        "\n",
        "        img_asc = img_asc[0]\n",
        "        img_ascs.append(deprocess_image(img_asc).reshape((28, 28)))\n",
        "        \n",
        "    if layer_output.shape[3] >= 35:\n",
        "        plot_x, plot_y = 6, 6\n",
        "    elif layer_output.shape[3] >= 23:\n",
        "        plot_x, plot_y = 4, 6\n",
        "    elif layer_output.shape[3] >= 11:\n",
        "        plot_x, plot_y = 2, 6\n",
        "    else:\n",
        "        plot_x, plot_y = 1, 2\n",
        "    fig, ax = plt.subplots(plot_x, plot_y, figsize = (12, 12))\n",
        "    ax[0, 0].imshow(img.reshape((28, 28)), cmap = 'gray')\n",
        "    ax[0, 0].set_title('Input image')\n",
        "    fig.suptitle('Input image and %s filters' % (layer_name,))\n",
        "    fig.tight_layout(pad = 0.3, rect = [0, 0, 0.9, 0.9])\n",
        "    for (x, y) in [(i, j) for i in range(plot_x) for j in range(plot_y)]:\n",
        "        if x == 0 and y == 0:\n",
        "            continue\n",
        "        ax[x, y].imshow(img_ascs[x * plot_y + y - 1], cmap = 'gray')\n",
        "        ax[x, y].set_title('filter %d' % (x * plot_y + y - 1))\n",
        "\n",
        "vis_img_in_filter()"
      ],
      "execution_count": 27,
      "outputs": [
        {
          "output_type": "display_data",
          "data": {
            "image/png": "[encoded data removed]",
            "text/plain": [
              "<Figure size 864x864 with 36 Axes>"
            ]
          },
          "metadata": {
            "tags": []
          }
        }
      ]
    }
  ]
}