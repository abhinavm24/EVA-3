{
  "nbformat": 4,
  "nbformat_minor": 0,
  "metadata": {
    "colab": {
      "name": "EVA_4c.ipynb",
      "version": "0.3.2",
      "provenance": [],
      "collapsed_sections": []
    },
    "kernelspec": {
      "name": "python3",
      "display_name": "Python 3"
    },
    "accelerator": "GPU"
  },
  "cells": [
    {
      "cell_type": "markdown",
      "metadata": {
        "id": "owC5hW7YG3TV",
        "colab_type": "text"
      },
      "source": [
        "**Iteration 3: Optimization**\n",
        "\n",
        "Changes:\n",
        "*   Addition of Batch Normalization\n",
        "*   Learning Rate\n",
        "*   Calculation of validation accuracy post each epoch"
      ]
    },
    {
      "cell_type": "markdown",
      "metadata": {
        "id": "aNyZv-Ec52ot",
        "colab_type": "text"
      },
      "source": [
        "# **Import Libraries and modules**"
      ]
    },
    {
      "cell_type": "code",
      "metadata": {
        "id": "3m3w1Cw49Zkt",
        "colab_type": "code",
        "outputId": "378021cd-a4e1-40ed-a028-dee93cbd586d",
        "colab": {
          "base_uri": "https://localhost:8080/",
          "height": 34
        }
      },
      "source": [
        "# https://keras.io/\n",
        "!pip install -q keras\n",
        "import keras"
      ],
      "execution_count": 1,
      "outputs": [
        {
          "output_type": "stream",
          "text": [
            "Using TensorFlow backend.\n"
          ],
          "name": "stderr"
        }
      ]
    },
    {
      "cell_type": "code",
      "metadata": {
        "id": "Eso6UHE080D4",
        "colab_type": "code",
        "colab": {}
      },
      "source": [
        "import numpy as np\n",
        "\n",
        "from keras.models import Sequential\n",
        "from keras.layers import Dense, Dropout, Activation, Flatten, Add, BatchNormalization, Dropout\n",
        "from keras.layers import Convolution2D, MaxPooling2D\n",
        "from keras.utils import np_utils\n",
        "\n",
        "from keras.datasets import mnist"
      ],
      "execution_count": 0,
      "outputs": []
    },
    {
      "cell_type": "markdown",
      "metadata": {
        "id": "zByEi95J86RD",
        "colab_type": "text"
      },
      "source": [
        "### Load pre-shuffled MNIST data into train and test sets"
      ]
    },
    {
      "cell_type": "code",
      "metadata": {
        "id": "7eRM0QWN83PV",
        "colab_type": "code",
        "colab": {}
      },
      "source": [
        "(X_train, y_train), (X_test, y_test) = mnist.load_data()"
      ],
      "execution_count": 0,
      "outputs": []
    },
    {
      "cell_type": "code",
      "metadata": {
        "id": "4a4Be72j8-ZC",
        "colab_type": "code",
        "outputId": "aaea752c-828c-4d77-d5dd-d3585ee779cb",
        "colab": {
          "base_uri": "https://localhost:8080/",
          "height": 303
        }
      },
      "source": [
        "print (X_train.shape)\n",
        "from matplotlib import pyplot as plt\n",
        "%matplotlib inline\n",
        "plt.imshow(X_train[0])"
      ],
      "execution_count": 4,
      "outputs": [
        {
          "output_type": "stream",
          "text": [
            "(60000, 28, 28)\n"
          ],
          "name": "stdout"
        },
        {
          "output_type": "execute_result",
          "data": {
            "text/plain": [
              "<matplotlib.image.AxesImage at 0x7f8a4a7d1390>"
            ]
          },
          "metadata": {
            "tags": []
          },
          "execution_count": 4
        },
        {
          "output_type": "display_data",
          "data": {
            "image/png": "[encoded data removed]",
            "text/plain": [
              "<Figure size 432x288 with 1 Axes>"
            ]
          },
          "metadata": {
            "tags": []
          }
        }
      ]
    },
    {
      "cell_type": "code",
      "metadata": {
        "id": "dkmprriw9AnZ",
        "colab_type": "code",
        "colab": {}
      },
      "source": [
        "X_train = X_train.reshape(X_train.shape[0], 28, 28,1)\n",
        "X_test = X_test.reshape(X_test.shape[0], 28, 28,1)"
      ],
      "execution_count": 0,
      "outputs": []
    },
    {
      "cell_type": "code",
      "metadata": {
        "id": "X2m4YS4E9CRh",
        "colab_type": "code",
        "colab": {}
      },
      "source": [
        "X_train = X_train.astype('float32')\n",
        "X_test = X_test.astype('float32')\n",
        "X_train /= 255\n",
        "X_test /= 255"
      ],
      "execution_count": 0,
      "outputs": []
    },
    {
      "cell_type": "code",
      "metadata": {
        "id": "0Mn0vAYD9DvB",
        "colab_type": "code",
        "outputId": "94cf9f15-8e25-49b9-c4af-bbbfc1224d46",
        "colab": {
          "base_uri": "https://localhost:8080/",
          "height": 34
        }
      },
      "source": [
        "y_train[:10]"
      ],
      "execution_count": 7,
      "outputs": [
        {
          "output_type": "execute_result",
          "data": {
            "text/plain": [
              "array([5, 0, 4, 1, 9, 2, 1, 3, 1, 4], dtype=uint8)"
            ]
          },
          "metadata": {
            "tags": []
          },
          "execution_count": 7
        }
      ]
    },
    {
      "cell_type": "code",
      "metadata": {
        "id": "ZG8JiXR39FHC",
        "colab_type": "code",
        "colab": {}
      },
      "source": [
        "# Convert 1-dimensional class arrays to 10-dimensional class matrices\n",
        "Y_train = np_utils.to_categorical(y_train, 10)\n",
        "Y_test = np_utils.to_categorical(y_test, 10)"
      ],
      "execution_count": 0,
      "outputs": []
    },
    {
      "cell_type": "code",
      "metadata": {
        "id": "fYlFRvKS9HMB",
        "colab_type": "code",
        "outputId": "cb899c4a-d31d-48fc-c8f7-f455e29013a1",
        "colab": {
          "base_uri": "https://localhost:8080/",
          "height": 187
        }
      },
      "source": [
        "Y_train[:10]\n"
      ],
      "execution_count": 9,
      "outputs": [
        {
          "output_type": "execute_result",
          "data": {
            "text/plain": [
              "array([[0., 0., 0., 0., 0., 1., 0., 0., 0., 0.],\n",
              "       [1., 0., 0., 0., 0., 0., 0., 0., 0., 0.],\n",
              "       [0., 0., 0., 0., 1., 0., 0., 0., 0., 0.],\n",
              "       [0., 1., 0., 0., 0., 0., 0., 0., 0., 0.],\n",
              "       [0., 0., 0., 0., 0., 0., 0., 0., 0., 1.],\n",
              "       [0., 0., 1., 0., 0., 0., 0., 0., 0., 0.],\n",
              "       [0., 1., 0., 0., 0., 0., 0., 0., 0., 0.],\n",
              "       [0., 0., 0., 1., 0., 0., 0., 0., 0., 0.],\n",
              "       [0., 1., 0., 0., 0., 0., 0., 0., 0., 0.],\n",
              "       [0., 0., 0., 0., 1., 0., 0., 0., 0., 0.]], dtype=float32)"
            ]
          },
          "metadata": {
            "tags": []
          },
          "execution_count": 9
        }
      ]
    },
    {
      "cell_type": "code",
      "metadata": {
        "id": "osKqT73Q9JJB",
        "colab_type": "code",
        "outputId": "6c20eec7-0c67-4d56-e5e9-573b951d89aa",
        "colab": {
          "base_uri": "https://localhost:8080/",
          "height": 289
        }
      },
      "source": [
        "from keras.layers import Activation\n",
        "model = Sequential()\n",
        "\n",
        " \n",
        "model.add(Convolution2D(8, 3, 3, activation='relu', input_shape=(28,28,1))) # 26\n",
        "model.add(BatchNormalization()) # change 1\n",
        "model.add(Convolution2D(16, 3, 3, activation='relu')) # 24\n",
        "model.add(BatchNormalization()) # change 1\n",
        "\n",
        "model.add(Convolution2D(10, 1, 1, activation='relu')) # 12\n",
        "model.add(MaxPooling2D(pool_size=(2, 2))) # 12\n",
        "\n",
        "model.add(Convolution2D(16, 3, 3, activation='relu')) # 10\n",
        "model.add(BatchNormalization()) # change 1\n",
        "model.add(Convolution2D(20, 3, 3, activation='relu')) # 8\n",
        "model.add(BatchNormalization()) # change 1\n",
        "\n",
        "model.add(Convolution2D(12, 1, 1, activation='relu')) # 8\n",
        "\n",
        "model.add(Convolution2D(16, 3, 3, activation='relu')) # 6\n",
        "model.add(BatchNormalization()) # change 1\n",
        "model.add(Convolution2D(20, 3, 3, activation='relu')) # 4\n",
        "model.add(BatchNormalization()) # change 1\n",
        "\n",
        "\n",
        "model.add(Convolution2D(10, 1, activation='relu')) #4\n",
        "model.add(Convolution2D(10, 4))\n",
        "model.add(Flatten())\n",
        "model.add(Activation('softmax'))"
      ],
      "execution_count": 10,
      "outputs": [
        {
          "output_type": "stream",
          "text": [
            "WARNING:tensorflow:From /usr/local/lib/python3.6/dist-packages/tensorflow/python/framework/op_def_library.py:263: colocate_with (from tensorflow.python.framework.ops) is deprecated and will be removed in a future version.\n",
            "Instructions for updating:\n",
            "Colocations handled automatically by placer.\n"
          ],
          "name": "stdout"
        },
        {
          "output_type": "stream",
          "text": [
            "/usr/local/lib/python3.6/dist-packages/ipykernel_launcher.py:5: UserWarning: Update your `Conv2D` call to the Keras 2 API: `Conv2D(8, (3, 3), activation=\"relu\", input_shape=(28, 28, 1...)`\n",
            "  \"\"\"\n",
            "/usr/local/lib/python3.6/dist-packages/ipykernel_launcher.py:7: UserWarning: Update your `Conv2D` call to the Keras 2 API: `Conv2D(16, (3, 3), activation=\"relu\")`\n",
            "  import sys\n",
            "/usr/local/lib/python3.6/dist-packages/ipykernel_launcher.py:10: UserWarning: Update your `Conv2D` call to the Keras 2 API: `Conv2D(10, (1, 1), activation=\"relu\")`\n",
            "  # Remove the CWD from sys.path while we load stuff.\n",
            "/usr/local/lib/python3.6/dist-packages/ipykernel_launcher.py:13: UserWarning: Update your `Conv2D` call to the Keras 2 API: `Conv2D(16, (3, 3), activation=\"relu\")`\n",
            "  del sys.path[0]\n",
            "/usr/local/lib/python3.6/dist-packages/ipykernel_launcher.py:15: UserWarning: Update your `Conv2D` call to the Keras 2 API: `Conv2D(20, (3, 3), activation=\"relu\")`\n",
            "  from ipykernel import kernelapp as app\n",
            "/usr/local/lib/python3.6/dist-packages/ipykernel_launcher.py:18: UserWarning: Update your `Conv2D` call to the Keras 2 API: `Conv2D(12, (1, 1), activation=\"relu\")`\n",
            "/usr/local/lib/python3.6/dist-packages/ipykernel_launcher.py:20: UserWarning: Update your `Conv2D` call to the Keras 2 API: `Conv2D(16, (3, 3), activation=\"relu\")`\n",
            "/usr/local/lib/python3.6/dist-packages/ipykernel_launcher.py:22: UserWarning: Update your `Conv2D` call to the Keras 2 API: `Conv2D(20, (3, 3), activation=\"relu\")`\n"
          ],
          "name": "stderr"
        }
      ]
    },
    {
      "cell_type": "code",
      "metadata": {
        "id": "TzdAYg1k9K7Z",
        "colab_type": "code",
        "outputId": "b5184f2b-b268-40ab-80b3-692b837316b5",
        "colab": {
          "base_uri": "https://localhost:8080/",
          "height": 782
        }
      },
      "source": [
        "model.summary()"
      ],
      "execution_count": 11,
      "outputs": [
        {
          "output_type": "stream",
          "text": [
            "_________________________________________________________________\n",
            "Layer (type)                 Output Shape              Param #   \n",
            "=================================================================\n",
            "conv2d_1 (Conv2D)            (None, 26, 26, 8)         80        \n",
            "_________________________________________________________________\n",
            "batch_normalization_1 (Batch (None, 26, 26, 8)         32        \n",
            "_________________________________________________________________\n",
            "conv2d_2 (Conv2D)            (None, 24, 24, 16)        1168      \n",
            "_________________________________________________________________\n",
            "batch_normalization_2 (Batch (None, 24, 24, 16)        64        \n",
            "_________________________________________________________________\n",
            "conv2d_3 (Conv2D)            (None, 24, 24, 10)        170       \n",
            "_________________________________________________________________\n",
            "max_pooling2d_1 (MaxPooling2 (None, 12, 12, 10)        0         \n",
            "_________________________________________________________________\n",
            "conv2d_4 (Conv2D)            (None, 10, 10, 16)        1456      \n",
            "_________________________________________________________________\n",
            "batch_normalization_3 (Batch (None, 10, 10, 16)        64        \n",
            "_________________________________________________________________\n",
            "conv2d_5 (Conv2D)            (None, 8, 8, 20)          2900      \n",
            "_________________________________________________________________\n",
            "batch_normalization_4 (Batch (None, 8, 8, 20)          80        \n",
            "_________________________________________________________________\n",
            "conv2d_6 (Conv2D)            (None, 8, 8, 12)          252       \n",
            "_________________________________________________________________\n",
            "conv2d_7 (Conv2D)            (None, 6, 6, 16)          1744      \n",
            "_________________________________________________________________\n",
            "batch_normalization_5 (Batch (None, 6, 6, 16)          64        \n",
            "_________________________________________________________________\n",
            "conv2d_8 (Conv2D)            (None, 4, 4, 20)          2900      \n",
            "_________________________________________________________________\n",
            "batch_normalization_6 (Batch (None, 4, 4, 20)          80        \n",
            "_________________________________________________________________\n",
            "conv2d_9 (Conv2D)            (None, 4, 4, 10)          210       \n",
            "_________________________________________________________________\n",
            "conv2d_10 (Conv2D)           (None, 1, 1, 10)          1610      \n",
            "_________________________________________________________________\n",
            "flatten_1 (Flatten)          (None, 10)                0         \n",
            "_________________________________________________________________\n",
            "activation_1 (Activation)    (None, 10)                0         \n",
            "=================================================================\n",
            "Total params: 12,874\n",
            "Trainable params: 12,682\n",
            "Non-trainable params: 192\n",
            "_________________________________________________________________\n"
          ],
          "name": "stdout"
        }
      ]
    },
    {
      "cell_type": "code",
      "metadata": {
        "id": "Zp6SuGrL9M3h",
        "colab_type": "code",
        "colab": {}
      },
      "source": [
        "from keras.optimizers import Adam\n",
        "\n",
        "model.compile(loss='categorical_crossentropy', \n",
        "              optimizer=Adam(lr=0.003), # change 2 \n",
        "              metrics=['accuracy'])"
      ],
      "execution_count": 0,
      "outputs": []
    },
    {
      "cell_type": "code",
      "metadata": {
        "id": "4xWoKhPY9Of5",
        "colab_type": "code",
        "outputId": "01d786c6-b7b9-4bdf-92cb-58535d479743",
        "colab": {
          "base_uri": "https://localhost:8080/",
          "height": 816
        }
      },
      "source": [
        "model.fit(X_train, Y_train, batch_size=64, nb_epoch=20, verbose=1, validation_data=(X_test, Y_test)) # change 3: validation data"
      ],
      "execution_count": 14,
      "outputs": [
        {
          "output_type": "stream",
          "text": [
            "WARNING:tensorflow:From /usr/local/lib/python3.6/dist-packages/tensorflow/python/ops/math_ops.py:3066: to_int32 (from tensorflow.python.ops.math_ops) is deprecated and will be removed in a future version.\n",
            "Instructions for updating:\n",
            "Use tf.cast instead.\n"
          ],
          "name": "stdout"
        },
        {
          "output_type": "stream",
          "text": [
            "/usr/local/lib/python3.6/dist-packages/ipykernel_launcher.py:1: UserWarning: The `nb_epoch` argument in `fit` has been renamed `epochs`.\n",
            "  \"\"\"Entry point for launching an IPython kernel.\n"
          ],
          "name": "stderr"
        },
        {
          "output_type": "stream",
          "text": [
            "Train on 60000 samples, validate on 10000 samples\n",
            "Epoch 1/20\n",
            "60000/60000 [==============================] - 12s 206us/step - loss: 0.1833 - acc: 0.9424 - val_loss: 0.0941 - val_acc: 0.9709\n",
            "Epoch 2/20\n",
            "60000/60000 [==============================] - 10s 164us/step - loss: 0.0659 - acc: 0.9804 - val_loss: 0.0751 - val_acc: 0.9766\n",
            "Epoch 3/20\n",
            "60000/60000 [==============================] - 10s 164us/step - loss: 0.0507 - acc: 0.9843 - val_loss: 0.0684 - val_acc: 0.9791\n",
            "Epoch 4/20\n",
            "60000/60000 [==============================] - 11s 184us/step - loss: 0.0429 - acc: 0.9873 - val_loss: 0.0611 - val_acc: 0.9816\n",
            "Epoch 5/20\n",
            "60000/60000 [==============================] - 12s 192us/step - loss: 0.0392 - acc: 0.9876 - val_loss: 0.0423 - val_acc: 0.9867\n",
            "Epoch 6/20\n",
            "60000/60000 [==============================] - 17s 284us/step - loss: 0.0334 - acc: 0.9893 - val_loss: 0.0458 - val_acc: 0.9859\n",
            "Epoch 7/20\n",
            "60000/60000 [==============================] - 18s 307us/step - loss: 0.0327 - acc: 0.9894 - val_loss: 0.0536 - val_acc: 0.9838\n",
            "Epoch 8/20\n",
            "60000/60000 [==============================] - 16s 271us/step - loss: 0.0282 - acc: 0.9909 - val_loss: 0.0429 - val_acc: 0.9855\n",
            "Epoch 9/20\n",
            "60000/60000 [==============================] - 17s 275us/step - loss: 0.0278 - acc: 0.9910 - val_loss: 0.0322 - val_acc: 0.9903\n",
            "Epoch 10/20\n",
            "60000/60000 [==============================] - 17s 276us/step - loss: 0.0267 - acc: 0.9916 - val_loss: 0.0345 - val_acc: 0.9891\n",
            "Epoch 11/20\n",
            "60000/60000 [==============================] - 18s 298us/step - loss: 0.0236 - acc: 0.9927 - val_loss: 0.0391 - val_acc: 0.9888\n",
            "Epoch 12/20\n",
            "60000/60000 [==============================] - 17s 283us/step - loss: 0.0223 - acc: 0.9930 - val_loss: 0.0378 - val_acc: 0.9893\n",
            "Epoch 13/20\n",
            "60000/60000 [==============================] - 18s 302us/step - loss: 0.0204 - acc: 0.9935 - val_loss: 0.0544 - val_acc: 0.9836\n",
            "Epoch 14/20\n",
            "60000/60000 [==============================] - 26s 428us/step - loss: 0.0183 - acc: 0.9940 - val_loss: 0.0335 - val_acc: 0.9893\n",
            "Epoch 15/20\n",
            "60000/60000 [==============================] - 30s 499us/step - loss: 0.0188 - acc: 0.9941 - val_loss: 0.0338 - val_acc: 0.9899\n",
            "Epoch 16/20\n",
            "60000/60000 [==============================] - 28s 475us/step - loss: 0.0187 - acc: 0.9937 - val_loss: 0.0359 - val_acc: 0.9882\n",
            "Epoch 17/20\n",
            "60000/60000 [==============================] - 29s 475us/step - loss: 0.0169 - acc: 0.9944 - val_loss: 0.0298 - val_acc: 0.9906\n",
            "Epoch 18/20\n",
            "60000/60000 [==============================] - 29s 478us/step - loss: 0.0146 - acc: 0.9952 - val_loss: 0.0328 - val_acc: 0.9903\n",
            "Epoch 19/20\n",
            "60000/60000 [==============================] - 28s 460us/step - loss: 0.0150 - acc: 0.9950 - val_loss: 0.0329 - val_acc: 0.9903\n",
            "Epoch 20/20\n",
            "60000/60000 [==============================] - 20s 338us/step - loss: 0.0149 - acc: 0.9951 - val_loss: 0.0351 - val_acc: 0.9902\n"
          ],
          "name": "stdout"
        },
        {
          "output_type": "execute_result",
          "data": {
            "text/plain": [
              "<keras.callbacks.History at 0x7f8a30855b38>"
            ]
          },
          "metadata": {
            "tags": []
          },
          "execution_count": 14
        }
      ]
    },
    {
      "cell_type": "code",
      "metadata": {
        "id": "BChDmrWkOm42",
        "colab_type": "code",
        "outputId": "77405de6-82a3-438d-a619-f0c653de62fb",
        "colab": {
          "base_uri": "https://localhost:8080/",
          "height": 765
        }
      },
      "source": [
        "model.fit(X_train, Y_train, batch_size=64, nb_epoch=20, verbose=1, validation_data=(X_test, Y_test)) # change 3: validation data"
      ],
      "execution_count": 15,
      "outputs": [
        {
          "output_type": "stream",
          "text": [
            "Train on 60000 samples, validate on 10000 samples\n",
            "Epoch 1/20\n",
            "  384/60000 [..............................] - ETA: 24s - loss: 0.0029 - acc: 1.0000"
          ],
          "name": "stdout"
        },
        {
          "output_type": "stream",
          "text": [
            "/usr/local/lib/python3.6/dist-packages/ipykernel_launcher.py:1: UserWarning: The `nb_epoch` argument in `fit` has been renamed `epochs`.\n",
            "  \"\"\"Entry point for launching an IPython kernel.\n"
          ],
          "name": "stderr"
        },
        {
          "output_type": "stream",
          "text": [
            "60000/60000 [==============================] - 22s 364us/step - loss: 0.0142 - acc: 0.9956 - val_loss: 0.0407 - val_acc: 0.9893\n",
            "Epoch 2/20\n",
            "60000/60000 [==============================] - 20s 333us/step - loss: 0.0128 - acc: 0.9958 - val_loss: 0.0340 - val_acc: 0.9911\n",
            "Epoch 3/20\n",
            "60000/60000 [==============================] - 20s 334us/step - loss: 0.0142 - acc: 0.9951 - val_loss: 0.0400 - val_acc: 0.9894\n",
            "Epoch 4/20\n",
            "60000/60000 [==============================] - 20s 339us/step - loss: 0.0114 - acc: 0.9964 - val_loss: 0.0349 - val_acc: 0.9909\n",
            "Epoch 5/20\n",
            "60000/60000 [==============================] - 23s 387us/step - loss: 0.0122 - acc: 0.9961 - val_loss: 0.0324 - val_acc: 0.9902\n",
            "Epoch 6/20\n",
            "60000/60000 [==============================] - 28s 466us/step - loss: 0.0101 - acc: 0.9966 - val_loss: 0.0594 - val_acc: 0.9849\n",
            "Epoch 7/20\n",
            "60000/60000 [==============================] - 28s 473us/step - loss: 0.0105 - acc: 0.9966 - val_loss: 0.0417 - val_acc: 0.9897\n",
            "Epoch 8/20\n",
            "60000/60000 [==============================] - 29s 489us/step - loss: 0.0108 - acc: 0.9963 - val_loss: 0.0359 - val_acc: 0.9904\n",
            "Epoch 9/20\n",
            "60000/60000 [==============================] - 28s 466us/step - loss: 0.0099 - acc: 0.9968 - val_loss: 0.0427 - val_acc: 0.9892\n",
            "Epoch 10/20\n",
            "60000/60000 [==============================] - 16s 272us/step - loss: 0.0117 - acc: 0.9961 - val_loss: 0.0416 - val_acc: 0.9900\n",
            "Epoch 11/20\n",
            "60000/60000 [==============================] - 18s 299us/step - loss: 0.0084 - acc: 0.9971 - val_loss: 0.0437 - val_acc: 0.9899\n",
            "Epoch 12/20\n",
            "60000/60000 [==============================] - 16s 265us/step - loss: 0.0109 - acc: 0.9961 - val_loss: 0.0368 - val_acc: 0.9917\n",
            "Epoch 13/20\n",
            "60000/60000 [==============================] - 17s 281us/step - loss: 0.0074 - acc: 0.9974 - val_loss: 0.0356 - val_acc: 0.9917\n",
            "Epoch 14/20\n",
            "60000/60000 [==============================] - 16s 266us/step - loss: 0.0100 - acc: 0.9967 - val_loss: 0.0393 - val_acc: 0.9902\n",
            "Epoch 15/20\n",
            "60000/60000 [==============================] - 18s 294us/step - loss: 0.0084 - acc: 0.9974 - val_loss: 0.0418 - val_acc: 0.9893\n",
            "Epoch 16/20\n",
            "60000/60000 [==============================] - 18s 296us/step - loss: 0.0066 - acc: 0.9979 - val_loss: 0.0461 - val_acc: 0.9900\n",
            "Epoch 17/20\n",
            "60000/60000 [==============================] - 16s 267us/step - loss: 0.0099 - acc: 0.9969 - val_loss: 0.0350 - val_acc: 0.9914\n",
            "Epoch 18/20\n",
            "60000/60000 [==============================] - 16s 261us/step - loss: 0.0074 - acc: 0.9977 - val_loss: 0.0332 - val_acc: 0.9919\n",
            "Epoch 19/20\n",
            "60000/60000 [==============================] - 12s 193us/step - loss: 0.0081 - acc: 0.9974 - val_loss: 0.0319 - val_acc: 0.9924\n",
            "Epoch 20/20\n",
            "60000/60000 [==============================] - 10s 159us/step - loss: 0.0086 - acc: 0.9974 - val_loss: 0.0329 - val_acc: 0.9928\n"
          ],
          "name": "stdout"
        },
        {
          "output_type": "execute_result",
          "data": {
            "text/plain": [
              "<keras.callbacks.History at 0x7f8a302a8d68>"
            ]
          },
          "metadata": {
            "tags": []
          },
          "execution_count": 15
        }
      ]
    },
    {
      "cell_type": "code",
      "metadata": {
        "id": "AtsH-lLk-eLb",
        "colab_type": "code",
        "colab": {}
      },
      "source": [
        "score = model.evaluate(X_test, Y_test, verbose=0)"
      ],
      "execution_count": 0,
      "outputs": []
    },
    {
      "cell_type": "code",
      "metadata": {
        "id": "mkX8JMv79q9r",
        "colab_type": "code",
        "outputId": "b7aa39c8-8949-4c17-e18a-def1e2adb84a",
        "colab": {
          "base_uri": "https://localhost:8080/",
          "height": 34
        }
      },
      "source": [
        "print(score)"
      ],
      "execution_count": 17,
      "outputs": [
        {
          "output_type": "stream",
          "text": [
            "[0.03285512605609133, 0.9928]\n"
          ],
          "name": "stdout"
        }
      ]
    },
    {
      "cell_type": "code",
      "metadata": {
        "id": "OCWoJkwE9suh",
        "colab_type": "code",
        "colab": {}
      },
      "source": [
        "y_pred = model.predict(X_test)"
      ],
      "execution_count": 0,
      "outputs": []
    },
    {
      "cell_type": "code",
      "metadata": {
        "id": "Ym7iCFBm9uBs",
        "colab_type": "code",
        "outputId": "40ff7507-8fd5-47b4-d55b-801606236d98",
        "colab": {
          "base_uri": "https://localhost:8080/",
          "height": 493
        }
      },
      "source": [
        "print(y_pred[:9])\n",
        "print(y_test[:9])"
      ],
      "execution_count": 19,
      "outputs": [
        {
          "output_type": "stream",
          "text": [
            "[[6.79099046e-21 4.19449127e-17 1.35496024e-11 3.91473520e-08\n",
            "  2.58244294e-12 2.99710614e-14 1.43509203e-30 1.00000000e+00\n",
            "  2.07828467e-18 1.92687732e-08]\n",
            " [1.14413058e-12 3.05412840e-13 1.00000000e+00 1.61214885e-18\n",
            "  2.15983522e-13 8.96180814e-19 1.72765177e-10 8.30567090e-17\n",
            "  2.61711056e-14 4.48780217e-20]\n",
            " [2.26432914e-10 1.00000000e+00 3.81604796e-13 1.78390081e-18\n",
            "  3.50359158e-10 8.50171947e-11 7.98018526e-11 1.65063213e-10\n",
            "  6.92229433e-12 6.74720779e-10]\n",
            " [1.00000000e+00 7.23337550e-16 1.01765211e-11 5.12036377e-13\n",
            "  4.52043177e-12 1.05594223e-12 1.52561386e-09 1.90768993e-15\n",
            "  5.17808344e-13 2.28401638e-11]\n",
            " [4.37711048e-19 2.99774754e-17 1.00578009e-16 4.35094107e-19\n",
            "  1.00000000e+00 3.30746877e-13 2.52244358e-15 1.98736925e-18\n",
            "  2.99541740e-16 5.71145229e-08]\n",
            " [5.07194620e-10 1.00000000e+00 2.45225037e-13 3.09130934e-20\n",
            "  3.70344644e-10 5.85848210e-12 4.54295872e-11 3.95455141e-10\n",
            "  3.01911252e-12 4.75722461e-10]\n",
            " [1.06379136e-24 8.31721358e-09 1.38380096e-09 1.00069116e-14\n",
            "  1.00000000e+00 1.25002578e-10 3.53502992e-23 4.93956959e-12\n",
            "  1.65439094e-08 3.29548158e-08]\n",
            " [9.36438427e-11 5.76857106e-18 2.74557905e-08 2.22119233e-11\n",
            "  1.25741346e-08 2.50811325e-07 2.14705869e-15 2.51460582e-13\n",
            "  3.72874925e-10 9.99999762e-01]\n",
            " [4.79028362e-12 1.55789010e-13 8.88932816e-11 4.31733859e-12\n",
            "  1.75474274e-17 9.99224663e-01 7.75185821e-04 1.72511632e-15\n",
            "  9.01609454e-08 1.12928825e-13]]\n",
            "[7 2 1 0 4 1 4 9 5]\n"
          ],
          "name": "stdout"
        }
      ]
    },
    {
      "cell_type": "code",
      "metadata": {
        "id": "CT--y98_dr2T",
        "colab_type": "code",
        "colab": {}
      },
      "source": [
        "layer_dict = dict([(layer.name, layer) for layer in model.layers])"
      ],
      "execution_count": 0,
      "outputs": []
    },
    {
      "cell_type": "code",
      "metadata": {
        "id": "2GY4Upv4dsUR",
        "colab_type": "code",
        "outputId": "6fcdb2ee-3160-4a19-b155-7d0d8c5eb1e6",
        "colab": {
          "base_uri": "https://localhost:8080/",
          "height": 741
        }
      },
      "source": [
        "import numpy as np\n",
        "from matplotlib import pyplot as plt\n",
        "from keras import backend as K\n",
        "%matplotlib inline\n",
        "# util function to convert a tensor into a valid image\n",
        "def deprocess_image(x):\n",
        "    # normalize tensor: center on 0., ensure std is 0.1\n",
        "    x -= x.mean()\n",
        "    x /= (x.std() + 1e-5)\n",
        "    x *= 0.1\n",
        "\n",
        "    # clip to [0, 1]\n",
        "    x += 0.5\n",
        "    x = np.clip(x, 0, 1)\n",
        "\n",
        "    # convert to RGB array\n",
        "    x *= 255\n",
        "    #x = x.transpose((1, 2, 0))\n",
        "    x = np.clip(x, 0, 255).astype('uint8')\n",
        "    return x\n",
        "\n",
        "def vis_img_in_filter(img = np.array(X_train[2]).reshape((1, 28, 28, 1)).astype(np.float64), \n",
        "                      layer_name = 'conv2d_5'):\n",
        "    layer_output = layer_dict[layer_name].output\n",
        "    img_ascs = list()\n",
        "    for filter_index in range(layer_output.shape[3]):\n",
        "        # build a loss function that maximizes the activation\n",
        "        # of the nth filter of the layer considered\n",
        "        loss = K.mean(layer_output[:, :, :, filter_index])\n",
        "\n",
        "        # compute the gradient of the input picture wrt this loss\n",
        "        grads = K.gradients(loss, model.input)[0]\n",
        "\n",
        "        # normalization trick: we normalize the gradient\n",
        "        grads /= (K.sqrt(K.mean(K.square(grads))) + 1e-5)\n",
        "\n",
        "        # this function returns the loss and grads given the input picture\n",
        "        iterate = K.function([model.input], [loss, grads])\n",
        "\n",
        "        # step size for gradient ascent\n",
        "        step = 5.\n",
        "\n",
        "        img_asc = np.array(img)\n",
        "        # run gradient ascent for 20 steps\n",
        "        for i in range(20):\n",
        "            loss_value, grads_value = iterate([img_asc])\n",
        "            img_asc += grads_value * step\n",
        "\n",
        "        img_asc = img_asc[0]\n",
        "        img_ascs.append(deprocess_image(img_asc).reshape((28, 28)))\n",
        "        \n",
        "    if layer_output.shape[3] >= 35:\n",
        "        plot_x, plot_y = 6, 6\n",
        "    elif layer_output.shape[3] >= 23:\n",
        "        plot_x, plot_y = 4, 6\n",
        "    elif layer_output.shape[3] >= 11:\n",
        "        plot_x, plot_y = 2, 6\n",
        "    else:\n",
        "        plot_x, plot_y = 1, 2\n",
        "    fig, ax = plt.subplots(plot_x, plot_y, figsize = (12, 12))\n",
        "    ax[0, 0].imshow(img.reshape((28, 28)), cmap = 'gray')\n",
        "    ax[0, 0].set_title('Input image')\n",
        "    fig.suptitle('Input image and %s filters' % (layer_name,))\n",
        "    fig.tight_layout(pad = 0.3, rect = [0, 0, 0.9, 0.9])\n",
        "    for (x, y) in [(i, j) for i in range(plot_x) for j in range(plot_y)]:\n",
        "        if x == 0 and y == 0:\n",
        "            continue\n",
        "        ax[x, y].imshow(img_ascs[x * plot_y + y - 1], cmap = 'gray')\n",
        "        ax[x, y].set_title('filter %d' % (x * plot_y + y - 1))\n",
        "\n",
        "vis_img_in_filter()"
      ],
      "execution_count": 21,
      "outputs": [
        {
          "output_type": "display_data",
          "data": {
            "image/png": "[encoded data removed]",
            "text/plain": [
              "<Figure size 864x864 with 12 Axes>"
            ]
          },
          "metadata": {
            "tags": []
          }
        }
      ]
    }
  ]
}