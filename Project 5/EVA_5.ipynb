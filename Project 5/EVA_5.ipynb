{
  "nbformat": 4,
  "nbformat_minor": 0,
  "metadata": {
    "colab": {
      "name": "EVA_5.ipynb",
      "version": "0.3.2",
      "provenance": [],
      "collapsed_sections": []
    },
    "kernelspec": {
      "name": "python3",
      "display_name": "Python 3"
    },
    "accelerator": "GPU"
  },
  "cells": [
    {
      "cell_type": "markdown",
      "metadata": {
        "id": "aNyZv-Ec52ot",
        "colab_type": "text"
      },
      "source": [
        "# **Import Libraries and modules**"
      ]
    },
    {
      "cell_type": "code",
      "metadata": {
        "id": "3m3w1Cw49Zkt",
        "colab_type": "code",
        "outputId": "870a2963-ec92-4bbe-f7b1-ff9b2b0e395e",
        "colab": {
          "base_uri": "https://localhost:8080/",
          "height": 34
        }
      },
      "source": [
        "# https://keras.io/\n",
        "!pip install -q keras\n",
        "import keras"
      ],
      "execution_count": 3,
      "outputs": [
        {
          "output_type": "stream",
          "text": [
            "Using TensorFlow backend.\n"
          ],
          "name": "stderr"
        }
      ]
    },
    {
      "cell_type": "code",
      "metadata": {
        "id": "Eso6UHE080D4",
        "colab_type": "code",
        "colab": {}
      },
      "source": [
        "import numpy as np\n",
        "\n",
        "from keras.models import Sequential\n",
        "from keras.layers import Dense, Dropout, Activation, Flatten, Add, BatchNormalization, Dropout\n",
        "from keras.layers import Convolution2D, MaxPooling2D\n",
        "from keras.preprocessing.image import ImageDataGenerator\n",
        "from keras.utils import np_utils\n",
        "from keras.regularizers import l2\n",
        "from keras.datasets import mnist"
      ],
      "execution_count": 0,
      "outputs": []
    },
    {
      "cell_type": "markdown",
      "metadata": {
        "id": "zByEi95J86RD",
        "colab_type": "text"
      },
      "source": [
        "### Load pre-shuffled MNIST data into train and test sets"
      ]
    },
    {
      "cell_type": "code",
      "metadata": {
        "id": "7eRM0QWN83PV",
        "colab_type": "code",
        "colab": {
          "base_uri": "https://localhost:8080/",
          "height": 51
        },
        "outputId": "775c3677-4346-40a3-ca59-8b1f8b4b16ab"
      },
      "source": [
        "(X_train, y_train), (X_test, y_test) = mnist.load_data()"
      ],
      "execution_count": 5,
      "outputs": [
        {
          "output_type": "stream",
          "text": [
            "Downloading data from https://s3.amazonaws.com/img-datasets/mnist.npz\n",
            "11493376/11490434 [==============================] - 1s 0us/step\n"
          ],
          "name": "stdout"
        }
      ]
    },
    {
      "cell_type": "code",
      "metadata": {
        "id": "4a4Be72j8-ZC",
        "colab_type": "code",
        "outputId": "22cad9bf-5f9a-4db4-c875-46844f7c5341",
        "colab": {
          "base_uri": "https://localhost:8080/",
          "height": 303
        }
      },
      "source": [
        "print (X_train.shape)\n",
        "from matplotlib import pyplot as plt\n",
        "%matplotlib inline\n",
        "plt.imshow(X_train[0])"
      ],
      "execution_count": 6,
      "outputs": [
        {
          "output_type": "stream",
          "text": [
            "(60000, 28, 28)\n"
          ],
          "name": "stdout"
        },
        {
          "output_type": "execute_result",
          "data": {
            "text/plain": [
              "<matplotlib.image.AxesImage at 0x7f7412fb32e8>"
            ]
          },
          "metadata": {
            "tags": []
          },
          "execution_count": 6
        },
        {
          "output_type": "display_data",
          "data": {
            "image/png": "[encoded data removed]",
            "text/plain": [
              "<Figure size 432x288 with 1 Axes>"
            ]
          },
          "metadata": {
            "tags": []
          }
        }
      ]
    },
    {
      "cell_type": "code",
      "metadata": {
        "id": "dkmprriw9AnZ",
        "colab_type": "code",
        "colab": {}
      },
      "source": [
        "X_train = X_train.reshape(X_train.shape[0], 28, 28,1)\n",
        "X_test = X_test.reshape(X_test.shape[0], 28, 28,1)"
      ],
      "execution_count": 0,
      "outputs": []
    },
    {
      "cell_type": "code",
      "metadata": {
        "id": "X2m4YS4E9CRh",
        "colab_type": "code",
        "colab": {}
      },
      "source": [
        "datagen = ImageDataGenerator(rescale=1.0/255.0,featurewise_center=True, featurewise_std_normalization=True)\n",
        "\n",
        "X_train = X_train.astype('float32')\n",
        "X_test = X_test.astype('float32')"
      ],
      "execution_count": 0,
      "outputs": []
    },
    {
      "cell_type": "code",
      "metadata": {
        "id": "0Mn0vAYD9DvB",
        "colab_type": "code",
        "outputId": "0e7adc87-c21e-4ba9-f509-be4704a2d552",
        "colab": {
          "base_uri": "https://localhost:8080/",
          "height": 34
        }
      },
      "source": [
        "y_train[:10]"
      ],
      "execution_count": 9,
      "outputs": [
        {
          "output_type": "execute_result",
          "data": {
            "text/plain": [
              "array([5, 0, 4, 1, 9, 2, 1, 3, 1, 4], dtype=uint8)"
            ]
          },
          "metadata": {
            "tags": []
          },
          "execution_count": 9
        }
      ]
    },
    {
      "cell_type": "code",
      "metadata": {
        "id": "ZG8JiXR39FHC",
        "colab_type": "code",
        "colab": {}
      },
      "source": [
        "# Convert 1-dimensional class arrays to 10-dimensional class matrices\n",
        "Y_train = np_utils.to_categorical(y_train, 10)\n",
        "Y_test = np_utils.to_categorical(y_test, 10)"
      ],
      "execution_count": 0,
      "outputs": []
    },
    {
      "cell_type": "code",
      "metadata": {
        "id": "fYlFRvKS9HMB",
        "colab_type": "code",
        "outputId": "e9a5d3cb-980b-4539-9d64-8e06cafc6f9f",
        "colab": {
          "base_uri": "https://localhost:8080/",
          "height": 187
        }
      },
      "source": [
        "Y_train[:10]\n"
      ],
      "execution_count": 11,
      "outputs": [
        {
          "output_type": "execute_result",
          "data": {
            "text/plain": [
              "array([[0., 0., 0., 0., 0., 1., 0., 0., 0., 0.],\n",
              "       [1., 0., 0., 0., 0., 0., 0., 0., 0., 0.],\n",
              "       [0., 0., 0., 0., 1., 0., 0., 0., 0., 0.],\n",
              "       [0., 1., 0., 0., 0., 0., 0., 0., 0., 0.],\n",
              "       [0., 0., 0., 0., 0., 0., 0., 0., 0., 1.],\n",
              "       [0., 0., 1., 0., 0., 0., 0., 0., 0., 0.],\n",
              "       [0., 1., 0., 0., 0., 0., 0., 0., 0., 0.],\n",
              "       [0., 0., 0., 1., 0., 0., 0., 0., 0., 0.],\n",
              "       [0., 1., 0., 0., 0., 0., 0., 0., 0., 0.],\n",
              "       [0., 0., 0., 0., 1., 0., 0., 0., 0., 0.]], dtype=float32)"
            ]
          },
          "metadata": {
            "tags": []
          },
          "execution_count": 11
        }
      ]
    },
    {
      "cell_type": "code",
      "metadata": {
        "id": "t0S7ZXLHXzEM",
        "colab_type": "code",
        "colab": {}
      },
      "source": [
        "train_iterator = datagen.flow(X_train, Y_train, batch_size=64, shuffle=False)\n",
        "val_iterator = datagen.flow(X_test, Y_test, batch_size=64, shuffle=False)"
      ],
      "execution_count": 0,
      "outputs": []
    },
    {
      "cell_type": "code",
      "metadata": {
        "id": "osKqT73Q9JJB",
        "colab_type": "code",
        "outputId": "f88f2be1-c614-4d04-b1a7-ae36d819604a",
        "colab": {
          "base_uri": "https://localhost:8080/",
          "height": 306
        }
      },
      "source": [
        "from keras.layers import Activation\n",
        "model = Sequential()\n",
        "\n",
        " \n",
        "model.add(Convolution2D(8, 3, 3, input_shape=(28,28,1), kernel_regularizer=l2(0.01))) # 26\n",
        "model.add(BatchNormalization())\n",
        "model.add(Activation('relu'))\n",
        "model.add(Dropout(0.1))\n",
        "\n",
        "model.add(Convolution2D(16, 3, 3, kernel_regularizer=l2(0.01))) # 24\n",
        "model.add(BatchNormalization())\n",
        "model.add(Activation('relu'))\n",
        "model.add(Dropout(0.1))\n",
        "\n",
        "model.add(Convolution2D(10, 1, 1, activation='relu')) # 12\n",
        "model.add(MaxPooling2D(pool_size=(2, 2))) # 12\n",
        "\n",
        "model.add(Convolution2D(16, 3, 3, kernel_regularizer=l2(0.01))) # 10\n",
        "model.add(BatchNormalization())\n",
        "model.add(Activation('relu'))\n",
        "model.add(Dropout(0.1)) \n",
        "\n",
        "model.add(Convolution2D(20, 3, 3, kernel_regularizer=l2(0.01))) # 8\n",
        "model.add(BatchNormalization())\n",
        "model.add(Activation('relu'))\n",
        "model.add(Dropout(0.1)) \n",
        "\n",
        "model.add(Convolution2D(12, 1, 1, activation='relu')) # 8\n",
        "\n",
        "model.add(Convolution2D(16, 3, 3, kernel_regularizer=l2(0.01))) # 6\n",
        "model.add(BatchNormalization())\n",
        "model.add(Activation('relu'))\n",
        "model.add(Dropout(0.1)) \n",
        "\n",
        "model.add(Convolution2D(20, 3, 3, kernel_regularizer=l2(0.01))) # 4\n",
        "model.add(BatchNormalization())\n",
        "model.add(Activation('relu'))\n",
        "model.add(Dropout(0.1)) \n",
        "\n",
        "\n",
        "model.add(Convolution2D(10, 1, activation='relu', kernel_regularizer=l2(0.01))) #4\n",
        "model.add(Convolution2D(10, 4))\n",
        "model.add(Flatten())\n",
        "model.add(Activation('softmax'))"
      ],
      "execution_count": 13,
      "outputs": [
        {
          "output_type": "stream",
          "text": [
            "WARNING:tensorflow:From /usr/local/lib/python3.6/dist-packages/tensorflow/python/framework/op_def_library.py:263: colocate_with (from tensorflow.python.framework.ops) is deprecated and will be removed in a future version.\n",
            "Instructions for updating:\n",
            "Colocations handled automatically by placer.\n"
          ],
          "name": "stdout"
        },
        {
          "output_type": "stream",
          "text": [
            "/usr/local/lib/python3.6/dist-packages/ipykernel_launcher.py:5: UserWarning: Update your `Conv2D` call to the Keras 2 API: `Conv2D(8, (3, 3), input_shape=(28, 28, 1..., kernel_regularizer=<keras.reg...)`\n",
            "  \"\"\"\n"
          ],
          "name": "stderr"
        },
        {
          "output_type": "stream",
          "text": [
            "WARNING:tensorflow:From /usr/local/lib/python3.6/dist-packages/keras/backend/tensorflow_backend.py:3445: calling dropout (from tensorflow.python.ops.nn_ops) with keep_prob is deprecated and will be removed in a future version.\n",
            "Instructions for updating:\n",
            "Please use `rate` instead of `keep_prob`. Rate should be set to `rate = 1 - keep_prob`.\n"
          ],
          "name": "stdout"
        },
        {
          "output_type": "stream",
          "text": [
            "/usr/local/lib/python3.6/dist-packages/ipykernel_launcher.py:10: UserWarning: Update your `Conv2D` call to the Keras 2 API: `Conv2D(16, (3, 3), kernel_regularizer=<keras.reg...)`\n",
            "  # Remove the CWD from sys.path while we load stuff.\n",
            "/usr/local/lib/python3.6/dist-packages/ipykernel_launcher.py:15: UserWarning: Update your `Conv2D` call to the Keras 2 API: `Conv2D(10, (1, 1), activation=\"relu\")`\n",
            "  from ipykernel import kernelapp as app\n",
            "/usr/local/lib/python3.6/dist-packages/ipykernel_launcher.py:18: UserWarning: Update your `Conv2D` call to the Keras 2 API: `Conv2D(16, (3, 3), kernel_regularizer=<keras.reg...)`\n",
            "/usr/local/lib/python3.6/dist-packages/ipykernel_launcher.py:23: UserWarning: Update your `Conv2D` call to the Keras 2 API: `Conv2D(20, (3, 3), kernel_regularizer=<keras.reg...)`\n",
            "/usr/local/lib/python3.6/dist-packages/ipykernel_launcher.py:28: UserWarning: Update your `Conv2D` call to the Keras 2 API: `Conv2D(12, (1, 1), activation=\"relu\")`\n",
            "/usr/local/lib/python3.6/dist-packages/ipykernel_launcher.py:30: UserWarning: Update your `Conv2D` call to the Keras 2 API: `Conv2D(16, (3, 3), kernel_regularizer=<keras.reg...)`\n",
            "/usr/local/lib/python3.6/dist-packages/ipykernel_launcher.py:35: UserWarning: Update your `Conv2D` call to the Keras 2 API: `Conv2D(20, (3, 3), kernel_regularizer=<keras.reg...)`\n"
          ],
          "name": "stderr"
        }
      ]
    },
    {
      "cell_type": "code",
      "metadata": {
        "id": "TzdAYg1k9K7Z",
        "colab_type": "code",
        "outputId": "a57766bb-ef1a-478a-d323-095da22f833d",
        "colab": {
          "base_uri": "https://localhost:8080/",
          "height": 1190
        }
      },
      "source": [
        "model.summary()"
      ],
      "execution_count": 14,
      "outputs": [
        {
          "output_type": "stream",
          "text": [
            "_________________________________________________________________\n",
            "Layer (type)                 Output Shape              Param #   \n",
            "=================================================================\n",
            "conv2d_1 (Conv2D)            (None, 26, 26, 8)         80        \n",
            "_________________________________________________________________\n",
            "batch_normalization_1 (Batch (None, 26, 26, 8)         32        \n",
            "_________________________________________________________________\n",
            "activation_1 (Activation)    (None, 26, 26, 8)         0         \n",
            "_________________________________________________________________\n",
            "dropout_1 (Dropout)          (None, 26, 26, 8)         0         \n",
            "_________________________________________________________________\n",
            "conv2d_2 (Conv2D)            (None, 24, 24, 16)        1168      \n",
            "_________________________________________________________________\n",
            "batch_normalization_2 (Batch (None, 24, 24, 16)        64        \n",
            "_________________________________________________________________\n",
            "activation_2 (Activation)    (None, 24, 24, 16)        0         \n",
            "_________________________________________________________________\n",
            "dropout_2 (Dropout)          (None, 24, 24, 16)        0         \n",
            "_________________________________________________________________\n",
            "conv2d_3 (Conv2D)            (None, 24, 24, 10)        170       \n",
            "_________________________________________________________________\n",
            "max_pooling2d_1 (MaxPooling2 (None, 12, 12, 10)        0         \n",
            "_________________________________________________________________\n",
            "conv2d_4 (Conv2D)            (None, 10, 10, 16)        1456      \n",
            "_________________________________________________________________\n",
            "batch_normalization_3 (Batch (None, 10, 10, 16)        64        \n",
            "_________________________________________________________________\n",
            "activation_3 (Activation)    (None, 10, 10, 16)        0         \n",
            "_________________________________________________________________\n",
            "dropout_3 (Dropout)          (None, 10, 10, 16)        0         \n",
            "_________________________________________________________________\n",
            "conv2d_5 (Conv2D)            (None, 8, 8, 20)          2900      \n",
            "_________________________________________________________________\n",
            "batch_normalization_4 (Batch (None, 8, 8, 20)          80        \n",
            "_________________________________________________________________\n",
            "activation_4 (Activation)    (None, 8, 8, 20)          0         \n",
            "_________________________________________________________________\n",
            "dropout_4 (Dropout)          (None, 8, 8, 20)          0         \n",
            "_________________________________________________________________\n",
            "conv2d_6 (Conv2D)            (None, 8, 8, 12)          252       \n",
            "_________________________________________________________________\n",
            "conv2d_7 (Conv2D)            (None, 6, 6, 16)          1744      \n",
            "_________________________________________________________________\n",
            "batch_normalization_5 (Batch (None, 6, 6, 16)          64        \n",
            "_________________________________________________________________\n",
            "activation_5 (Activation)    (None, 6, 6, 16)          0         \n",
            "_________________________________________________________________\n",
            "dropout_5 (Dropout)          (None, 6, 6, 16)          0         \n",
            "_________________________________________________________________\n",
            "conv2d_8 (Conv2D)            (None, 4, 4, 20)          2900      \n",
            "_________________________________________________________________\n",
            "batch_normalization_6 (Batch (None, 4, 4, 20)          80        \n",
            "_________________________________________________________________\n",
            "activation_6 (Activation)    (None, 4, 4, 20)          0         \n",
            "_________________________________________________________________\n",
            "dropout_6 (Dropout)          (None, 4, 4, 20)          0         \n",
            "_________________________________________________________________\n",
            "conv2d_9 (Conv2D)            (None, 4, 4, 10)          210       \n",
            "_________________________________________________________________\n",
            "conv2d_10 (Conv2D)           (None, 1, 1, 10)          1610      \n",
            "_________________________________________________________________\n",
            "flatten_1 (Flatten)          (None, 10)                0         \n",
            "_________________________________________________________________\n",
            "activation_7 (Activation)    (None, 10)                0         \n",
            "=================================================================\n",
            "Total params: 12,874\n",
            "Trainable params: 12,682\n",
            "Non-trainable params: 192\n",
            "_________________________________________________________________\n"
          ],
          "name": "stdout"
        }
      ]
    },
    {
      "cell_type": "code",
      "metadata": {
        "id": "Zp6SuGrL9M3h",
        "colab_type": "code",
        "colab": {}
      },
      "source": [
        "from keras.optimizers import Adam\n",
        "from keras.callbacks import LearningRateScheduler, ModelCheckpoint\n",
        "def scheduler(epoch, lr):\n",
        "  return round(0.003 * 1/(1 + 0.319 * epoch), 10)\n",
        "\n",
        "model.compile(loss='categorical_crossentropy', \n",
        "              optimizer=Adam(lr=0.003), \n",
        "              metrics=['accuracy'])\n",
        "!mkdir \"Assignment5\"\n",
        "filepath=\"Assignment5//maxAccuracy.hdf5\"\n",
        "checkpoint = ModelCheckpoint(filepath, monitor='val_acc', verbose=1, save_best_only=True, mode='max')\n",
        "callbacks_list = [checkpoint, LearningRateScheduler(scheduler, verbose=1)]\n"
      ],
      "execution_count": 0,
      "outputs": []
    },
    {
      "cell_type": "code",
      "metadata": {
        "id": "uJtRB9LaEGhu",
        "colab_type": "code",
        "colab": {
          "base_uri": "https://localhost:8080/",
          "height": 4270
        },
        "outputId": "388b6b46-3976-4aaa-dc27-5c11a68e488f"
      },
      "source": [
        "model.fit_generator(train_iterator, steps_per_epoch=train_iterator.n//train_iterator.batch_size, verbose=1,nb_epoch=40, validation_data=val_iterator,validation_steps = val_iterator.n//val_iterator.batch_size, callbacks=callbacks_list)"
      ],
      "execution_count": 18,
      "outputs": [
        {
          "output_type": "stream",
          "text": [
            "/usr/local/lib/python3.6/dist-packages/ipykernel_launcher.py:1: UserWarning: The semantics of the Keras 2 argument `steps_per_epoch` is not the same as the Keras 1 argument `samples_per_epoch`. `steps_per_epoch` is the number of batches to draw from the generator at each epoch. Basically steps_per_epoch = samples_per_epoch/batch_size. Similarly `nb_val_samples`->`validation_steps` and `val_samples`->`steps` arguments have changed. Update your method calls accordingly.\n",
            "  \"\"\"Entry point for launching an IPython kernel.\n",
            "/usr/local/lib/python3.6/dist-packages/ipykernel_launcher.py:1: UserWarning: Update your `fit_generator` call to the Keras 2 API: `fit_generator(<keras_pre..., steps_per_epoch=937, verbose=1, validation_data=<keras_pre..., validation_steps=156, callbacks=[<keras.ca..., epochs=40)`\n",
            "  \"\"\"Entry point for launching an IPython kernel.\n"
          ],
          "name": "stderr"
        },
        {
          "output_type": "stream",
          "text": [
            "Epoch 1/40\n"
          ],
          "name": "stdout"
        },
        {
          "output_type": "stream",
          "text": [
            "/usr/local/lib/python3.6/dist-packages/keras_preprocessing/image/image_data_generator.py:699: UserWarning: This ImageDataGenerator specifies `featurewise_center`, but it hasn't been fit on any training data. Fit it first by calling `.fit(numpy_data)`.\n",
            "  warnings.warn('This ImageDataGenerator specifies '\n",
            "/usr/local/lib/python3.6/dist-packages/keras_preprocessing/image/image_data_generator.py:707: UserWarning: This ImageDataGenerator specifies `featurewise_std_normalization`, but it hasn't been fit on any training data. Fit it first by calling `.fit(numpy_data)`.\n",
            "  warnings.warn('This ImageDataGenerator specifies '\n"
          ],
          "name": "stderr"
        },
        {
          "output_type": "stream",
          "text": [
            "\n",
            "Epoch 00001: LearningRateScheduler setting learning rate to 0.003.\n",
            "937/937 [==============================] - 14s 15ms/step - loss: 0.2370 - acc: 0.9626 - val_loss: 0.4209 - val_acc: 0.9012\n",
            "\n",
            "Epoch 00001: val_acc improved from -inf to 0.90117, saving model to Assignment5//maxAccuracy.hdf5\n",
            "Epoch 2/40\n",
            "\n",
            "Epoch 00002: LearningRateScheduler setting learning rate to 0.0022744503.\n",
            "937/937 [==============================] - 13s 14ms/step - loss: 0.1953 - acc: 0.9684 - val_loss: 0.1960 - val_acc: 0.9633\n",
            "\n",
            "Epoch 00002: val_acc improved from 0.90117 to 0.96326, saving model to Assignment5//maxAccuracy.hdf5\n",
            "Epoch 3/40\n",
            "\n",
            "Epoch 00003: LearningRateScheduler setting learning rate to 0.0018315018.\n",
            "937/937 [==============================] - 13s 13ms/step - loss: 0.1706 - acc: 0.9710 - val_loss: 0.1701 - val_acc: 0.9687\n",
            "\n",
            "Epoch 00003: val_acc improved from 0.96326 to 0.96870, saving model to Assignment5//maxAccuracy.hdf5\n",
            "Epoch 4/40\n",
            "\n",
            "Epoch 00004: LearningRateScheduler setting learning rate to 0.0015329586.\n",
            "937/937 [==============================] - 13s 14ms/step - loss: 0.1525 - acc: 0.9742 - val_loss: 0.1480 - val_acc: 0.9746\n",
            "\n",
            "Epoch 00004: val_acc improved from 0.96870 to 0.97464, saving model to Assignment5//maxAccuracy.hdf5\n",
            "Epoch 5/40\n",
            "\n",
            "Epoch 00005: LearningRateScheduler setting learning rate to 0.0013181019.\n",
            "937/937 [==============================] - 12s 13ms/step - loss: 0.1368 - acc: 0.9765 - val_loss: 0.1215 - val_acc: 0.9806\n",
            "\n",
            "Epoch 00005: val_acc improved from 0.97464 to 0.98058, saving model to Assignment5//maxAccuracy.hdf5\n",
            "Epoch 6/40\n",
            "\n",
            "Epoch 00006: LearningRateScheduler setting learning rate to 0.0011560694.\n",
            "937/937 [==============================] - 13s 13ms/step - loss: 0.1262 - acc: 0.9780 - val_loss: 0.1222 - val_acc: 0.9783\n",
            "\n",
            "Epoch 00006: val_acc did not improve from 0.98058\n",
            "Epoch 7/40\n",
            "\n",
            "Epoch 00007: LearningRateScheduler setting learning rate to 0.0010295127.\n",
            "937/937 [==============================] - 12s 13ms/step - loss: 0.1169 - acc: 0.9803 - val_loss: 0.1097 - val_acc: 0.9807\n",
            "\n",
            "Epoch 00007: val_acc improved from 0.98058 to 0.98068, saving model to Assignment5//maxAccuracy.hdf5\n",
            "Epoch 8/40\n",
            "\n",
            "Epoch 00008: LearningRateScheduler setting learning rate to 0.0009279307.\n",
            "937/937 [==============================] - 13s 14ms/step - loss: 0.1089 - acc: 0.9809 - val_loss: 0.0923 - val_acc: 0.9853\n",
            "\n",
            "Epoch 00008: val_acc improved from 0.98068 to 0.98531, saving model to Assignment5//maxAccuracy.hdf5\n",
            "Epoch 9/40\n",
            "\n",
            "Epoch 00009: LearningRateScheduler setting learning rate to 0.0008445946.\n",
            "937/937 [==============================] - 12s 13ms/step - loss: 0.1043 - acc: 0.9819 - val_loss: 0.0921 - val_acc: 0.9845\n",
            "\n",
            "Epoch 00009: val_acc did not improve from 0.98531\n",
            "Epoch 10/40\n",
            "\n",
            "Epoch 00010: LearningRateScheduler setting learning rate to 0.0007749935.\n",
            "937/937 [==============================] - 12s 13ms/step - loss: 0.0992 - acc: 0.9822 - val_loss: 0.0878 - val_acc: 0.9855\n",
            "\n",
            "Epoch 00010: val_acc improved from 0.98531 to 0.98551, saving model to Assignment5//maxAccuracy.hdf5\n",
            "Epoch 11/40\n",
            "\n",
            "Epoch 00011: LearningRateScheduler setting learning rate to 0.0007159905.\n",
            "937/937 [==============================] - 12s 13ms/step - loss: 0.0942 - acc: 0.9828 - val_loss: 0.0862 - val_acc: 0.9859\n",
            "\n",
            "Epoch 00011: val_acc improved from 0.98551 to 0.98588, saving model to Assignment5//maxAccuracy.hdf5\n",
            "Epoch 12/40\n",
            "\n",
            "Epoch 00012: LearningRateScheduler setting learning rate to 0.000665336.\n",
            "937/937 [==============================] - 12s 13ms/step - loss: 0.0926 - acc: 0.9828 - val_loss: 0.0764 - val_acc: 0.9871\n",
            "\n",
            "Epoch 00012: val_acc improved from 0.98588 to 0.98712, saving model to Assignment5//maxAccuracy.hdf5\n",
            "Epoch 13/40\n",
            "\n",
            "Epoch 00013: LearningRateScheduler setting learning rate to 0.0006213753.\n",
            "937/937 [==============================] - 12s 13ms/step - loss: 0.0871 - acc: 0.9841 - val_loss: 0.0831 - val_acc: 0.9856\n",
            "\n",
            "Epoch 00013: val_acc did not improve from 0.98712\n",
            "Epoch 14/40\n",
            "\n",
            "Epoch 00014: LearningRateScheduler setting learning rate to 0.0005828638.\n",
            "937/937 [==============================] - 12s 13ms/step - loss: 0.0838 - acc: 0.9847 - val_loss: 0.0797 - val_acc: 0.9850\n",
            "\n",
            "Epoch 00014: val_acc did not improve from 0.98712\n",
            "Epoch 15/40\n",
            "\n",
            "Epoch 00015: LearningRateScheduler setting learning rate to 0.0005488474.\n",
            "937/937 [==============================] - 12s 13ms/step - loss: 0.0810 - acc: 0.9849 - val_loss: 0.0756 - val_acc: 0.9863\n",
            "\n",
            "Epoch 00015: val_acc did not improve from 0.98712\n",
            "Epoch 16/40\n",
            "\n",
            "Epoch 00016: LearningRateScheduler setting learning rate to 0.0005185825.\n",
            "937/937 [==============================] - 12s 13ms/step - loss: 0.0798 - acc: 0.9851 - val_loss: 0.0701 - val_acc: 0.9868\n",
            "\n",
            "Epoch 00016: val_acc did not improve from 0.98712\n",
            "Epoch 17/40\n",
            "\n",
            "Epoch 00017: LearningRateScheduler setting learning rate to 0.000491481.\n",
            "937/937 [==============================] - 12s 13ms/step - loss: 0.0786 - acc: 0.9849 - val_loss: 0.0752 - val_acc: 0.9856\n",
            "\n",
            "Epoch 00017: val_acc did not improve from 0.98712\n",
            "Epoch 18/40\n",
            "\n",
            "Epoch 00018: LearningRateScheduler setting learning rate to 0.0004670715.\n",
            "937/937 [==============================] - 12s 13ms/step - loss: 0.0736 - acc: 0.9870 - val_loss: 0.0728 - val_acc: 0.9862\n",
            "\n",
            "Epoch 00018: val_acc did not improve from 0.98712\n",
            "Epoch 19/40\n",
            "\n",
            "Epoch 00019: LearningRateScheduler setting learning rate to 0.0004449718.\n",
            "937/937 [==============================] - 12s 13ms/step - loss: 0.0724 - acc: 0.9862 - val_loss: 0.0633 - val_acc: 0.9890\n",
            "\n",
            "Epoch 00019: val_acc improved from 0.98712 to 0.98903, saving model to Assignment5//maxAccuracy.hdf5\n",
            "Epoch 20/40\n",
            "\n",
            "Epoch 00020: LearningRateScheduler setting learning rate to 0.000424869.\n",
            "937/937 [==============================] - 12s 13ms/step - loss: 0.0704 - acc: 0.9865 - val_loss: 0.0606 - val_acc: 0.9889\n",
            "\n",
            "Epoch 00020: val_acc did not improve from 0.98903\n",
            "Epoch 21/40\n",
            "\n",
            "Epoch 00021: LearningRateScheduler setting learning rate to 0.0004065041.\n",
            "937/937 [==============================] - 12s 13ms/step - loss: 0.0692 - acc: 0.9868 - val_loss: 0.0534 - val_acc: 0.9920\n",
            "\n",
            "Epoch 00021: val_acc improved from 0.98903 to 0.99205, saving model to Assignment5//maxAccuracy.hdf5\n",
            "Epoch 22/40\n",
            "\n",
            "Epoch 00022: LearningRateScheduler setting learning rate to 0.000389661.\n",
            "937/937 [==============================] - 12s 13ms/step - loss: 0.0687 - acc: 0.9872 - val_loss: 0.0561 - val_acc: 0.9908\n",
            "\n",
            "Epoch 00022: val_acc did not improve from 0.99205\n",
            "Epoch 23/40\n",
            "\n",
            "Epoch 00023: LearningRateScheduler setting learning rate to 0.0003741581.\n",
            "937/937 [==============================] - 12s 13ms/step - loss: 0.0656 - acc: 0.9877 - val_loss: 0.0634 - val_acc: 0.9883\n",
            "\n",
            "Epoch 00023: val_acc did not improve from 0.99205\n",
            "Epoch 24/40\n",
            "\n",
            "Epoch 00024: LearningRateScheduler setting learning rate to 0.0003598417.\n",
            "937/937 [==============================] - 12s 13ms/step - loss: 0.0652 - acc: 0.9874 - val_loss: 0.0689 - val_acc: 0.9872\n",
            "\n",
            "Epoch 00024: val_acc did not improve from 0.99205\n",
            "Epoch 25/40\n",
            "\n",
            "Epoch 00025: LearningRateScheduler setting learning rate to 0.0003465804.\n",
            "937/937 [==============================] - 12s 13ms/step - loss: 0.0644 - acc: 0.9876 - val_loss: 0.0598 - val_acc: 0.9885\n",
            "\n",
            "Epoch 00025: val_acc did not improve from 0.99205\n",
            "Epoch 26/40\n",
            "\n",
            "Epoch 00026: LearningRateScheduler setting learning rate to 0.0003342618.\n",
            "937/937 [==============================] - 12s 13ms/step - loss: 0.0628 - acc: 0.9879 - val_loss: 0.0602 - val_acc: 0.9882\n",
            "\n",
            "Epoch 00026: val_acc did not improve from 0.99205\n",
            "Epoch 27/40\n",
            "\n",
            "Epoch 00027: LearningRateScheduler setting learning rate to 0.0003227889.\n",
            "937/937 [==============================] - 12s 13ms/step - loss: 0.0612 - acc: 0.9883 - val_loss: 0.0547 - val_acc: 0.9901\n",
            "\n",
            "Epoch 00027: val_acc did not improve from 0.99205\n",
            "Epoch 28/40\n",
            "\n",
            "Epoch 00028: LearningRateScheduler setting learning rate to 0.0003120774.\n",
            "937/937 [==============================] - 13s 13ms/step - loss: 0.0601 - acc: 0.9881 - val_loss: 0.0532 - val_acc: 0.9899\n",
            "\n",
            "Epoch 00028: val_acc did not improve from 0.99205\n",
            "Epoch 29/40\n",
            "\n",
            "Epoch 00029: LearningRateScheduler setting learning rate to 0.000302054.\n",
            "937/937 [==============================] - 13s 14ms/step - loss: 0.0607 - acc: 0.9884 - val_loss: 0.0567 - val_acc: 0.9887\n",
            "\n",
            "Epoch 00029: val_acc did not improve from 0.99205\n",
            "Epoch 30/40\n",
            "\n",
            "Epoch 00030: LearningRateScheduler setting learning rate to 0.0002926544.\n",
            "937/937 [==============================] - 12s 13ms/step - loss: 0.0603 - acc: 0.9887 - val_loss: 0.0556 - val_acc: 0.9894\n",
            "\n",
            "Epoch 00030: val_acc did not improve from 0.99205\n",
            "Epoch 31/40\n",
            "\n",
            "Epoch 00031: LearningRateScheduler setting learning rate to 0.0002838221.\n",
            "937/937 [==============================] - 12s 13ms/step - loss: 0.0581 - acc: 0.9889 - val_loss: 0.0568 - val_acc: 0.9891\n",
            "\n",
            "Epoch 00031: val_acc did not improve from 0.99205\n",
            "Epoch 32/40\n",
            "\n",
            "Epoch 00032: LearningRateScheduler setting learning rate to 0.0002755074.\n",
            "937/937 [==============================] - 12s 13ms/step - loss: 0.0568 - acc: 0.9892 - val_loss: 0.0573 - val_acc: 0.9891\n",
            "\n",
            "Epoch 00032: val_acc did not improve from 0.99205\n",
            "Epoch 33/40\n",
            "\n",
            "Epoch 00033: LearningRateScheduler setting learning rate to 0.000267666.\n",
            "937/937 [==============================] - 13s 13ms/step - loss: 0.0550 - acc: 0.9896 - val_loss: 0.0588 - val_acc: 0.9877\n",
            "\n",
            "Epoch 00033: val_acc did not improve from 0.99205\n",
            "Epoch 34/40\n",
            "\n",
            "Epoch 00034: LearningRateScheduler setting learning rate to 0.0002602585.\n",
            "937/937 [==============================] - 13s 13ms/step - loss: 0.0562 - acc: 0.9893 - val_loss: 0.0508 - val_acc: 0.9906\n",
            "\n",
            "Epoch 00034: val_acc did not improve from 0.99205\n",
            "Epoch 35/40\n",
            "\n",
            "Epoch 00035: LearningRateScheduler setting learning rate to 0.00025325.\n",
            "937/937 [==============================] - 12s 13ms/step - loss: 0.0536 - acc: 0.9897 - val_loss: 0.0613 - val_acc: 0.9865\n",
            "\n",
            "Epoch 00035: val_acc did not improve from 0.99205\n",
            "Epoch 36/40\n",
            "\n",
            "Epoch 00036: LearningRateScheduler setting learning rate to 0.0002466091.\n",
            "937/937 [==============================] - 12s 13ms/step - loss: 0.0545 - acc: 0.9892 - val_loss: 0.0525 - val_acc: 0.9901\n",
            "\n",
            "Epoch 00036: val_acc did not improve from 0.99205\n",
            "Epoch 37/40\n",
            "\n",
            "Epoch 00037: LearningRateScheduler setting learning rate to 0.0002403076.\n",
            "937/937 [==============================] - 12s 13ms/step - loss: 0.0530 - acc: 0.9898 - val_loss: 0.0600 - val_acc: 0.9876\n",
            "\n",
            "Epoch 00037: val_acc did not improve from 0.99205\n",
            "Epoch 38/40\n",
            "\n",
            "Epoch 00038: LearningRateScheduler setting learning rate to 0.0002343201.\n",
            "937/937 [==============================] - 12s 13ms/step - loss: 0.0522 - acc: 0.9897 - val_loss: 0.0465 - val_acc: 0.9912\n",
            "\n",
            "Epoch 00038: val_acc did not improve from 0.99205\n",
            "Epoch 39/40\n",
            "\n",
            "Epoch 00039: LearningRateScheduler setting learning rate to 0.0002286237.\n",
            "937/937 [==============================] - 12s 13ms/step - loss: 0.0521 - acc: 0.9898 - val_loss: 0.0461 - val_acc: 0.9919\n",
            "\n",
            "Epoch 00039: val_acc did not improve from 0.99205\n",
            "Epoch 40/40\n",
            "\n",
            "Epoch 00040: LearningRateScheduler setting learning rate to 0.0002231977.\n",
            "937/937 [==============================] - 12s 13ms/step - loss: 0.0505 - acc: 0.9901 - val_loss: 0.0481 - val_acc: 0.9912\n",
            "\n",
            "Epoch 00040: val_acc did not improve from 0.99205\n"
          ],
          "name": "stdout"
        },
        {
          "output_type": "execute_result",
          "data": {
            "text/plain": [
              "<keras.callbacks.History at 0x7f7400561f60>"
            ]
          },
          "metadata": {
            "tags": []
          },
          "execution_count": 18
        }
      ]
    },
    {
      "cell_type": "code",
      "metadata": {
        "id": "eV5-aw1sM9d_",
        "colab_type": "code",
        "colab": {}
      },
      "source": [
        "model.load_weights('Assignment5//maxAccuracy.hdf5')"
      ],
      "execution_count": 0,
      "outputs": []
    },
    {
      "cell_type": "code",
      "metadata": {
        "id": "RvBWb7Reifeh",
        "colab_type": "code",
        "colab": {
          "base_uri": "https://localhost:8080/",
          "height": 105
        },
        "outputId": "b3ad7efd-346a-4198-996d-bb6e789bcd60"
      },
      "source": [
        "score = model.evaluate_generator(val_iterator, steps=len(val_iterator))"
      ],
      "execution_count": 20,
      "outputs": [
        {
          "output_type": "stream",
          "text": [
            "/usr/local/lib/python3.6/dist-packages/keras_preprocessing/image/image_data_generator.py:699: UserWarning: This ImageDataGenerator specifies `featurewise_center`, but it hasn't been fit on any training data. Fit it first by calling `.fit(numpy_data)`.\n",
            "  warnings.warn('This ImageDataGenerator specifies '\n",
            "/usr/local/lib/python3.6/dist-packages/keras_preprocessing/image/image_data_generator.py:707: UserWarning: This ImageDataGenerator specifies `featurewise_std_normalization`, but it hasn't been fit on any training data. Fit it first by calling `.fit(numpy_data)`.\n",
            "  warnings.warn('This ImageDataGenerator specifies '\n"
          ],
          "name": "stderr"
        }
      ]
    },
    {
      "cell_type": "code",
      "metadata": {
        "id": "mkX8JMv79q9r",
        "colab_type": "code",
        "outputId": "c9ccb22a-d829-423b-fdaf-57c3c2cbae67",
        "colab": {
          "base_uri": "https://localhost:8080/",
          "height": 34
        }
      },
      "source": [
        "print(score)"
      ],
      "execution_count": 21,
      "outputs": [
        {
          "output_type": "stream",
          "text": [
            "[0.053269310754537585, 0.9921]\n"
          ],
          "name": "stdout"
        }
      ]
    },
    {
      "cell_type": "code",
      "metadata": {
        "id": "OCWoJkwE9suh",
        "colab_type": "code",
        "colab": {}
      },
      "source": [
        "y_pred = model.predict(X_test)"
      ],
      "execution_count": 0,
      "outputs": []
    },
    {
      "cell_type": "code",
      "metadata": {
        "id": "Ym7iCFBm9uBs",
        "colab_type": "code",
        "outputId": "2a897c89-3595-47c5-deb1-13e5f991382c",
        "colab": {
          "base_uri": "https://localhost:8080/",
          "height": 340
        }
      },
      "source": [
        "print(y_pred[:9])\n",
        "print(y_test[:9])"
      ],
      "execution_count": 23,
      "outputs": [
        {
          "output_type": "stream",
          "text": [
            "[[0.0000000e+00 0.0000000e+00 2.3645089e-10 6.7411304e-02 0.0000000e+00\n",
            "  0.0000000e+00 0.0000000e+00 9.3258864e-01 0.0000000e+00 0.0000000e+00]\n",
            " [0.0000000e+00 0.0000000e+00 1.0000000e+00 0.0000000e+00 0.0000000e+00\n",
            "  0.0000000e+00 0.0000000e+00 0.0000000e+00 0.0000000e+00 0.0000000e+00]\n",
            " [2.5702854e-27 0.0000000e+00 3.4840546e-09 0.0000000e+00 3.1567571e-27\n",
            "  3.7573460e-27 1.0000000e+00 0.0000000e+00 0.0000000e+00 0.0000000e+00]\n",
            " [1.0000000e+00 0.0000000e+00 5.4913189e-27 0.0000000e+00 0.0000000e+00\n",
            "  0.0000000e+00 0.0000000e+00 0.0000000e+00 0.0000000e+00 0.0000000e+00]\n",
            " [0.0000000e+00 0.0000000e+00 0.0000000e+00 0.0000000e+00 3.2887679e-16\n",
            "  0.0000000e+00 0.0000000e+00 0.0000000e+00 0.0000000e+00 1.0000000e+00]\n",
            " [7.0813476e-18 0.0000000e+00 9.9999201e-01 0.0000000e+00 0.0000000e+00\n",
            "  0.0000000e+00 8.0450391e-06 0.0000000e+00 0.0000000e+00 0.0000000e+00]\n",
            " [0.0000000e+00 0.0000000e+00 2.2872071e-34 0.0000000e+00 7.1483449e-04\n",
            "  4.9095683e-20 0.0000000e+00 0.0000000e+00 6.1909481e-29 9.9928516e-01]\n",
            " [0.0000000e+00 0.0000000e+00 0.0000000e+00 0.0000000e+00 0.0000000e+00\n",
            "  0.0000000e+00 0.0000000e+00 0.0000000e+00 0.0000000e+00 1.0000000e+00]\n",
            " [0.0000000e+00 0.0000000e+00 0.0000000e+00 0.0000000e+00 0.0000000e+00\n",
            "  1.0000000e+00 0.0000000e+00 0.0000000e+00 0.0000000e+00 0.0000000e+00]]\n",
            "[7 2 1 0 4 1 4 9 5]\n"
          ],
          "name": "stdout"
        }
      ]
    },
    {
      "cell_type": "code",
      "metadata": {
        "id": "RBW48mFvjTC4",
        "colab_type": "code",
        "colab": {
          "base_uri": "https://localhost:8080/",
          "height": 105
        },
        "outputId": "f4ab32b7-fdd6-4d33-fe27-b8b7b805423f"
      },
      "source": [
        "import pandas as pd\n",
        "\n",
        "val_iterator = datagen.flow(X_test, Y_test, batch_size=10000, shuffle=False)\n",
        "x_val, y_val = next(val_iterator)\n",
        "Y_val = np.argmax(y_val, axis=1) # Convert one-hot to index\n",
        "y_pred = model.predict(x_val)\n",
        "Y_pred = y_pred.argmax(axis=1)\n",
        "d = {'pred': Y_pred, 'true': Y_val} #axis=1!important!\n",
        "df=pd.DataFrame(data=d)\n"
      ],
      "execution_count": 24,
      "outputs": [
        {
          "output_type": "stream",
          "text": [
            "/usr/local/lib/python3.6/dist-packages/keras_preprocessing/image/image_data_generator.py:699: UserWarning: This ImageDataGenerator specifies `featurewise_center`, but it hasn't been fit on any training data. Fit it first by calling `.fit(numpy_data)`.\n",
            "  warnings.warn('This ImageDataGenerator specifies '\n",
            "/usr/local/lib/python3.6/dist-packages/keras_preprocessing/image/image_data_generator.py:707: UserWarning: This ImageDataGenerator specifies `featurewise_std_normalization`, but it hasn't been fit on any training data. Fit it first by calling `.fit(numpy_data)`.\n",
            "  warnings.warn('This ImageDataGenerator specifies '\n"
          ],
          "name": "stderr"
        }
      ]
    },
    {
      "cell_type": "code",
      "metadata": {
        "id": "sigbhiVVrYeM",
        "colab_type": "code",
        "colab": {}
      },
      "source": [
        "MisIndex = df[(df.pred != df.true)].index"
      ],
      "execution_count": 0,
      "outputs": []
    },
    {
      "cell_type": "code",
      "metadata": {
        "id": "oP6efAsZpTNQ",
        "colab_type": "code",
        "colab": {}
      },
      "source": [
        "(X_train, y_train), (X_test, y_test) = mnist.load_data()"
      ],
      "execution_count": 0,
      "outputs": []
    },
    {
      "cell_type": "code",
      "metadata": {
        "id": "fawwjqo_4k2o",
        "colab_type": "code",
        "colab": {
          "base_uri": "https://localhost:8080/",
          "height": 1151
        },
        "outputId": "fa9f4eb6-de3a-40a7-b46b-39dbb10cf2d7"
      },
      "source": [
        "dim=5\n",
        "fig, ax = plt.subplots(dim, dim, sharex='col', sharey='row', figsize=(20,20))\n",
        "num=0\n",
        "for i in range(dim):\n",
        "    for j in range(dim):\n",
        "        ax[i, j].imshow(X_test[MisIndex[num]])\n",
        "        ax[i,j].set_title('True: %s, Predict: %s ' %(df.iloc[MisIndex[num]].true, df.iloc[MisIndex[num]].pred))\n",
        "        num+=1"
      ],
      "execution_count": 45,
      "outputs": [
        {
          "output_type": "display_data",
          "data": {
            "image/png": "[encoded data removed]",
            "text/plain": [
              "<Figure size 1440x1440 with 25 Axes>"
            ]
          },
          "metadata": {
            "tags": []
          }
        }
      ]
    }
  ]
}