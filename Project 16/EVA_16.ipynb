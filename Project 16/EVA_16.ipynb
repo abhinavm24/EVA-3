{
  "nbformat": 4,
  "nbformat_minor": 0,
  "metadata": {
    "colab": {
      "name": "EVA_16.ipynb",
      "version": "0.3.2",
      "provenance": [],
      "collapsed_sections": [
        "Uw5QRZFnozQd"
      ],
      "toc_visible": true
    },
    "kernelspec": {
      "name": "python3",
      "display_name": "Python 3"
    },
    "accelerator": "GPU"
  },
  "cells": [
    {
      "cell_type": "markdown",
      "metadata": {
        "id": "0wp7vQuVKugu",
        "colab_type": "text"
      },
      "source": [
        "### Import Libraries"
      ]
    },
    {
      "cell_type": "code",
      "metadata": {
        "id": "wVIx_KIigxPV",
        "colab_type": "code",
        "colab": {}
      },
      "source": [
        "from tensorflow.keras.datasets import cifar10\n",
        "import tensorflow as tf\n",
        "from tensorflow.keras import backend as K\n",
        "import numpy as np\n",
        "% matplotlib inline \n",
        "from tensorflow.keras.models import Model, Sequential\n",
        "from tensorflow.keras.layers import Conv2D, MaxPooling2D,AveragePooling2D, GlobalAveragePooling2D, GlobalMaxPooling2D\n",
        "from tensorflow.keras.layers import Input, Activation, Flatten, Dense, Dropout\n",
        "from tensorflow.keras.layers import BatchNormalization\n",
        "from tensorflow.keras.preprocessing.image import ImageDataGenerator\n",
        "from tensorflow.keras.layers import Add, Concatenate\n",
        "from tensorflow.keras.optimizers import Adam, SGD\n",
        "from tensorflow.keras.callbacks import LearningRateScheduler, ModelCheckpoint, Callback\n",
        "from tensorflow.keras import utils\n",
        "from tensorflow.python.keras.utils import data_utils\n",
        "import time"
      ],
      "execution_count": 0,
      "outputs": []
    },
    {
      "cell_type": "code",
      "metadata": {
        "id": "UNHw6luQg3gc",
        "colab_type": "code",
        "colab": {}
      },
      "source": [
        "config = tf.ConfigProto()\n",
        "config.gpu_options.allow_growth = True\n",
        "K.set_session(tf.Session(config=config))"
      ],
      "execution_count": 0,
      "outputs": []
    },
    {
      "cell_type": "markdown",
      "metadata": {
        "id": "BR-MZfPjKyh4",
        "colab_type": "text"
      },
      "source": [
        "### Hyperparameters"
      ]
    },
    {
      "cell_type": "code",
      "metadata": {
        "id": "dsO_yGxcg5D8",
        "colab_type": "code",
        "colab": {}
      },
      "source": [
        "# Hyperparameters\n",
        "batch_size = 128\n",
        "num_classes = 10\n",
        "epochs = 50\n",
        "l = 8\n",
        "num_filter = 16\n",
        "compression = 0.9\n",
        "dropout_rate = 0.1"
      ],
      "execution_count": 0,
      "outputs": []
    },
    {
      "cell_type": "markdown",
      "metadata": {
        "id": "PkgaSC2mK8F1",
        "colab_type": "text"
      },
      "source": [
        "### Clone API"
      ]
    },
    {
      "cell_type": "code",
      "metadata": {
        "id": "HfJxl0IjK-jg",
        "colab_type": "code",
        "colab": {
          "base_uri": "https://localhost:8080/",
          "height": 34
        },
        "outputId": "8a6d9bbb-1814-42a4-b30a-5a27024aaba2"
      },
      "source": [
        "!git clone https://github.com/prateekgulati/Jnana.git\n",
        "from Jnana.Data import convert_to_tfrecord_data,create_dataset"
      ],
      "execution_count": 21,
      "outputs": [
        {
          "output_type": "stream",
          "text": [
            "fatal: destination path 'Jnana' already exists and is not an empty directory.\n"
          ],
          "name": "stdout"
        }
      ]
    },
    {
      "cell_type": "markdown",
      "metadata": {
        "id": "X0Q4g-qXLh6Y",
        "colab_type": "text"
      },
      "source": [
        "### Read and Write TFRecord"
      ]
    },
    {
      "cell_type": "code",
      "metadata": {
        "id": "odMyYwTKiOTp",
        "colab_type": "code",
        "colab": {}
      },
      "source": [
        "# Load CIFAR10 Data\n",
        "(x_train, y_train), (x_test, y_test) = cifar10.load_data()\n",
        "img_height, img_width, channel = x_train.shape[1],x_train.shape[2],x_train.shape[3]\n",
        "STEPS_PER_EPOCH = len(x_train) // batch_size\n",
        "VALIDATION_STEPS = len(x_test) // batch_size"
      ],
      "execution_count": 0,
      "outputs": []
    },
    {
      "cell_type": "code",
      "metadata": {
        "id": "mB7o3zu1g6eT",
        "colab_type": "code",
        "colab": {}
      },
      "source": [
        "# train_mean = np.mean(x_train, axis=(0,1,2))\n",
        "# train_std = np.std(x_train, axis=(0,1,2))\n",
        "\n",
        "# test_mean = np.mean(x_train, axis=(0,1,2))\n",
        "# test_std = np.std(x_train, axis=(0,1,2))\n",
        "\n",
        "# normalize = lambda x: ((x - train_mean) / train_std).astype('float32')\n",
        "# normalize_test = lambda x: ((x - test_mean) / test_std).astype('float32')\n",
        "\n",
        "# x_train = normalize(x_train)\n",
        "# x_test = normalize(x_test)\n",
        "\n",
        "# # convert to one hot encoing \n",
        "# y_train = utils.to_categorical(y_train, num_classes)\n",
        "# y_test = utils.to_categorical(y_test, num_classes)"
      ],
      "execution_count": 0,
      "outputs": []
    },
    {
      "cell_type": "code",
      "metadata": {
        "id": "fFzIAFwchI72",
        "colab_type": "code",
        "outputId": "000d35f8-0fed-4bbb-daa8-b4227716f140",
        "colab": {
          "base_uri": "https://localhost:8080/",
          "height": 51
        }
      },
      "source": [
        "convert_to_tfrecord_data(x_train,y_train, './train.tfrecord')\n",
        "convert_to_tfrecord_data(x_test,y_test, './test.tfrecord')"
      ],
      "execution_count": 24,
      "outputs": [
        {
          "output_type": "stream",
          "text": [
            "Generating ./train.tfrecord\n",
            "Generating ./test.tfrecord\n"
          ],
          "name": "stdout"
        }
      ]
    },
    {
      "cell_type": "code",
      "metadata": {
        "id": "HXuOB8hbG6bI",
        "colab_type": "code",
        "colab": {}
      },
      "source": [
        "x_trainTF, y_trainTF = create_dataset('./train.tfrecord')\n",
        "x_testTF, y_testTF = create_dataset('./test.tfrecord')"
      ],
      "execution_count": 0,
      "outputs": []
    },
    {
      "cell_type": "markdown",
      "metadata": {
        "id": "1l7KVPBLZB50",
        "colab_type": "text"
      },
      "source": [
        "### Functions for Post Training Analysis "
      ]
    },
    {
      "cell_type": "code",
      "metadata": {
        "id": "bmfsk76-fadV",
        "colab_type": "code",
        "colab": {}
      },
      "source": [
        "def plot_model_history(model_history):\n",
        "    fig, axs = plt.subplots(1,2,figsize=(15,5))\n",
        "    # summarize history for accuracy\n",
        "    axs[0].plot(range(1,len(model_history.history['acc'])+1),model_history.history['acc'])\n",
        "    axs[0].plot(range(1,len(model_history.history['val_acc'])+1),model_history.history['val_acc'])\n",
        "    axs[0].set_title('Model Accuracy')\n",
        "    axs[0].set_ylabel('Accuracy')\n",
        "    axs[0].set_xlabel('Epoch')\n",
        "    axs[0].set_xticks(np.arange(1,len(model_history.history['acc'])+1),len(model_history.history['acc'])/10)\n",
        "    axs[0].legend(['train', 'val'], loc='best')\n",
        "    # summarize history for loss\n",
        "    axs[1].plot(range(1,len(model_history.history['loss'])+1),model_history.history['loss'])\n",
        "    axs[1].plot(range(1,len(model_history.history['val_loss'])+1),model_history.history['val_loss'])\n",
        "    axs[1].set_title('Model Loss')\n",
        "    axs[1].set_ylabel('Loss')\n",
        "    axs[1].set_xlabel('Epoch')\n",
        "    axs[1].set_xticks(np.arange(1,len(model_history.history['loss'])+1),len(model_history.history['loss'])/10)\n",
        "    axs[1].legend(['train', 'val'], loc='best')\n",
        "    plt.show()"
      ],
      "execution_count": 0,
      "outputs": []
    },
    {
      "cell_type": "code",
      "metadata": {
        "id": "YJMT4rjgfdZz",
        "colab_type": "code",
        "colab": {}
      },
      "source": [
        "def accuracy(test_x, test_y, model):\n",
        "    result = model.predict(test_x)\n",
        "    predicted_class = np.argmax(result, axis=1)\n",
        "    true_class = np.argmax(test_y, axis=1)\n",
        "    num_correct = np.sum(predicted_class == true_class) \n",
        "    accuracy = float(num_correct)/result.shape[0]\n",
        "    return (accuracy * 100)"
      ],
      "execution_count": 0,
      "outputs": []
    },
    {
      "cell_type": "markdown",
      "metadata": {
        "id": "pBwfxGXCL4QA",
        "colab_type": "text"
      },
      "source": [
        "### Model"
      ]
    },
    {
      "cell_type": "code",
      "metadata": {
        "id": "ee-sge5Kg7vr",
        "colab_type": "code",
        "colab": {}
      },
      "source": [
        "# Dense Block\n",
        "def add_denseblock(input, num_filter = 12, dropout_rate = 0.2):\n",
        "    global compression\n",
        "    temp = input\n",
        "    for _ in range(l):\n",
        "        BatchNorm = BatchNormalization()(temp)\n",
        "        relu = Activation('relu')(BatchNorm)\n",
        "        Conv2D_3_3 = Conv2D(int(num_filter*compression), (3,3), use_bias=False ,padding='same')(relu)\n",
        "        if dropout_rate>0:\n",
        "          Conv2D_3_3 = Dropout(dropout_rate)(Conv2D_3_3)\n",
        "        concat = Concatenate(axis=-1)([temp,Conv2D_3_3])\n",
        "        \n",
        "        temp = concat\n",
        "        \n",
        "    return temp"
      ],
      "execution_count": 0,
      "outputs": []
    },
    {
      "cell_type": "code",
      "metadata": {
        "id": "OOP6IPsGhBwb",
        "colab_type": "code",
        "colab": {}
      },
      "source": [
        "def add_transition(input, num_filter = 12, dropout_rate = 0.2):\n",
        "    global compression\n",
        "    BatchNorm = BatchNormalization()(input)\n",
        "    relu = Activation('relu')(BatchNorm)\n",
        "    Conv2D_BottleNeck = Conv2D(int(num_filter*compression), (1,1), use_bias=False ,padding='same')(relu)\n",
        "    if dropout_rate>0:\n",
        "      Conv2D_BottleNeck = Dropout(dropout_rate)(Conv2D_BottleNeck)\n",
        "    avg = AveragePooling2D(pool_size=(2,2))(Conv2D_BottleNeck)\n",
        "    \n",
        "    return avg"
      ],
      "execution_count": 0,
      "outputs": []
    },
    {
      "cell_type": "code",
      "metadata": {
        "id": "0RaKFpubhDIC",
        "colab_type": "code",
        "colab": {}
      },
      "source": [
        "def output_layer(input):\n",
        "    global compression\n",
        "    BatchNorm = BatchNormalization()(input)\n",
        "    relu = Activation('relu')(BatchNorm)\n",
        "    AvgPooling = AveragePooling2D(pool_size=(2,2))(relu)\n",
        "    flat = Flatten()(AvgPooling)\n",
        "    output = Dense(num_classes, activation='softmax')(flat)\n",
        "    \n",
        "    return output"
      ],
      "execution_count": 0,
      "outputs": []
    },
    {
      "cell_type": "code",
      "metadata": {
        "id": "anPCpQWhhGb7",
        "colab_type": "code",
        "colab": {}
      },
      "source": [
        "input = Input(shape=(img_height, img_width, channel,))\n",
        "First_Conv2D = Conv2D(num_filter, (3,3), use_bias=False ,padding='same')(input)\n",
        "\n",
        "First_Block = add_denseblock(First_Conv2D, num_filter, dropout_rate)\n",
        "First_Transition = add_transition(First_Block, num_filter, dropout_rate)\n",
        "\n",
        "Second_Block = add_denseblock(First_Transition, num_filter, dropout_rate)\n",
        "Second_Transition = add_transition(Second_Block, num_filter, dropout_rate)\n",
        "\n",
        "Third_Block = add_denseblock(Second_Transition, num_filter, dropout_rate)\n",
        "Third_Transition = add_transition(Third_Block, num_filter, dropout_rate)\n",
        "\n",
        "Last_Block = add_denseblock(Third_Transition,  num_filter, dropout_rate)\n",
        "output = output_layer(Last_Block)\n"
      ],
      "execution_count": 0,
      "outputs": []
    },
    {
      "cell_type": "markdown",
      "metadata": {
        "id": "Uw5QRZFnozQd",
        "colab_type": "text"
      },
      "source": [
        "### Model Summary"
      ]
    },
    {
      "cell_type": "code",
      "metadata": {
        "id": "1kFh7pdxhNtT",
        "colab_type": "code",
        "outputId": "a98bea73-6a4a-431f-f5b9-2a4894a33eda",
        "colab": {
          "base_uri": "https://localhost:8080/",
          "height": 1000
        }
      },
      "source": [
        "model = Model(inputs=[input], outputs=[output])\n",
        "model.summary()"
      ],
      "execution_count": 32,
      "outputs": [
        {
          "output_type": "stream",
          "text": [
            "Model: \"model_1\"\n",
            "__________________________________________________________________________________________________\n",
            "Layer (type)                    Output Shape         Param #     Connected to                     \n",
            "==================================================================================================\n",
            "input_2 (InputLayer)            [(None, 32, 32, 3)]  0                                            \n",
            "__________________________________________________________________________________________________\n",
            "conv2d_36 (Conv2D)              (None, 32, 32, 16)   432         input_2[0][0]                    \n",
            "__________________________________________________________________________________________________\n",
            "batch_normalization_36 (BatchNo (None, 32, 32, 16)   64          conv2d_36[0][0]                  \n",
            "__________________________________________________________________________________________________\n",
            "activation_36 (Activation)      (None, 32, 32, 16)   0           batch_normalization_36[0][0]     \n",
            "__________________________________________________________________________________________________\n",
            "conv2d_37 (Conv2D)              (None, 32, 32, 14)   2016        activation_36[0][0]              \n",
            "__________________________________________________________________________________________________\n",
            "dropout_35 (Dropout)            (None, 32, 32, 14)   0           conv2d_37[0][0]                  \n",
            "__________________________________________________________________________________________________\n",
            "concatenate_32 (Concatenate)    (None, 32, 32, 30)   0           conv2d_36[0][0]                  \n",
            "                                                                 dropout_35[0][0]                 \n",
            "__________________________________________________________________________________________________\n",
            "batch_normalization_37 (BatchNo (None, 32, 32, 30)   120         concatenate_32[0][0]             \n",
            "__________________________________________________________________________________________________\n",
            "activation_37 (Activation)      (None, 32, 32, 30)   0           batch_normalization_37[0][0]     \n",
            "__________________________________________________________________________________________________\n",
            "conv2d_38 (Conv2D)              (None, 32, 32, 14)   3780        activation_37[0][0]              \n",
            "__________________________________________________________________________________________________\n",
            "dropout_36 (Dropout)            (None, 32, 32, 14)   0           conv2d_38[0][0]                  \n",
            "__________________________________________________________________________________________________\n",
            "concatenate_33 (Concatenate)    (None, 32, 32, 44)   0           concatenate_32[0][0]             \n",
            "                                                                 dropout_36[0][0]                 \n",
            "__________________________________________________________________________________________________\n",
            "batch_normalization_38 (BatchNo (None, 32, 32, 44)   176         concatenate_33[0][0]             \n",
            "__________________________________________________________________________________________________\n",
            "activation_38 (Activation)      (None, 32, 32, 44)   0           batch_normalization_38[0][0]     \n",
            "__________________________________________________________________________________________________\n",
            "conv2d_39 (Conv2D)              (None, 32, 32, 14)   5544        activation_38[0][0]              \n",
            "__________________________________________________________________________________________________\n",
            "dropout_37 (Dropout)            (None, 32, 32, 14)   0           conv2d_39[0][0]                  \n",
            "__________________________________________________________________________________________________\n",
            "concatenate_34 (Concatenate)    (None, 32, 32, 58)   0           concatenate_33[0][0]             \n",
            "                                                                 dropout_37[0][0]                 \n",
            "__________________________________________________________________________________________________\n",
            "batch_normalization_39 (BatchNo (None, 32, 32, 58)   232         concatenate_34[0][0]             \n",
            "__________________________________________________________________________________________________\n",
            "activation_39 (Activation)      (None, 32, 32, 58)   0           batch_normalization_39[0][0]     \n",
            "__________________________________________________________________________________________________\n",
            "conv2d_40 (Conv2D)              (None, 32, 32, 14)   7308        activation_39[0][0]              \n",
            "__________________________________________________________________________________________________\n",
            "dropout_38 (Dropout)            (None, 32, 32, 14)   0           conv2d_40[0][0]                  \n",
            "__________________________________________________________________________________________________\n",
            "concatenate_35 (Concatenate)    (None, 32, 32, 72)   0           concatenate_34[0][0]             \n",
            "                                                                 dropout_38[0][0]                 \n",
            "__________________________________________________________________________________________________\n",
            "batch_normalization_40 (BatchNo (None, 32, 32, 72)   288         concatenate_35[0][0]             \n",
            "__________________________________________________________________________________________________\n",
            "activation_40 (Activation)      (None, 32, 32, 72)   0           batch_normalization_40[0][0]     \n",
            "__________________________________________________________________________________________________\n",
            "conv2d_41 (Conv2D)              (None, 32, 32, 14)   9072        activation_40[0][0]              \n",
            "__________________________________________________________________________________________________\n",
            "dropout_39 (Dropout)            (None, 32, 32, 14)   0           conv2d_41[0][0]                  \n",
            "__________________________________________________________________________________________________\n",
            "concatenate_36 (Concatenate)    (None, 32, 32, 86)   0           concatenate_35[0][0]             \n",
            "                                                                 dropout_39[0][0]                 \n",
            "__________________________________________________________________________________________________\n",
            "batch_normalization_41 (BatchNo (None, 32, 32, 86)   344         concatenate_36[0][0]             \n",
            "__________________________________________________________________________________________________\n",
            "activation_41 (Activation)      (None, 32, 32, 86)   0           batch_normalization_41[0][0]     \n",
            "__________________________________________________________________________________________________\n",
            "conv2d_42 (Conv2D)              (None, 32, 32, 14)   10836       activation_41[0][0]              \n",
            "__________________________________________________________________________________________________\n",
            "dropout_40 (Dropout)            (None, 32, 32, 14)   0           conv2d_42[0][0]                  \n",
            "__________________________________________________________________________________________________\n",
            "concatenate_37 (Concatenate)    (None, 32, 32, 100)  0           concatenate_36[0][0]             \n",
            "                                                                 dropout_40[0][0]                 \n",
            "__________________________________________________________________________________________________\n",
            "batch_normalization_42 (BatchNo (None, 32, 32, 100)  400         concatenate_37[0][0]             \n",
            "__________________________________________________________________________________________________\n",
            "activation_42 (Activation)      (None, 32, 32, 100)  0           batch_normalization_42[0][0]     \n",
            "__________________________________________________________________________________________________\n",
            "conv2d_43 (Conv2D)              (None, 32, 32, 14)   12600       activation_42[0][0]              \n",
            "__________________________________________________________________________________________________\n",
            "dropout_41 (Dropout)            (None, 32, 32, 14)   0           conv2d_43[0][0]                  \n",
            "__________________________________________________________________________________________________\n",
            "concatenate_38 (Concatenate)    (None, 32, 32, 114)  0           concatenate_37[0][0]             \n",
            "                                                                 dropout_41[0][0]                 \n",
            "__________________________________________________________________________________________________\n",
            "batch_normalization_43 (BatchNo (None, 32, 32, 114)  456         concatenate_38[0][0]             \n",
            "__________________________________________________________________________________________________\n",
            "activation_43 (Activation)      (None, 32, 32, 114)  0           batch_normalization_43[0][0]     \n",
            "__________________________________________________________________________________________________\n",
            "conv2d_44 (Conv2D)              (None, 32, 32, 14)   14364       activation_43[0][0]              \n",
            "__________________________________________________________________________________________________\n",
            "dropout_42 (Dropout)            (None, 32, 32, 14)   0           conv2d_44[0][0]                  \n",
            "__________________________________________________________________________________________________\n",
            "concatenate_39 (Concatenate)    (None, 32, 32, 128)  0           concatenate_38[0][0]             \n",
            "                                                                 dropout_42[0][0]                 \n",
            "__________________________________________________________________________________________________\n",
            "batch_normalization_44 (BatchNo (None, 32, 32, 128)  512         concatenate_39[0][0]             \n",
            "__________________________________________________________________________________________________\n",
            "activation_44 (Activation)      (None, 32, 32, 128)  0           batch_normalization_44[0][0]     \n",
            "__________________________________________________________________________________________________\n",
            "conv2d_45 (Conv2D)              (None, 32, 32, 14)   1792        activation_44[0][0]              \n",
            "__________________________________________________________________________________________________\n",
            "dropout_43 (Dropout)            (None, 32, 32, 14)   0           conv2d_45[0][0]                  \n",
            "__________________________________________________________________________________________________\n",
            "average_pooling2d_4 (AveragePoo (None, 16, 16, 14)   0           dropout_43[0][0]                 \n",
            "__________________________________________________________________________________________________\n",
            "batch_normalization_45 (BatchNo (None, 16, 16, 14)   56          average_pooling2d_4[0][0]        \n",
            "__________________________________________________________________________________________________\n",
            "activation_45 (Activation)      (None, 16, 16, 14)   0           batch_normalization_45[0][0]     \n",
            "__________________________________________________________________________________________________\n",
            "conv2d_46 (Conv2D)              (None, 16, 16, 14)   1764        activation_45[0][0]              \n",
            "__________________________________________________________________________________________________\n",
            "dropout_44 (Dropout)            (None, 16, 16, 14)   0           conv2d_46[0][0]                  \n",
            "__________________________________________________________________________________________________\n",
            "concatenate_40 (Concatenate)    (None, 16, 16, 28)   0           average_pooling2d_4[0][0]        \n",
            "                                                                 dropout_44[0][0]                 \n",
            "__________________________________________________________________________________________________\n",
            "batch_normalization_46 (BatchNo (None, 16, 16, 28)   112         concatenate_40[0][0]             \n",
            "__________________________________________________________________________________________________\n",
            "activation_46 (Activation)      (None, 16, 16, 28)   0           batch_normalization_46[0][0]     \n",
            "__________________________________________________________________________________________________\n",
            "conv2d_47 (Conv2D)              (None, 16, 16, 14)   3528        activation_46[0][0]              \n",
            "__________________________________________________________________________________________________\n",
            "dropout_45 (Dropout)            (None, 16, 16, 14)   0           conv2d_47[0][0]                  \n",
            "__________________________________________________________________________________________________\n",
            "concatenate_41 (Concatenate)    (None, 16, 16, 42)   0           concatenate_40[0][0]             \n",
            "                                                                 dropout_45[0][0]                 \n",
            "__________________________________________________________________________________________________\n",
            "batch_normalization_47 (BatchNo (None, 16, 16, 42)   168         concatenate_41[0][0]             \n",
            "__________________________________________________________________________________________________\n",
            "activation_47 (Activation)      (None, 16, 16, 42)   0           batch_normalization_47[0][0]     \n",
            "__________________________________________________________________________________________________\n",
            "conv2d_48 (Conv2D)              (None, 16, 16, 14)   5292        activation_47[0][0]              \n",
            "__________________________________________________________________________________________________\n",
            "dropout_46 (Dropout)            (None, 16, 16, 14)   0           conv2d_48[0][0]                  \n",
            "__________________________________________________________________________________________________\n",
            "concatenate_42 (Concatenate)    (None, 16, 16, 56)   0           concatenate_41[0][0]             \n",
            "                                                                 dropout_46[0][0]                 \n",
            "__________________________________________________________________________________________________\n",
            "batch_normalization_48 (BatchNo (None, 16, 16, 56)   224         concatenate_42[0][0]             \n",
            "__________________________________________________________________________________________________\n",
            "activation_48 (Activation)      (None, 16, 16, 56)   0           batch_normalization_48[0][0]     \n",
            "__________________________________________________________________________________________________\n",
            "conv2d_49 (Conv2D)              (None, 16, 16, 14)   7056        activation_48[0][0]              \n",
            "__________________________________________________________________________________________________\n",
            "dropout_47 (Dropout)            (None, 16, 16, 14)   0           conv2d_49[0][0]                  \n",
            "__________________________________________________________________________________________________\n",
            "concatenate_43 (Concatenate)    (None, 16, 16, 70)   0           concatenate_42[0][0]             \n",
            "                                                                 dropout_47[0][0]                 \n",
            "__________________________________________________________________________________________________\n",
            "batch_normalization_49 (BatchNo (None, 16, 16, 70)   280         concatenate_43[0][0]             \n",
            "__________________________________________________________________________________________________\n",
            "activation_49 (Activation)      (None, 16, 16, 70)   0           batch_normalization_49[0][0]     \n",
            "__________________________________________________________________________________________________\n",
            "conv2d_50 (Conv2D)              (None, 16, 16, 14)   8820        activation_49[0][0]              \n",
            "__________________________________________________________________________________________________\n",
            "dropout_48 (Dropout)            (None, 16, 16, 14)   0           conv2d_50[0][0]                  \n",
            "__________________________________________________________________________________________________\n",
            "concatenate_44 (Concatenate)    (None, 16, 16, 84)   0           concatenate_43[0][0]             \n",
            "                                                                 dropout_48[0][0]                 \n",
            "__________________________________________________________________________________________________\n",
            "batch_normalization_50 (BatchNo (None, 16, 16, 84)   336         concatenate_44[0][0]             \n",
            "__________________________________________________________________________________________________\n",
            "activation_50 (Activation)      (None, 16, 16, 84)   0           batch_normalization_50[0][0]     \n",
            "__________________________________________________________________________________________________\n",
            "conv2d_51 (Conv2D)              (None, 16, 16, 14)   10584       activation_50[0][0]              \n",
            "__________________________________________________________________________________________________\n",
            "dropout_49 (Dropout)            (None, 16, 16, 14)   0           conv2d_51[0][0]                  \n",
            "__________________________________________________________________________________________________\n",
            "concatenate_45 (Concatenate)    (None, 16, 16, 98)   0           concatenate_44[0][0]             \n",
            "                                                                 dropout_49[0][0]                 \n",
            "__________________________________________________________________________________________________\n",
            "batch_normalization_51 (BatchNo (None, 16, 16, 98)   392         concatenate_45[0][0]             \n",
            "__________________________________________________________________________________________________\n",
            "activation_51 (Activation)      (None, 16, 16, 98)   0           batch_normalization_51[0][0]     \n",
            "__________________________________________________________________________________________________\n",
            "conv2d_52 (Conv2D)              (None, 16, 16, 14)   12348       activation_51[0][0]              \n",
            "__________________________________________________________________________________________________\n",
            "dropout_50 (Dropout)            (None, 16, 16, 14)   0           conv2d_52[0][0]                  \n",
            "__________________________________________________________________________________________________\n",
            "concatenate_46 (Concatenate)    (None, 16, 16, 112)  0           concatenate_45[0][0]             \n",
            "                                                                 dropout_50[0][0]                 \n",
            "__________________________________________________________________________________________________\n",
            "batch_normalization_52 (BatchNo (None, 16, 16, 112)  448         concatenate_46[0][0]             \n",
            "__________________________________________________________________________________________________\n",
            "activation_52 (Activation)      (None, 16, 16, 112)  0           batch_normalization_52[0][0]     \n",
            "__________________________________________________________________________________________________\n",
            "conv2d_53 (Conv2D)              (None, 16, 16, 14)   14112       activation_52[0][0]              \n",
            "__________________________________________________________________________________________________\n",
            "dropout_51 (Dropout)            (None, 16, 16, 14)   0           conv2d_53[0][0]                  \n",
            "__________________________________________________________________________________________________\n",
            "concatenate_47 (Concatenate)    (None, 16, 16, 126)  0           concatenate_46[0][0]             \n",
            "                                                                 dropout_51[0][0]                 \n",
            "__________________________________________________________________________________________________\n",
            "batch_normalization_53 (BatchNo (None, 16, 16, 126)  504         concatenate_47[0][0]             \n",
            "__________________________________________________________________________________________________\n",
            "activation_53 (Activation)      (None, 16, 16, 126)  0           batch_normalization_53[0][0]     \n",
            "__________________________________________________________________________________________________\n",
            "conv2d_54 (Conv2D)              (None, 16, 16, 14)   1764        activation_53[0][0]              \n",
            "__________________________________________________________________________________________________\n",
            "dropout_52 (Dropout)            (None, 16, 16, 14)   0           conv2d_54[0][0]                  \n",
            "__________________________________________________________________________________________________\n",
            "average_pooling2d_5 (AveragePoo (None, 8, 8, 14)     0           dropout_52[0][0]                 \n",
            "__________________________________________________________________________________________________\n",
            "batch_normalization_54 (BatchNo (None, 8, 8, 14)     56          average_pooling2d_5[0][0]        \n",
            "__________________________________________________________________________________________________\n",
            "activation_54 (Activation)      (None, 8, 8, 14)     0           batch_normalization_54[0][0]     \n",
            "__________________________________________________________________________________________________\n",
            "conv2d_55 (Conv2D)              (None, 8, 8, 14)     1764        activation_54[0][0]              \n",
            "__________________________________________________________________________________________________\n",
            "dropout_53 (Dropout)            (None, 8, 8, 14)     0           conv2d_55[0][0]                  \n",
            "__________________________________________________________________________________________________\n",
            "concatenate_48 (Concatenate)    (None, 8, 8, 28)     0           average_pooling2d_5[0][0]        \n",
            "                                                                 dropout_53[0][0]                 \n",
            "__________________________________________________________________________________________________\n",
            "batch_normalization_55 (BatchNo (None, 8, 8, 28)     112         concatenate_48[0][0]             \n",
            "__________________________________________________________________________________________________\n",
            "activation_55 (Activation)      (None, 8, 8, 28)     0           batch_normalization_55[0][0]     \n",
            "__________________________________________________________________________________________________\n",
            "conv2d_56 (Conv2D)              (None, 8, 8, 14)     3528        activation_55[0][0]              \n",
            "__________________________________________________________________________________________________\n",
            "dropout_54 (Dropout)            (None, 8, 8, 14)     0           conv2d_56[0][0]                  \n",
            "__________________________________________________________________________________________________\n",
            "concatenate_49 (Concatenate)    (None, 8, 8, 42)     0           concatenate_48[0][0]             \n",
            "                                                                 dropout_54[0][0]                 \n",
            "__________________________________________________________________________________________________\n",
            "batch_normalization_56 (BatchNo (None, 8, 8, 42)     168         concatenate_49[0][0]             \n",
            "__________________________________________________________________________________________________\n",
            "activation_56 (Activation)      (None, 8, 8, 42)     0           batch_normalization_56[0][0]     \n",
            "__________________________________________________________________________________________________\n",
            "conv2d_57 (Conv2D)              (None, 8, 8, 14)     5292        activation_56[0][0]              \n",
            "__________________________________________________________________________________________________\n",
            "dropout_55 (Dropout)            (None, 8, 8, 14)     0           conv2d_57[0][0]                  \n",
            "__________________________________________________________________________________________________\n",
            "concatenate_50 (Concatenate)    (None, 8, 8, 56)     0           concatenate_49[0][0]             \n",
            "                                                                 dropout_55[0][0]                 \n",
            "__________________________________________________________________________________________________\n",
            "batch_normalization_57 (BatchNo (None, 8, 8, 56)     224         concatenate_50[0][0]             \n",
            "__________________________________________________________________________________________________\n",
            "activation_57 (Activation)      (None, 8, 8, 56)     0           batch_normalization_57[0][0]     \n",
            "__________________________________________________________________________________________________\n",
            "conv2d_58 (Conv2D)              (None, 8, 8, 14)     7056        activation_57[0][0]              \n",
            "__________________________________________________________________________________________________\n",
            "dropout_56 (Dropout)            (None, 8, 8, 14)     0           conv2d_58[0][0]                  \n",
            "__________________________________________________________________________________________________\n",
            "concatenate_51 (Concatenate)    (None, 8, 8, 70)     0           concatenate_50[0][0]             \n",
            "                                                                 dropout_56[0][0]                 \n",
            "__________________________________________________________________________________________________\n",
            "batch_normalization_58 (BatchNo (None, 8, 8, 70)     280         concatenate_51[0][0]             \n",
            "__________________________________________________________________________________________________\n",
            "activation_58 (Activation)      (None, 8, 8, 70)     0           batch_normalization_58[0][0]     \n",
            "__________________________________________________________________________________________________\n",
            "conv2d_59 (Conv2D)              (None, 8, 8, 14)     8820        activation_58[0][0]              \n",
            "__________________________________________________________________________________________________\n",
            "dropout_57 (Dropout)            (None, 8, 8, 14)     0           conv2d_59[0][0]                  \n",
            "__________________________________________________________________________________________________\n",
            "concatenate_52 (Concatenate)    (None, 8, 8, 84)     0           concatenate_51[0][0]             \n",
            "                                                                 dropout_57[0][0]                 \n",
            "__________________________________________________________________________________________________\n",
            "batch_normalization_59 (BatchNo (None, 8, 8, 84)     336         concatenate_52[0][0]             \n",
            "__________________________________________________________________________________________________\n",
            "activation_59 (Activation)      (None, 8, 8, 84)     0           batch_normalization_59[0][0]     \n",
            "__________________________________________________________________________________________________\n",
            "conv2d_60 (Conv2D)              (None, 8, 8, 14)     10584       activation_59[0][0]              \n",
            "__________________________________________________________________________________________________\n",
            "dropout_58 (Dropout)            (None, 8, 8, 14)     0           conv2d_60[0][0]                  \n",
            "__________________________________________________________________________________________________\n",
            "concatenate_53 (Concatenate)    (None, 8, 8, 98)     0           concatenate_52[0][0]             \n",
            "                                                                 dropout_58[0][0]                 \n",
            "__________________________________________________________________________________________________\n",
            "batch_normalization_60 (BatchNo (None, 8, 8, 98)     392         concatenate_53[0][0]             \n",
            "__________________________________________________________________________________________________\n",
            "activation_60 (Activation)      (None, 8, 8, 98)     0           batch_normalization_60[0][0]     \n",
            "__________________________________________________________________________________________________\n",
            "conv2d_61 (Conv2D)              (None, 8, 8, 14)     12348       activation_60[0][0]              \n",
            "__________________________________________________________________________________________________\n",
            "dropout_59 (Dropout)            (None, 8, 8, 14)     0           conv2d_61[0][0]                  \n",
            "__________________________________________________________________________________________________\n",
            "concatenate_54 (Concatenate)    (None, 8, 8, 112)    0           concatenate_53[0][0]             \n",
            "                                                                 dropout_59[0][0]                 \n",
            "__________________________________________________________________________________________________\n",
            "batch_normalization_61 (BatchNo (None, 8, 8, 112)    448         concatenate_54[0][0]             \n",
            "__________________________________________________________________________________________________\n",
            "activation_61 (Activation)      (None, 8, 8, 112)    0           batch_normalization_61[0][0]     \n",
            "__________________________________________________________________________________________________\n",
            "conv2d_62 (Conv2D)              (None, 8, 8, 14)     14112       activation_61[0][0]              \n",
            "__________________________________________________________________________________________________\n",
            "dropout_60 (Dropout)            (None, 8, 8, 14)     0           conv2d_62[0][0]                  \n",
            "__________________________________________________________________________________________________\n",
            "concatenate_55 (Concatenate)    (None, 8, 8, 126)    0           concatenate_54[0][0]             \n",
            "                                                                 dropout_60[0][0]                 \n",
            "__________________________________________________________________________________________________\n",
            "batch_normalization_62 (BatchNo (None, 8, 8, 126)    504         concatenate_55[0][0]             \n",
            "__________________________________________________________________________________________________\n",
            "activation_62 (Activation)      (None, 8, 8, 126)    0           batch_normalization_62[0][0]     \n",
            "__________________________________________________________________________________________________\n",
            "conv2d_63 (Conv2D)              (None, 8, 8, 14)     1764        activation_62[0][0]              \n",
            "__________________________________________________________________________________________________\n",
            "dropout_61 (Dropout)            (None, 8, 8, 14)     0           conv2d_63[0][0]                  \n",
            "__________________________________________________________________________________________________\n",
            "average_pooling2d_6 (AveragePoo (None, 4, 4, 14)     0           dropout_61[0][0]                 \n",
            "__________________________________________________________________________________________________\n",
            "batch_normalization_63 (BatchNo (None, 4, 4, 14)     56          average_pooling2d_6[0][0]        \n",
            "__________________________________________________________________________________________________\n",
            "activation_63 (Activation)      (None, 4, 4, 14)     0           batch_normalization_63[0][0]     \n",
            "__________________________________________________________________________________________________\n",
            "conv2d_64 (Conv2D)              (None, 4, 4, 14)     1764        activation_63[0][0]              \n",
            "__________________________________________________________________________________________________\n",
            "dropout_62 (Dropout)            (None, 4, 4, 14)     0           conv2d_64[0][0]                  \n",
            "__________________________________________________________________________________________________\n",
            "concatenate_56 (Concatenate)    (None, 4, 4, 28)     0           average_pooling2d_6[0][0]        \n",
            "                                                                 dropout_62[0][0]                 \n",
            "__________________________________________________________________________________________________\n",
            "batch_normalization_64 (BatchNo (None, 4, 4, 28)     112         concatenate_56[0][0]             \n",
            "__________________________________________________________________________________________________\n",
            "activation_64 (Activation)      (None, 4, 4, 28)     0           batch_normalization_64[0][0]     \n",
            "__________________________________________________________________________________________________\n",
            "conv2d_65 (Conv2D)              (None, 4, 4, 14)     3528        activation_64[0][0]              \n",
            "__________________________________________________________________________________________________\n",
            "dropout_63 (Dropout)            (None, 4, 4, 14)     0           conv2d_65[0][0]                  \n",
            "__________________________________________________________________________________________________\n",
            "concatenate_57 (Concatenate)    (None, 4, 4, 42)     0           concatenate_56[0][0]             \n",
            "                                                                 dropout_63[0][0]                 \n",
            "__________________________________________________________________________________________________\n",
            "batch_normalization_65 (BatchNo (None, 4, 4, 42)     168         concatenate_57[0][0]             \n",
            "__________________________________________________________________________________________________\n",
            "activation_65 (Activation)      (None, 4, 4, 42)     0           batch_normalization_65[0][0]     \n",
            "__________________________________________________________________________________________________\n",
            "conv2d_66 (Conv2D)              (None, 4, 4, 14)     5292        activation_65[0][0]              \n",
            "__________________________________________________________________________________________________\n",
            "dropout_64 (Dropout)            (None, 4, 4, 14)     0           conv2d_66[0][0]                  \n",
            "__________________________________________________________________________________________________\n",
            "concatenate_58 (Concatenate)    (None, 4, 4, 56)     0           concatenate_57[0][0]             \n",
            "                                                                 dropout_64[0][0]                 \n",
            "__________________________________________________________________________________________________\n",
            "batch_normalization_66 (BatchNo (None, 4, 4, 56)     224         concatenate_58[0][0]             \n",
            "__________________________________________________________________________________________________\n",
            "activation_66 (Activation)      (None, 4, 4, 56)     0           batch_normalization_66[0][0]     \n",
            "__________________________________________________________________________________________________\n",
            "conv2d_67 (Conv2D)              (None, 4, 4, 14)     7056        activation_66[0][0]              \n",
            "__________________________________________________________________________________________________\n",
            "dropout_65 (Dropout)            (None, 4, 4, 14)     0           conv2d_67[0][0]                  \n",
            "__________________________________________________________________________________________________\n",
            "concatenate_59 (Concatenate)    (None, 4, 4, 70)     0           concatenate_58[0][0]             \n",
            "                                                                 dropout_65[0][0]                 \n",
            "__________________________________________________________________________________________________\n",
            "batch_normalization_67 (BatchNo (None, 4, 4, 70)     280         concatenate_59[0][0]             \n",
            "__________________________________________________________________________________________________\n",
            "activation_67 (Activation)      (None, 4, 4, 70)     0           batch_normalization_67[0][0]     \n",
            "__________________________________________________________________________________________________\n",
            "conv2d_68 (Conv2D)              (None, 4, 4, 14)     8820        activation_67[0][0]              \n",
            "__________________________________________________________________________________________________\n",
            "dropout_66 (Dropout)            (None, 4, 4, 14)     0           conv2d_68[0][0]                  \n",
            "__________________________________________________________________________________________________\n",
            "concatenate_60 (Concatenate)    (None, 4, 4, 84)     0           concatenate_59[0][0]             \n",
            "                                                                 dropout_66[0][0]                 \n",
            "__________________________________________________________________________________________________\n",
            "batch_normalization_68 (BatchNo (None, 4, 4, 84)     336         concatenate_60[0][0]             \n",
            "__________________________________________________________________________________________________\n",
            "activation_68 (Activation)      (None, 4, 4, 84)     0           batch_normalization_68[0][0]     \n",
            "__________________________________________________________________________________________________\n",
            "conv2d_69 (Conv2D)              (None, 4, 4, 14)     10584       activation_68[0][0]              \n",
            "__________________________________________________________________________________________________\n",
            "dropout_67 (Dropout)            (None, 4, 4, 14)     0           conv2d_69[0][0]                  \n",
            "__________________________________________________________________________________________________\n",
            "concatenate_61 (Concatenate)    (None, 4, 4, 98)     0           concatenate_60[0][0]             \n",
            "                                                                 dropout_67[0][0]                 \n",
            "__________________________________________________________________________________________________\n",
            "batch_normalization_69 (BatchNo (None, 4, 4, 98)     392         concatenate_61[0][0]             \n",
            "__________________________________________________________________________________________________\n",
            "activation_69 (Activation)      (None, 4, 4, 98)     0           batch_normalization_69[0][0]     \n",
            "__________________________________________________________________________________________________\n",
            "conv2d_70 (Conv2D)              (None, 4, 4, 14)     12348       activation_69[0][0]              \n",
            "__________________________________________________________________________________________________\n",
            "dropout_68 (Dropout)            (None, 4, 4, 14)     0           conv2d_70[0][0]                  \n",
            "__________________________________________________________________________________________________\n",
            "concatenate_62 (Concatenate)    (None, 4, 4, 112)    0           concatenate_61[0][0]             \n",
            "                                                                 dropout_68[0][0]                 \n",
            "__________________________________________________________________________________________________\n",
            "batch_normalization_70 (BatchNo (None, 4, 4, 112)    448         concatenate_62[0][0]             \n",
            "__________________________________________________________________________________________________\n",
            "activation_70 (Activation)      (None, 4, 4, 112)    0           batch_normalization_70[0][0]     \n",
            "__________________________________________________________________________________________________\n",
            "conv2d_71 (Conv2D)              (None, 4, 4, 14)     14112       activation_70[0][0]              \n",
            "__________________________________________________________________________________________________\n",
            "dropout_69 (Dropout)            (None, 4, 4, 14)     0           conv2d_71[0][0]                  \n",
            "__________________________________________________________________________________________________\n",
            "concatenate_63 (Concatenate)    (None, 4, 4, 126)    0           concatenate_62[0][0]             \n",
            "                                                                 dropout_69[0][0]                 \n",
            "__________________________________________________________________________________________________\n",
            "batch_normalization_71 (BatchNo (None, 4, 4, 126)    504         concatenate_63[0][0]             \n",
            "__________________________________________________________________________________________________\n",
            "activation_71 (Activation)      (None, 4, 4, 126)    0           batch_normalization_71[0][0]     \n",
            "__________________________________________________________________________________________________\n",
            "average_pooling2d_7 (AveragePoo (None, 2, 2, 126)    0           activation_71[0][0]              \n",
            "__________________________________________________________________________________________________\n",
            "flatten_1 (Flatten)             (None, 504)          0           average_pooling2d_7[0][0]        \n",
            "__________________________________________________________________________________________________\n",
            "dense_1 (Dense)                 (None, 10)           5050        flatten_1[0][0]                  \n",
            "==================================================================================================\n",
            "Total params: 276,986\n",
            "Trainable params: 271,910\n",
            "Non-trainable params: 5,076\n",
            "__________________________________________________________________________________________________\n"
          ],
          "name": "stdout"
        }
      ]
    },
    {
      "cell_type": "markdown",
      "metadata": {
        "id": "6LOFMqeu_7aA",
        "colab_type": "text"
      },
      "source": [
        "### Callback"
      ]
    },
    {
      "cell_type": "code",
      "metadata": {
        "id": "b4XOsW3ahSkL",
        "colab_type": "code",
        "colab": {}
      },
      "source": [
        "# determine Loss function and Optimizer\n",
        "LEARNING_RATE=0.4\n",
        "WEIGHT_DECAY=5e-4\n",
        "lr_schedule = lambda t: np.interp([t+1], [0, (epochs+1)//5, int(0.8*epochs), epochs], [0, LEARNING_RATE, 0.1*LEARNING_RATE, 0.005])[0]\n",
        "\n",
        "model.compile(optimizer=SGD(momentum=0.9, decay=WEIGHT_DECAY, nesterov=True), \n",
        "              loss='categorical_crossentropy', \n",
        "              metrics=['accuracy'])\n",
        "\n",
        "!mkdir \"Assignment16/\"\n",
        "filepath=\"Assignment16/maxAccuracy.hdf5\"\n",
        "checkpoint = ModelCheckpoint(filepath, monitor='val_acc', verbose=1, save_best_only=True, mode='max')\n",
        "callbacks_list = [LearningRateScheduler(lr_schedule),checkpoint]"
      ],
      "execution_count": 0,
      "outputs": []
    },
    {
      "cell_type": "markdown",
      "metadata": {
        "id": "hbf09k-fC3Qt",
        "colab_type": "text"
      },
      "source": [
        "### Train Model"
      ]
    },
    {
      "cell_type": "code",
      "metadata": {
        "id": "dzrHE-02OEgZ",
        "colab_type": "code",
        "outputId": "1cfe1050-9bbc-453f-8760-0ca5ed98a7fb",
        "colab": {
          "base_uri": "https://localhost:8080/",
          "height": 1000
        }
      },
      "source": [
        "# STEPS_PER_EPOCH = len(x_train) / batch_size\n",
        "start = time.time()\n",
        "model_info = model.fit(x_trainTF, y_trainTF,\n",
        "                    batch_size=batch_size,\n",
        "                    epochs=epochs,\n",
        "                    steps_per_epoch=STEPS_PER_EPOCH,\n",
        "                    verbose=1,\n",
        "                    validation_data=(x_testTF, y_testTF),\n",
        "                    validation_steps = VALIDATION_STEPS, callbacks=callbacks_list)\n",
        "\n",
        "end = time.time()\n",
        "print (\"Model took %0.2f seconds to train\"%(end - start))\n",
        "# plot model history\n",
        "plot_model_history(model_info)\n",
        "# compute test accuracy\n",
        "print (\"Accuracy on test data is: %0.2f\"%accuracy(x_test, y_test, model1))"
      ],
      "execution_count": 34,
      "outputs": [
        {
          "output_type": "stream",
          "text": [
            "Epoch 1/50\n",
            "390/390 [============================>.] - ETA: 0s - loss: 1.4700 - acc: 0.4630\n",
            "Epoch 00001: val_acc improved from -inf to 0.49684, saving model to Assignment16/maxAccuracy.hdf5\n",
            "391/390 [==============================] - 119s 305ms/step - loss: 1.4689 - acc: 0.4633 - val_loss: 1.4522 - val_acc: 0.4968\n",
            "Epoch 2/50\n",
            "390/390 [============================>.] - ETA: 0s - loss: 1.0867 - acc: 0.6093\n",
            "Epoch 00002: val_acc improved from 0.49684 to 0.60047, saving model to Assignment16/maxAccuracy.hdf5\n",
            "391/390 [==============================] - 99s 253ms/step - loss: 1.0865 - acc: 0.6095 - val_loss: 1.1837 - val_acc: 0.6005\n",
            "Epoch 3/50\n",
            "390/390 [============================>.] - ETA: 0s - loss: 0.8868 - acc: 0.6833\n",
            "Epoch 00003: val_acc improved from 0.60047 to 0.62619, saving model to Assignment16/maxAccuracy.hdf5\n",
            "391/390 [==============================] - 99s 254ms/step - loss: 0.8864 - acc: 0.6834 - val_loss: 1.1489 - val_acc: 0.6262\n",
            "Epoch 4/50\n",
            "390/390 [============================>.] - ETA: 0s - loss: 0.7691 - acc: 0.7289\n",
            "Epoch 00004: val_acc improved from 0.62619 to 0.64300, saving model to Assignment16/maxAccuracy.hdf5\n",
            "391/390 [==============================] - 99s 254ms/step - loss: 0.7685 - acc: 0.7291 - val_loss: 1.1456 - val_acc: 0.6430\n",
            "Epoch 5/50\n",
            "390/390 [============================>.] - ETA: 0s - loss: 0.6822 - acc: 0.7608\n",
            "Epoch 00005: val_acc did not improve from 0.64300\n",
            "391/390 [==============================] - 99s 253ms/step - loss: 0.6819 - acc: 0.7609 - val_loss: 1.4569 - val_acc: 0.6052\n",
            "Epoch 6/50\n",
            "390/390 [============================>.] - ETA: 0s - loss: 0.6271 - acc: 0.7795\n",
            "Epoch 00006: val_acc improved from 0.64300 to 0.73477, saving model to Assignment16/maxAccuracy.hdf5\n",
            "391/390 [==============================] - 99s 254ms/step - loss: 0.6270 - acc: 0.7795 - val_loss: 0.7672 - val_acc: 0.7348\n",
            "Epoch 7/50\n",
            "390/390 [============================>.] - ETA: 0s - loss: 0.5713 - acc: 0.7987\n",
            "Epoch 00007: val_acc did not improve from 0.73477\n",
            "391/390 [==============================] - 99s 253ms/step - loss: 0.5710 - acc: 0.7988 - val_loss: 1.1611 - val_acc: 0.6557\n",
            "Epoch 8/50\n",
            "390/390 [============================>.] - ETA: 0s - loss: 0.5388 - acc: 0.8106\n",
            "Epoch 00008: val_acc improved from 0.73477 to 0.76978, saving model to Assignment16/maxAccuracy.hdf5\n",
            "391/390 [==============================] - 99s 254ms/step - loss: 0.5386 - acc: 0.8107 - val_loss: 0.7112 - val_acc: 0.7698\n",
            "Epoch 9/50\n",
            "390/390 [============================>.] - ETA: 0s - loss: 0.5026 - acc: 0.8250\n",
            "Epoch 00009: val_acc did not improve from 0.76978\n",
            "391/390 [==============================] - 99s 253ms/step - loss: 0.5025 - acc: 0.8250 - val_loss: 0.7048 - val_acc: 0.7595\n",
            "Epoch 10/50\n",
            "390/390 [============================>.] - ETA: 0s - loss: 0.4737 - acc: 0.8342\n",
            "Epoch 00010: val_acc improved from 0.76978 to 0.80251, saving model to Assignment16/maxAccuracy.hdf5\n",
            "391/390 [==============================] - 99s 254ms/step - loss: 0.4735 - acc: 0.8344 - val_loss: 0.5930 - val_acc: 0.8025\n",
            "Epoch 11/50\n",
            "390/390 [============================>.] - ETA: 0s - loss: 0.4355 - acc: 0.8474\n",
            "Epoch 00011: val_acc improved from 0.80251 to 0.82081, saving model to Assignment16/maxAccuracy.hdf5\n",
            "391/390 [==============================] - 99s 254ms/step - loss: 0.4352 - acc: 0.8474 - val_loss: 0.5726 - val_acc: 0.8208\n",
            "Epoch 12/50\n",
            "390/390 [============================>.] - ETA: 0s - loss: 0.4012 - acc: 0.8589\n",
            "Epoch 00012: val_acc did not improve from 0.82081\n",
            "391/390 [==============================] - 99s 253ms/step - loss: 0.4011 - acc: 0.8589 - val_loss: 0.7465 - val_acc: 0.7673\n",
            "Epoch 13/50\n",
            "390/390 [============================>.] - ETA: 0s - loss: 0.3718 - acc: 0.8687\n",
            "Epoch 00013: val_acc did not improve from 0.82081\n",
            "391/390 [==============================] - 99s 253ms/step - loss: 0.3716 - acc: 0.8688 - val_loss: 0.7677 - val_acc: 0.7672\n",
            "Epoch 14/50\n",
            "390/390 [============================>.] - ETA: 0s - loss: 0.3442 - acc: 0.8783\n",
            "Epoch 00014: val_acc did not improve from 0.82081\n",
            "391/390 [==============================] - 99s 253ms/step - loss: 0.3440 - acc: 0.8783 - val_loss: 0.5876 - val_acc: 0.8159\n",
            "Epoch 15/50\n",
            "390/390 [============================>.] - ETA: 0s - loss: 0.3220 - acc: 0.8864\n",
            "Epoch 00015: val_acc did not improve from 0.82081\n",
            "391/390 [==============================] - 99s 252ms/step - loss: 0.3221 - acc: 0.8864 - val_loss: 0.5915 - val_acc: 0.8199\n",
            "Epoch 16/50\n",
            "390/390 [============================>.] - ETA: 0s - loss: 0.3025 - acc: 0.8935\n",
            "Epoch 00016: val_acc improved from 0.82081 to 0.83564, saving model to Assignment16/maxAccuracy.hdf5\n",
            "391/390 [==============================] - 99s 253ms/step - loss: 0.3022 - acc: 0.8936 - val_loss: 0.5403 - val_acc: 0.8356\n",
            "Epoch 17/50\n",
            "390/390 [============================>.] - ETA: 0s - loss: 0.2817 - acc: 0.9002\n",
            "Epoch 00017: val_acc did not improve from 0.83564\n",
            "391/390 [==============================] - 98s 252ms/step - loss: 0.2817 - acc: 0.9002 - val_loss: 0.5516 - val_acc: 0.8347\n",
            "Epoch 18/50\n",
            "390/390 [============================>.] - ETA: 0s - loss: 0.2629 - acc: 0.9063\n",
            "Epoch 00018: val_acc did not improve from 0.83564\n",
            "391/390 [==============================] - 99s 253ms/step - loss: 0.2630 - acc: 0.9063 - val_loss: 0.6312 - val_acc: 0.8231\n",
            "Epoch 19/50\n",
            "390/390 [============================>.] - ETA: 0s - loss: 0.2502 - acc: 0.9120\n",
            "Epoch 00019: val_acc did not improve from 0.83564\n",
            "391/390 [==============================] - 99s 254ms/step - loss: 0.2501 - acc: 0.9121 - val_loss: 0.5858 - val_acc: 0.8224\n",
            "Epoch 20/50\n",
            "390/390 [============================>.] - ETA: 0s - loss: 0.2392 - acc: 0.9148\n",
            "Epoch 00020: val_acc did not improve from 0.83564\n",
            "391/390 [==============================] - 99s 254ms/step - loss: 0.2391 - acc: 0.9148 - val_loss: 0.5648 - val_acc: 0.8334\n",
            "Epoch 21/50\n",
            "390/390 [============================>.] - ETA: 0s - loss: 0.2196 - acc: 0.9219\n",
            "Epoch 00021: val_acc did not improve from 0.83564\n",
            "391/390 [==============================] - 99s 254ms/step - loss: 0.2196 - acc: 0.9220 - val_loss: 0.7000 - val_acc: 0.8095\n",
            "Epoch 22/50\n",
            "390/390 [============================>.] - ETA: 0s - loss: 0.2109 - acc: 0.9255\n",
            "Epoch 00022: val_acc improved from 0.83564 to 0.84751, saving model to Assignment16/maxAccuracy.hdf5\n",
            "391/390 [==============================] - 100s 255ms/step - loss: 0.2107 - acc: 0.9255 - val_loss: 0.5367 - val_acc: 0.8475\n",
            "Epoch 23/50\n",
            "390/390 [============================>.] - ETA: 0s - loss: 0.1954 - acc: 0.9302\n",
            "Epoch 00023: val_acc improved from 0.84751 to 0.84869, saving model to Assignment16/maxAccuracy.hdf5\n",
            "391/390 [==============================] - 100s 255ms/step - loss: 0.1954 - acc: 0.9302 - val_loss: 0.5367 - val_acc: 0.8487\n",
            "Epoch 24/50\n",
            "390/390 [============================>.] - ETA: 0s - loss: 0.1847 - acc: 0.9344\n",
            "Epoch 00024: val_acc did not improve from 0.84869\n",
            "391/390 [==============================] - 99s 254ms/step - loss: 0.1846 - acc: 0.9345 - val_loss: 0.5489 - val_acc: 0.8458\n",
            "Epoch 25/50\n",
            "390/390 [============================>.] - ETA: 0s - loss: 0.1755 - acc: 0.9381\n",
            "Epoch 00025: val_acc did not improve from 0.84869\n",
            "391/390 [==============================] - 99s 254ms/step - loss: 0.1754 - acc: 0.9382 - val_loss: 0.6607 - val_acc: 0.8278\n",
            "Epoch 26/50\n",
            "390/390 [============================>.] - ETA: 0s - loss: 0.1690 - acc: 0.9401\n",
            "Epoch 00026: val_acc did not improve from 0.84869\n",
            "391/390 [==============================] - 99s 254ms/step - loss: 0.1691 - acc: 0.9401 - val_loss: 0.5791 - val_acc: 0.8469\n",
            "Epoch 27/50\n",
            "390/390 [============================>.] - ETA: 0s - loss: 0.1583 - acc: 0.9422\n",
            "Epoch 00027: val_acc improved from 0.84869 to 0.85216, saving model to Assignment16/maxAccuracy.hdf5\n",
            "391/390 [==============================] - 100s 255ms/step - loss: 0.1581 - acc: 0.9423 - val_loss: 0.5510 - val_acc: 0.8522\n",
            "Epoch 28/50\n",
            "390/390 [============================>.] - ETA: 0s - loss: 0.1470 - acc: 0.9479\n",
            "Epoch 00028: val_acc improved from 0.85216 to 0.85908, saving model to Assignment16/maxAccuracy.hdf5\n",
            "391/390 [==============================] - 100s 255ms/step - loss: 0.1471 - acc: 0.9479 - val_loss: 0.5526 - val_acc: 0.8591\n",
            "Epoch 29/50\n",
            "390/390 [============================>.] - ETA: 0s - loss: 0.1417 - acc: 0.9489\n",
            "Epoch 00029: val_acc improved from 0.85908 to 0.86303, saving model to Assignment16/maxAccuracy.hdf5\n",
            "391/390 [==============================] - 100s 255ms/step - loss: 0.1415 - acc: 0.9490 - val_loss: 0.5269 - val_acc: 0.8630\n",
            "Epoch 30/50\n",
            "390/390 [============================>.] - ETA: 0s - loss: 0.1344 - acc: 0.9526\n",
            "Epoch 00030: val_acc did not improve from 0.86303\n",
            "391/390 [==============================] - 99s 254ms/step - loss: 0.1343 - acc: 0.9526 - val_loss: 0.7112 - val_acc: 0.8380\n",
            "Epoch 31/50\n",
            "390/390 [============================>.] - ETA: 0s - loss: 0.1294 - acc: 0.9536\n",
            "Epoch 00031: val_acc did not improve from 0.86303\n",
            "391/390 [==============================] - 99s 254ms/step - loss: 0.1293 - acc: 0.9536 - val_loss: 0.5606 - val_acc: 0.8617\n",
            "Epoch 32/50\n",
            "390/390 [============================>.] - ETA: 0s - loss: 0.1233 - acc: 0.9562\n",
            "Epoch 00032: val_acc did not improve from 0.86303\n",
            "391/390 [==============================] - 99s 254ms/step - loss: 0.1232 - acc: 0.9562 - val_loss: 0.5426 - val_acc: 0.8606\n",
            "Epoch 33/50\n",
            "390/390 [============================>.] - ETA: 0s - loss: 0.1182 - acc: 0.9579\n",
            "Epoch 00033: val_acc did not improve from 0.86303\n",
            "391/390 [==============================] - 99s 254ms/step - loss: 0.1181 - acc: 0.9580 - val_loss: 0.5791 - val_acc: 0.8574\n",
            "Epoch 34/50\n",
            "390/390 [============================>.] - ETA: 0s - loss: 0.1134 - acc: 0.9596\n",
            "Epoch 00034: val_acc did not improve from 0.86303\n",
            "391/390 [==============================] - 99s 254ms/step - loss: 0.1135 - acc: 0.9596 - val_loss: 0.5798 - val_acc: 0.8590\n",
            "Epoch 35/50\n",
            "390/390 [============================>.] - ETA: 0s - loss: 0.1082 - acc: 0.9612\n",
            "Epoch 00035: val_acc improved from 0.86303 to 0.86412, saving model to Assignment16/maxAccuracy.hdf5\n",
            "391/390 [==============================] - 100s 255ms/step - loss: 0.1081 - acc: 0.9613 - val_loss: 0.5662 - val_acc: 0.8641\n",
            "Epoch 36/50\n",
            "390/390 [============================>.] - ETA: 0s - loss: 0.1044 - acc: 0.9625\n",
            "Epoch 00036: val_acc improved from 0.86412 to 0.86768, saving model to Assignment16/maxAccuracy.hdf5\n",
            "391/390 [==============================] - 100s 255ms/step - loss: 0.1045 - acc: 0.9624 - val_loss: 0.5528 - val_acc: 0.8677\n",
            "Epoch 37/50\n",
            "390/390 [============================>.] - ETA: 0s - loss: 0.1001 - acc: 0.9648\n",
            "Epoch 00037: val_acc did not improve from 0.86768\n",
            "391/390 [==============================] - 99s 254ms/step - loss: 0.1001 - acc: 0.9648 - val_loss: 0.5634 - val_acc: 0.8649\n",
            "Epoch 38/50\n",
            "390/390 [============================>.] - ETA: 0s - loss: 0.0937 - acc: 0.9664\n",
            "Epoch 00038: val_acc did not improve from 0.86768\n",
            "391/390 [==============================] - 99s 254ms/step - loss: 0.0937 - acc: 0.9664 - val_loss: 0.5363 - val_acc: 0.8677\n",
            "Epoch 39/50\n",
            "390/390 [============================>.] - ETA: 0s - loss: 0.0931 - acc: 0.9670\n",
            "Epoch 00039: val_acc improved from 0.86768 to 0.86917, saving model to Assignment16/maxAccuracy.hdf5\n",
            "391/390 [==============================] - 100s 255ms/step - loss: 0.0931 - acc: 0.9669 - val_loss: 0.5746 - val_acc: 0.8692\n",
            "Epoch 40/50\n",
            "390/390 [============================>.] - ETA: 0s - loss: 0.0898 - acc: 0.9677\n",
            "Epoch 00040: val_acc did not improve from 0.86917\n",
            "391/390 [==============================] - 99s 254ms/step - loss: 0.0898 - acc: 0.9678 - val_loss: 0.5846 - val_acc: 0.8664\n",
            "Epoch 41/50\n",
            "390/390 [============================>.] - ETA: 0s - loss: 0.0897 - acc: 0.9680\n",
            "Epoch 00041: val_acc improved from 0.86917 to 0.87114, saving model to Assignment16/maxAccuracy.hdf5\n",
            "391/390 [==============================] - 99s 254ms/step - loss: 0.0898 - acc: 0.9680 - val_loss: 0.5655 - val_acc: 0.8711\n",
            "Epoch 42/50\n",
            "390/390 [============================>.] - ETA: 0s - loss: 0.0909 - acc: 0.9678\n",
            "Epoch 00042: val_acc did not improve from 0.87114\n",
            "391/390 [==============================] - 99s 253ms/step - loss: 0.0908 - acc: 0.9678 - val_loss: 0.5604 - val_acc: 0.8676\n",
            "Epoch 43/50\n",
            "390/390 [============================>.] - ETA: 0s - loss: 0.0864 - acc: 0.9699\n",
            "Epoch 00043: val_acc did not improve from 0.87114\n",
            "391/390 [==============================] - 99s 254ms/step - loss: 0.0864 - acc: 0.9699 - val_loss: 0.5700 - val_acc: 0.8684\n",
            "Epoch 44/50\n",
            "390/390 [============================>.] - ETA: 0s - loss: 0.0870 - acc: 0.9693\n",
            "Epoch 00044: val_acc did not improve from 0.87114\n",
            "391/390 [==============================] - 99s 254ms/step - loss: 0.0871 - acc: 0.9692 - val_loss: 0.5777 - val_acc: 0.8671\n",
            "Epoch 45/50\n",
            "390/390 [============================>.] - ETA: 0s - loss: 0.0848 - acc: 0.9700\n",
            "Epoch 00045: val_acc did not improve from 0.87114\n",
            "391/390 [==============================] - 99s 254ms/step - loss: 0.0848 - acc: 0.9700 - val_loss: 0.5777 - val_acc: 0.8667\n",
            "Epoch 46/50\n",
            "390/390 [============================>.] - ETA: 0s - loss: 0.0849 - acc: 0.9704\n",
            "Epoch 00046: val_acc improved from 0.87114 to 0.87253, saving model to Assignment16/maxAccuracy.hdf5\n",
            "391/390 [==============================] - 99s 254ms/step - loss: 0.0849 - acc: 0.9703 - val_loss: 0.5683 - val_acc: 0.8725\n",
            "Epoch 47/50\n",
            "390/390 [============================>.] - ETA: 0s - loss: 0.0862 - acc: 0.9696\n",
            "Epoch 00047: val_acc did not improve from 0.87253\n",
            "391/390 [==============================] - 99s 253ms/step - loss: 0.0861 - acc: 0.9696 - val_loss: 0.5820 - val_acc: 0.8661\n",
            "Epoch 48/50\n",
            "390/390 [============================>.] - ETA: 0s - loss: 0.0833 - acc: 0.9709\n",
            "Epoch 00048: val_acc did not improve from 0.87253\n",
            "391/390 [==============================] - 99s 254ms/step - loss: 0.0834 - acc: 0.9709 - val_loss: 0.5758 - val_acc: 0.8685\n",
            "Epoch 49/50\n",
            "390/390 [============================>.] - ETA: 0s - loss: 0.0804 - acc: 0.9724\n",
            "Epoch 00049: val_acc did not improve from 0.87253\n",
            "391/390 [==============================] - 99s 254ms/step - loss: 0.0804 - acc: 0.9723 - val_loss: 0.5639 - val_acc: 0.8714\n",
            "Epoch 50/50\n",
            "390/390 [============================>.] - ETA: 0s - loss: 0.0834 - acc: 0.9706\n",
            "Epoch 00050: val_acc did not improve from 0.87253\n",
            "391/390 [==============================] - 99s 253ms/step - loss: 0.0833 - acc: 0.9706 - val_loss: 0.5783 - val_acc: 0.8680\n",
            "Model took 4990.40 seconds to train\n"
          ],
          "name": "stdout"
        },
        {
          "output_type": "error",
          "ename": "NameError",
          "evalue": "ignored",
          "traceback": [
            "\u001b[0;31m---------------------------------------------------------------------------\u001b[0m",
            "\u001b[0;31mNameError\u001b[0m                                 Traceback (most recent call last)",
            "\u001b[0;32m<ipython-input-34-7b8098f4c915>\u001b[0m in \u001b[0;36m<module>\u001b[0;34m()\u001b[0m\n\u001b[1;32m     14\u001b[0m \u001b[0mprint\u001b[0m \u001b[0;34m(\u001b[0m\u001b[0;34m\"Model took %0.2f seconds to train\"\u001b[0m\u001b[0;34m%\u001b[0m\u001b[0;34m(\u001b[0m\u001b[0mend\u001b[0m \u001b[0;34m-\u001b[0m \u001b[0mstart\u001b[0m\u001b[0;34m)\u001b[0m\u001b[0;34m)\u001b[0m\u001b[0;34m\u001b[0m\u001b[0;34m\u001b[0m\u001b[0m\n\u001b[1;32m     15\u001b[0m \u001b[0;31m# plot model history\u001b[0m\u001b[0;34m\u001b[0m\u001b[0;34m\u001b[0m\u001b[0;34m\u001b[0m\u001b[0m\n\u001b[0;32m---> 16\u001b[0;31m \u001b[0mplot_model_history\u001b[0m\u001b[0;34m(\u001b[0m\u001b[0mmodel_info\u001b[0m\u001b[0;34m)\u001b[0m\u001b[0;34m\u001b[0m\u001b[0;34m\u001b[0m\u001b[0m\n\u001b[0m\u001b[1;32m     17\u001b[0m \u001b[0;31m# compute test accuracy\u001b[0m\u001b[0;34m\u001b[0m\u001b[0;34m\u001b[0m\u001b[0;34m\u001b[0m\u001b[0m\n\u001b[1;32m     18\u001b[0m \u001b[0mprint\u001b[0m \u001b[0;34m(\u001b[0m\u001b[0;34m\"Accuracy on test data is: %0.2f\"\u001b[0m\u001b[0;34m%\u001b[0m\u001b[0maccuracy\u001b[0m\u001b[0;34m(\u001b[0m\u001b[0mx_test\u001b[0m\u001b[0;34m,\u001b[0m \u001b[0my_test\u001b[0m\u001b[0;34m,\u001b[0m \u001b[0mmodel1\u001b[0m\u001b[0;34m)\u001b[0m\u001b[0;34m)\u001b[0m\u001b[0;34m\u001b[0m\u001b[0;34m\u001b[0m\u001b[0m\n",
            "\u001b[0;32m<ipython-input-26-e05d9b01600e>\u001b[0m in \u001b[0;36mplot_model_history\u001b[0;34m(model_history)\u001b[0m\n\u001b[1;32m      1\u001b[0m \u001b[0;32mdef\u001b[0m \u001b[0mplot_model_history\u001b[0m\u001b[0;34m(\u001b[0m\u001b[0mmodel_history\u001b[0m\u001b[0;34m)\u001b[0m\u001b[0;34m:\u001b[0m\u001b[0;34m\u001b[0m\u001b[0;34m\u001b[0m\u001b[0m\n\u001b[0;32m----> 2\u001b[0;31m     \u001b[0mfig\u001b[0m\u001b[0;34m,\u001b[0m \u001b[0maxs\u001b[0m \u001b[0;34m=\u001b[0m \u001b[0mplt\u001b[0m\u001b[0;34m.\u001b[0m\u001b[0msubplots\u001b[0m\u001b[0;34m(\u001b[0m\u001b[0;36m1\u001b[0m\u001b[0;34m,\u001b[0m\u001b[0;36m2\u001b[0m\u001b[0;34m,\u001b[0m\u001b[0mfigsize\u001b[0m\u001b[0;34m=\u001b[0m\u001b[0;34m(\u001b[0m\u001b[0;36m15\u001b[0m\u001b[0;34m,\u001b[0m\u001b[0;36m5\u001b[0m\u001b[0;34m)\u001b[0m\u001b[0;34m)\u001b[0m\u001b[0;34m\u001b[0m\u001b[0;34m\u001b[0m\u001b[0m\n\u001b[0m\u001b[1;32m      3\u001b[0m     \u001b[0;31m# summarize history for accuracy\u001b[0m\u001b[0;34m\u001b[0m\u001b[0;34m\u001b[0m\u001b[0;34m\u001b[0m\u001b[0m\n\u001b[1;32m      4\u001b[0m     \u001b[0maxs\u001b[0m\u001b[0;34m[\u001b[0m\u001b[0;36m0\u001b[0m\u001b[0;34m]\u001b[0m\u001b[0;34m.\u001b[0m\u001b[0mplot\u001b[0m\u001b[0;34m(\u001b[0m\u001b[0mrange\u001b[0m\u001b[0;34m(\u001b[0m\u001b[0;36m1\u001b[0m\u001b[0;34m,\u001b[0m\u001b[0mlen\u001b[0m\u001b[0;34m(\u001b[0m\u001b[0mmodel_history\u001b[0m\u001b[0;34m.\u001b[0m\u001b[0mhistory\u001b[0m\u001b[0;34m[\u001b[0m\u001b[0;34m'acc'\u001b[0m\u001b[0;34m]\u001b[0m\u001b[0;34m)\u001b[0m\u001b[0;34m+\u001b[0m\u001b[0;36m1\u001b[0m\u001b[0;34m)\u001b[0m\u001b[0;34m,\u001b[0m\u001b[0mmodel_history\u001b[0m\u001b[0;34m.\u001b[0m\u001b[0mhistory\u001b[0m\u001b[0;34m[\u001b[0m\u001b[0;34m'acc'\u001b[0m\u001b[0;34m]\u001b[0m\u001b[0;34m)\u001b[0m\u001b[0;34m\u001b[0m\u001b[0;34m\u001b[0m\u001b[0m\n\u001b[1;32m      5\u001b[0m     \u001b[0maxs\u001b[0m\u001b[0;34m[\u001b[0m\u001b[0;36m0\u001b[0m\u001b[0;34m]\u001b[0m\u001b[0;34m.\u001b[0m\u001b[0mplot\u001b[0m\u001b[0;34m(\u001b[0m\u001b[0mrange\u001b[0m\u001b[0;34m(\u001b[0m\u001b[0;36m1\u001b[0m\u001b[0;34m,\u001b[0m\u001b[0mlen\u001b[0m\u001b[0;34m(\u001b[0m\u001b[0mmodel_history\u001b[0m\u001b[0;34m.\u001b[0m\u001b[0mhistory\u001b[0m\u001b[0;34m[\u001b[0m\u001b[0;34m'val_acc'\u001b[0m\u001b[0;34m]\u001b[0m\u001b[0;34m)\u001b[0m\u001b[0;34m+\u001b[0m\u001b[0;36m1\u001b[0m\u001b[0;34m)\u001b[0m\u001b[0;34m,\u001b[0m\u001b[0mmodel_history\u001b[0m\u001b[0;34m.\u001b[0m\u001b[0mhistory\u001b[0m\u001b[0;34m[\u001b[0m\u001b[0;34m'val_acc'\u001b[0m\u001b[0;34m]\u001b[0m\u001b[0;34m)\u001b[0m\u001b[0;34m\u001b[0m\u001b[0;34m\u001b[0m\u001b[0m\n",
            "\u001b[0;31mNameError\u001b[0m: name 'plt' is not defined"
          ]
        }
      ]
    },
    {
      "cell_type": "code",
      "metadata": {
        "id": "XJRFQ15V9emo",
        "colab_type": "code",
        "colab": {
          "base_uri": "https://localhost:8080/",
          "height": 367
        },
        "outputId": "30a34f9d-6707-4903-a96e-6a5ffc653475"
      },
      "source": [
        "from matplotlib import pyplot as plt\n",
        "plot_model_history(model_info)\n",
        "print (\"Accuracy on test data is: %0.2f\"%accuracy(x_test, y_test, model))"
      ],
      "execution_count": 39,
      "outputs": [
        {
          "output_type": "display_data",
          "data": {
            "image/png": "[encoded data removed]",
            "text/plain": [
              "<Figure size 1080x360 with 2 Axes>"
            ]
          },
          "metadata": {
            "tags": []
          }
        },
        {
          "output_type": "stream",
          "text": [
            "Accuracy on test data is: 10.40\n"
          ],
          "name": "stdout"
        }
      ]
    },
    {
      "cell_type": "markdown",
      "metadata": {
        "id": "tHBzYFg2RmqV",
        "colab_type": "text"
      },
      "source": [
        "### Evaluate Model"
      ]
    },
    {
      "cell_type": "code",
      "metadata": {
        "id": "ZcWydmIVhZGr",
        "colab_type": "code",
        "outputId": "bbded798-3591-46f6-faea-d208011f2394",
        "colab": {
          "base_uri": "https://localhost:8080/",
          "height": 69
        }
      },
      "source": [
        "# Test the model\n",
        "model.load_weights('./Assignment16/maxAccuracy.hdf5')\n",
        "score = model.evaluate(x_testTF, y_testTF, verbose=1, steps = VALIDATION_STEPS)\n",
        "print('Test loss:', score[0])\n",
        "print('Test accuracy:', score[1])"
      ],
      "execution_count": 53,
      "outputs": [
        {
          "output_type": "stream",
          "text": [
            "79/78 [==============================] - 5s 60ms/step - loss: 0.5706 - acc: 0.8702\n",
            "Test loss: 0.5769504623413086\n",
            "Test accuracy: 0.87015426\n"
          ],
          "name": "stdout"
        }
      ]
    }
  ]
}