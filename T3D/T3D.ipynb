{
  "nbformat": 4,
  "nbformat_minor": 0,
  "metadata": {
    "colab": {
      "name": "T3D.ipynb",
      "provenance": [],
      "authorship_tag": "ABX9TyMeaVrg3kDjKDM3ZEIMUGem",
      "include_colab_link": true
    },
    "kernelspec": {
      "name": "python3",
      "display_name": "Python 3"
    }
  },
  "cells": [
    {
      "cell_type": "markdown",
      "metadata": {
        "id": "view-in-github",
        "colab_type": "text"
      },
      "source": [
        "<a href=\"https://colab.research.google.com/github/prateekgulati/EVA/blob/master/T3D/T3D.ipynb\" target=\"_parent\"><img src=\"https://colab.research.google.com/assets/colab-badge.svg\" alt=\"Open In Colab\"/></a>"
      ]
    },
    {
      "cell_type": "markdown",
      "metadata": {
        "id": "4iVNW1_AY7xt",
        "colab_type": "text"
      },
      "source": [
        "# Initialization"
      ]
    },
    {
      "cell_type": "code",
      "metadata": {
        "id": "h5L6QVNQ6O1j",
        "colab_type": "code",
        "colab": {
          "base_uri": "https://localhost:8080/",
          "height": 34
        },
        "outputId": "a7ae6d5c-c06b-41fc-f26f-a26eff69f375"
      },
      "source": [
        "!pip install pybullet"
      ],
      "execution_count": 1,
      "outputs": [
        {
          "output_type": "stream",
          "text": [
            "Requirement already satisfied: pybullet in /usr/local/lib/python3.6/dist-packages (2.7.1)\n"
          ],
          "name": "stdout"
        }
      ]
    },
    {
      "cell_type": "code",
      "metadata": {
        "id": "XAqkJ2OUYcE6",
        "colab_type": "code",
        "colab": {}
      },
      "source": [
        "import os\n",
        "import time\n",
        "import random\n",
        "import numpy as np\n",
        "import matplotlib.pyplot as plt\n",
        "import pybullet_envs\n",
        "import gym\n",
        "import torch\n",
        "import torch.nn as nn\n",
        "import torch.nn.functional as F\n",
        "from gym import wrappers\n",
        "from torch.autograd import Variable\n",
        "from collections import deque"
      ],
      "execution_count": 0,
      "outputs": []
    },
    {
      "cell_type": "markdown",
      "metadata": {
        "id": "71Re2cv1ZoXH",
        "colab_type": "text"
      },
      "source": [
        "# Step 1"
      ]
    },
    {
      "cell_type": "code",
      "metadata": {
        "id": "X9d07xelZnUC",
        "colab_type": "code",
        "colab": {}
      },
      "source": [
        "class ReplayBuffer(object):\n",
        "    def __init__(self, max_size=1e6):      \n",
        "        self.storage = []\n",
        "        self.max_size = max_size\n",
        "        self.ptr = 0\n",
        "\n",
        "    def add(self, data):\n",
        "        if len(self.storage) == self.max_size:\n",
        "            self.storage[int(self.ptr)] = data\n",
        "            self.ptr = (self.ptr + 1) % self.max_size\n",
        "        else:\n",
        "            self.storage.append(data)\n",
        "\n",
        "    def sample(self, batch_size):\n",
        "        ind = np.random.randint(0, len(self.storage), size=batch_size)\n",
        "        batch_states, batch_next_states, batch_actions, batch_rewards, batch_dones = [], [], [], [], []\n",
        "\n",
        "        for i in ind: \n",
        "            state, next_state, action, reward, done = self.storage[i]\n",
        "            batch_states.append(np.array(state, copy=False))\n",
        "            batch_next_states.append(np.array(next_state, copy=False))\n",
        "            batch_actions.append(np.array(action, copy=False))\n",
        "            batch_rewards.append(np.array(reward, copy=False))\n",
        "            batch_dones.append(np.array(done, copy=False))\n",
        "\n",
        "        return np.array(batch_states), np.array(batch_next_states), np.array(batch_actions), np.array(batch_rewards).reshape(-1, 1), np.array(batch_dones).reshape(-1, 1)\n"
      ],
      "execution_count": 0,
      "outputs": []
    },
    {
      "cell_type": "markdown",
      "metadata": {
        "id": "HiXayJzIamla",
        "colab_type": "text"
      },
      "source": [
        "# Step 2"
      ]
    },
    {
      "cell_type": "code",
      "metadata": {
        "id": "vrcWsmX_amK2",
        "colab_type": "code",
        "colab": {}
      },
      "source": [
        "class Actor(nn.Module):\n",
        "    def __init__(self, state_dim, action_dim, max_action):\n",
        "        super(Actor, self).__init__()\n",
        "        \n",
        "        self.layer_1 = nn.Linear(state_dim, 400)\n",
        "        self.layer_2 = nn.Linear(400, 300)\n",
        "        self.layer_3 = nn.Linear(300, action_dim)        \n",
        "        self.max_action = max_action\n",
        "        \n",
        "    def forward(self, state):\n",
        "        x = F.relu(self.l1(state))\n",
        "        x = F.relu(self.l2(x))\n",
        "        x = self.max_action * torch.tanh(self.l3(x))\n",
        "        return x"
      ],
      "execution_count": 0,
      "outputs": []
    },
    {
      "cell_type": "markdown",
      "metadata": {
        "id": "rx5x8csr1beO",
        "colab_type": "text"
      },
      "source": [
        "# Step 3"
      ]
    },
    {
      "cell_type": "code",
      "metadata": {
        "id": "9iGo8LmH1cgo",
        "colab_type": "code",
        "colab": {}
      },
      "source": [
        "class Critic(nn.Module):\n",
        "    \n",
        "    def __init__(self, state_dim, action_dim):\n",
        "        super(Critic, self().__init__())\n",
        "        # 1st critic NN\n",
        "        self.layer_1 = nn.Linear(state_dim+action_dim, 400)\n",
        "        self.layer_2 = nn.Linear(400, 300)\n",
        "        self.layer_3 = nn.Linear(300, action_dim)\n",
        "        # 2nd critic NN\n",
        "        self.layer_4 = nn.Linear(state_dim+action_dim, 400)\n",
        "        self.layer_5 = nn.Linear(400, 300)\n",
        "        self.layer_6 = nn.Linear(300, action_dim)\n",
        "   \n",
        "    def forward(self, x, u):\n",
        "        xu = torch.cat([x,u],1)\n",
        "        #Forward for 1st critic NN\n",
        "        x1 = F.relu(self.layer_1(xu))\n",
        "        x1 = F.relu(self.layer_2(x1))\n",
        "        x1 = self.layer_3(x1)\n",
        "        #Forward for 2nd critic NN\n",
        "        x2 = F.relu(self.layer_4(xu))\n",
        "        x2 = F.relu(self.layer_5(x2))\n",
        "        x2 = self.layer_6(x2)\n",
        "        return x1, x2\n",
        "    \n",
        "    def Q1(self, x, u):\n",
        "        #concat\n",
        "        xu = torch.cat([x,u],1)#axis = 1 --> concat vertically\n",
        "        x1 = F.relu(self.layer_1(xu))\n",
        "        x1 = F.relu(self.layer_2(x1))\n",
        "        x1 = self.layer_3(x1)\n",
        "        return x1"
      ],
      "execution_count": 0,
      "outputs": []
    },
    {
      "cell_type": "markdown",
      "metadata": {
        "id": "H-RE9cez6LKS",
        "colab_type": "text"
      },
      "source": [
        "# Step 4"
      ]
    },
    {
      "cell_type": "code",
      "metadata": {
        "id": "5PGOP4PD62Cz",
        "colab_type": "code",
        "colab": {}
      },
      "source": [
        "device = torch.device(\"cuda\" if torch.cuda.is_available() else \"cpu\")\n",
        "\n",
        "\n",
        "class TD3:\n",
        "    def __init__(self, state_dim, action_dim, max_action):\n",
        "        \n",
        "        self.actor = Actor(state_dim, action_dim, max_action).to(device)\n",
        "        self.actor_target = Actor(state_dim, action_dim, max_action).to(device)\n",
        "        self.actor_target.load_state_dict(self.actor.state_dict())\n",
        "        self.actor_optimizer = optim.Adam(self.actor.parameters())\n",
        "        \n",
        "        self.critic = Critic(state_dim, action_dim).to(device)\n",
        "        self.critic_target = Critic(state_dim, action_dim).to(device)\n",
        "        self.critic_target.load_state_dict(self.critic.state_dict())\n",
        "        self.critic_optimizer = optim.Adam(self.critic.parameters())\n",
        "        \n",
        "        self.max_action = max_action\n",
        "    \n",
        "    def select_action(self, state):\n",
        "        state = torch.FloatTensor(state.reshape(1, -1)).to(device)\n",
        "        return self.actor(state).cpu().data.numpy().flatten()"
      ],
      "execution_count": 0,
      "outputs": []
    },
    {
      "cell_type": "code",
      "metadata": {
        "id": "t1zyF3MVC51M",
        "colab_type": "code",
        "colab": {}
      },
      "source": [
        "def train(self, replay_buffer, iterations, batch_size=100, discount, tau=0.005, policy_noise=0.2, noise_clip=0.5, policy_freq=2):\n",
        "    \n",
        "    for it in range(iterations):\n",
        "        batch_states, batch_next_batch_states, batch_action, batch_reward, batch_done = replay_buffer.sample(batch_size)\n",
        "        state = torch.FloatTensor(batch_states).to(device)\n",
        "        next_batch_state = torch.FloatTensor(batch_next_batch_states).to(device)\n",
        "        action = torch.FloatTensor(batch_action).to(device)\n",
        "        reward = torch.FloatTensor(batch_reward).reshape((batch_size,1)).to(device)        \n",
        "        done = torch.FloatTensor(batch_done).reshape((batch_size,1)).to(device)"
      ],
      "execution_count": 0,
      "outputs": []
    },
    {
      "cell_type": "markdown",
      "metadata": {
        "id": "QyKOqmitEU5R",
        "colab_type": "text"
      },
      "source": [
        "# Step 5"
      ]
    },
    {
      "cell_type": "code",
      "metadata": {
        "id": "GGkmtvyAEg1X",
        "colab_type": "code",
        "colab": {}
      },
      "source": [
        "next_action = self.actor_target.forward(next_state)"
      ],
      "execution_count": 0,
      "outputs": []
    },
    {
      "cell_type": "markdown",
      "metadata": {
        "id": "czrfGhN0EpYR",
        "colab_type": "text"
      },
      "source": [
        "# Step 6"
      ]
    },
    {
      "cell_type": "code",
      "metadata": {
        "id": "ds1z3ckrE-CW",
        "colab_type": "code",
        "colab": {}
      },
      "source": [
        "noise = torch.Tensor(batch_actions).data.normal_(0, policy_noise).to(device)\n",
        "noise = noise.clamp(-noise_clip, noise_clip)\n",
        "next_action = (next_action+noise).clamp(-self.max_batch_action, self.max_batch_action)\n"
      ],
      "execution_count": 0,
      "outputs": []
    },
    {
      "cell_type": "markdown",
      "metadata": {
        "id": "GRLR18XmFhKT",
        "colab_type": "text"
      },
      "source": [
        "# Step 7"
      ]
    },
    {
      "cell_type": "code",
      "metadata": {
        "id": "xbrnJYzfD3T7",
        "colab_type": "code",
        "colab": {}
      },
      "source": [
        "target_Q1, target_Q2 = self.critic_target.forward(next_states, next_action)\n",
        "                target_param.data.copy_( (polyak * target_param.data) + ((1-polyak) * param.data))"
      ],
      "execution_count": 0,
      "outputs": []
    },
    {
      "cell_type": "markdown",
      "metadata": {
        "id": "6wIwb8P7F2oU",
        "colab_type": "text"
      },
      "source": [
        "# Step 8"
      ]
    },
    {
      "cell_type": "code",
      "metadata": {
        "id": "DYfdmq3VF-Bv",
        "colab_type": "code",
        "colab": {}
      },
      "source": [
        "target_Q = torch.min(target_Q1, target_Q2)"
      ],
      "execution_count": 0,
      "outputs": []
    },
    {
      "cell_type": "markdown",
      "metadata": {
        "id": "x6dInhAJF_in",
        "colab_type": "text"
      },
      "source": [
        "# Step 9"
      ]
    },
    {
      "cell_type": "code",
      "metadata": {
        "id": "FCMUNSS0GBsJ",
        "colab_type": "code",
        "colab": {}
      },
      "source": [
        "target_Q = reward + ((1-done) * discount * target_Q).detach()"
      ],
      "execution_count": 0,
      "outputs": []
    },
    {
      "cell_type": "markdown",
      "metadata": {
        "id": "JVh8hejiGeu1",
        "colab_type": "text"
      },
      "source": [
        "# Step 10"
      ]
    },
    {
      "cell_type": "code",
      "metadata": {
        "id": "eWiTsswXGl-P",
        "colab_type": "code",
        "colab": {}
      },
      "source": [
        "current_Q1, current_Q2 = self.critic.forward(state, action)"
      ],
      "execution_count": 0,
      "outputs": []
    },
    {
      "cell_type": "markdown",
      "metadata": {
        "id": "DQvYEScYGg9C",
        "colab_type": "text"
      },
      "source": [
        "# Step 11"
      ]
    },
    {
      "cell_type": "code",
      "metadata": {
        "id": "q6zn1FCtGmg7",
        "colab_type": "code",
        "colab": {}
      },
      "source": [
        "critic_loss = F.mse_loss(current_Q1, target_Q) + F.mse_loss(current_Q2, target_Q)"
      ],
      "execution_count": 0,
      "outputs": []
    },
    {
      "cell_type": "markdown",
      "metadata": {
        "id": "unXdKy8PGhza",
        "colab_type": "text"
      },
      "source": [
        "# Step 12"
      ]
    },
    {
      "cell_type": "code",
      "metadata": {
        "id": "-ZnuE3DUGm_x",
        "colab_type": "code",
        "colab": {}
      },
      "source": [
        "self.critic_optimizer.zero_grad()\n",
        "critic_loss.backward()\n",
        "self.critic_optimizer.step()"
      ],
      "execution_count": 0,
      "outputs": []
    },
    {
      "cell_type": "markdown",
      "metadata": {
        "id": "8OhlxqkCGih9",
        "colab_type": "text"
      },
      "source": [
        "# Step 13"
      ]
    },
    {
      "cell_type": "code",
      "metadata": {
        "id": "DJxsefgVGnqS",
        "colab_type": "code",
        "colab": {}
      },
      "source": [
        " if it % policy_freq == 0:\n",
        "    actor_loss = -(self.critic.Q1(state, self.actor(state)).mean())\n",
        "    self.actor_optimizer.zero_grad()\n",
        "    actor_loss.backward()\n",
        "    self.actor_optimizer.step()\n"
      ],
      "execution_count": 0,
      "outputs": []
    },
    {
      "cell_type": "markdown",
      "metadata": {
        "id": "ep1zBJRyGjTm",
        "colab_type": "text"
      },
      "source": [
        "# Step 14"
      ]
    },
    {
      "cell_type": "code",
      "metadata": {
        "id": "4ZJQts5vF1q5",
        "colab_type": "code",
        "colab": {}
      },
      "source": [
        "for param, target_param in zip(self.actor.parameters(), self.actor_target.parameters()):\n",
        "    target_param.data.copy_( (tau * param.data) + ((1-tau) * target_param.data))"
      ],
      "execution_count": 0,
      "outputs": []
    },
    {
      "cell_type": "markdown",
      "metadata": {
        "id": "T4KSL3lfHt_D",
        "colab_type": "text"
      },
      "source": [
        "# Step 15"
      ]
    },
    {
      "cell_type": "code",
      "metadata": {
        "id": "iQUhGNsjHvXt",
        "colab_type": "code",
        "colab": {}
      },
      "source": [
        "for param, target_param in zip(self.critic.parameters(), self.critic_target.parameters()):\n",
        "    target_param.data.copy_( tau * param.data + (1-tau) * target_param.data)"
      ],
      "execution_count": 0,
      "outputs": []
    }
  ]
}