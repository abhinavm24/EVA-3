{
  "nbformat": 4,
  "nbformat_minor": 0,
  "metadata": {
    "colab": {
      "name": "EVA_12.ipynb",
      "version": "0.3.2",
      "provenance": [],
      "collapsed_sections": [
        "2zcm1EZWBE-h",
        "PhPhyJ0kpZ-X",
        "A7-6LZPqYx-Z",
        "HlTB7EwwY5tY",
        "1l7KVPBLZB50",
        "ouCIpP-8ZJYr",
        "4ELIuC6KYmVH",
        "ooMYx8z4rkKk",
        "ddlMZCFgYxnw",
        "g5CPp87is7_A",
        "qkqly-jN61pk",
        "vJKVQbolCYue",
        "8L1THaKsCbB7",
        "6LOFMqeu_7aA",
        "6N3EXRtPxYnS",
        "FSlzJOT7O5VY"
      ],
      "toc_visible": true
    },
    "kernelspec": {
      "name": "python3",
      "display_name": "Python 3"
    },
    "accelerator": "GPU"
  },
  "cells": [
    {
      "cell_type": "markdown",
      "metadata": {
        "id": "2zcm1EZWBE-h",
        "colab_type": "text"
      },
      "source": [
        "### Import Libraries\n",
        "\n"
      ]
    },
    {
      "cell_type": "code",
      "metadata": {
        "id": "KkwXnw9OfHZl",
        "colab_type": "code",
        "outputId": "c0de9500-faa5-43f6-cbcd-ce1c56258206",
        "colab": {
          "base_uri": "https://localhost:8080/",
          "height": 34
        }
      },
      "source": [
        "from keras import backend as K\n",
        "import time\n",
        "import matplotlib.pyplot as plt\n",
        "import numpy as np\n",
        "% matplotlib inline\n",
        "np.random.seed(2017) \n",
        "from keras import regularizers\n",
        "from keras.models import Sequential\n",
        "from keras.layers.convolutional import Convolution2D, MaxPooling2D,AveragePooling2D\n",
        "from keras.layers import Activation, Flatten, Dense, Dropout\n",
        "from keras.layers.normalization import BatchNormalization\n",
        "from keras.utils import np_utils\n",
        "from keras.preprocessing.image import ImageDataGenerator\n",
        "from keras.optimizers import SGD"
      ],
      "execution_count": 0,
      "outputs": [
        {
          "output_type": "stream",
          "text": [
            "Using TensorFlow backend.\n"
          ],
          "name": "stderr"
        }
      ]
    },
    {
      "cell_type": "markdown",
      "metadata": {
        "colab_type": "text",
        "id": "PhPhyJ0kpZ-X"
      },
      "source": [
        "### Connect to Drive\n",
        "\n"
      ]
    },
    {
      "cell_type": "code",
      "metadata": {
        "id": "BXtBLhIaN2FP",
        "colab_type": "code",
        "outputId": "844b5976-32f3-44bf-b052-77991292f934",
        "colab": {
          "base_uri": "https://localhost:8080/"
        }
      },
      "source": [
        "# Drive\n",
        "from google.colab import drive\n",
        "drive.mount('/content/drive')"
      ],
      "execution_count": 0,
      "outputs": [
        {
          "output_type": "stream",
          "text": [
            "Go to this URL in a browser: https://accounts.google.com/o/oauth2/auth?client_id=947318989803-6bn6qk8qdgf4n4g3pfee6491hc0brc4i.apps.googleusercontent.com&redirect_uri=urn%3Aietf%3Awg%3Aoauth%3A2.0%3Aoob&scope=email%20https%3A%2F%2Fwww.googleapis.com%2Fauth%2Fdocs.test%20https%3A%2F%2Fwww.googleapis.com%2Fauth%2Fdrive%20https%3A%2F%2Fwww.googleapis.com%2Fauth%2Fdrive.photos.readonly%20https%3A%2F%2Fwww.googleapis.com%2Fauth%2Fpeopleapi.readonly&response_type=code\n",
            "\n",
            "Enter your authorization code:\n",
            "··········\n",
            "Mounted at /content/drive\n"
          ],
          "name": "stdout"
        }
      ]
    },
    {
      "cell_type": "markdown",
      "metadata": {
        "id": "seZmUvpmw2rM",
        "colab_type": "text"
      },
      "source": [
        "### HyperParameters"
      ]
    },
    {
      "cell_type": "code",
      "metadata": {
        "id": "8chov0Zqw5J8",
        "colab_type": "code",
        "cellView": "form",
        "colab": {}
      },
      "source": [
        "BATCH_SIZE = 128 #@param [\"512\", \"256\", \"128\"] {type:\"raw\"}\n",
        "MOMENTUM = 0.9 #@param [\"0.9\", \"0.95\", \"0.975\"] {type:\"raw\"}\n",
        "WEIGHT_DECAY = 0.000125 #@param [\"0.000125\", \"0.00025\", \"0.0005\"] {type:\"raw\"}\n",
        "LEARNING_RATE = 0.4 #@param [\"0.4\", \"0.2\", \"0.1\"] {type:\"raw\"}\n",
        "EPOCHS = 50 #@param {type:\"slider\", min:0, max:100, step:1}\n",
        "WARMUP = 5 #@param {type:\"slider\", min:0, max:24, step:1}"
      ],
      "execution_count": 0,
      "outputs": []
    },
    {
      "cell_type": "markdown",
      "metadata": {
        "id": "A7-6LZPqYx-Z",
        "colab_type": "text"
      },
      "source": [
        "### Read DataSet"
      ]
    },
    {
      "cell_type": "code",
      "metadata": {
        "id": "NHpnoCHZfO8g",
        "colab_type": "code",
        "colab": {}
      },
      "source": [
        "from keras.datasets import cifar10\n",
        "(train_X, train_y), (test_X, test_y) = cifar10.load_data()\n",
        "num_train, img_rows, img_cols,img_channels =  train_X.shape\n",
        "num_test, _, _, _ =  test_X.shape\n",
        "num_classes = len(np.unique(train_y))"
      ],
      "execution_count": 0,
      "outputs": []
    },
    {
      "cell_type": "code",
      "metadata": {
        "id": "2R9KHV8A19cw",
        "colab_type": "code",
        "outputId": "c78648ed-ee1e-41ab-e53a-99e2760e8afa",
        "colab": {
          "base_uri": "https://localhost:8080/",
          "height": 68
        }
      },
      "source": [
        "print (num_classes)\n",
        "print (num_train)\n",
        "print (train_X.shape)"
      ],
      "execution_count": 0,
      "outputs": [
        {
          "output_type": "stream",
          "text": [
            "10\n",
            "50000\n",
            "(50000, 32, 32, 3)\n"
          ],
          "name": "stdout"
        }
      ]
    },
    {
      "cell_type": "markdown",
      "metadata": {
        "id": "HlTB7EwwY5tY",
        "colab_type": "text"
      },
      "source": [
        "### Classes"
      ]
    },
    {
      "cell_type": "code",
      "metadata": {
        "id": "14HyBUXdfS6G",
        "colab_type": "code",
        "outputId": "9a9cf7a9-333b-456c-8933-f6abb1420217",
        "colab": {
          "base_uri": "https://localhost:8080/"
        }
      },
      "source": [
        "class_names = ['airplane','automobile','bird','cat','deer',\n",
        "               'dog','frog','horse','ship','truck']\n",
        "fig = plt.figure(figsize=(8,3))\n",
        "for i in range(num_classes):\n",
        "    ax = fig.add_subplot(2, 5, 1 + i, xticks=[], yticks=[])\n",
        "    idx = np.where(train_y[:]==i)[0]\n",
        "    features_idx = train_X[idx,::]\n",
        "    img_num = np.random.randint(features_idx.shape[0])\n",
        "    im = features_idx[img_num]\n",
        "    ax.set_title(class_names[i])\n",
        "    plt.imshow(im)\n",
        "plt.show()"
      ],
      "execution_count": 0,
      "outputs": [
        {
          "output_type": "display_data",
          "data": {
            "image/png": "[encoded data removed]",
            "text/plain": [
              "<Figure size 576x216 with 10 Axes>"
            ]
          },
          "metadata": {
            "tags": []
          }
        }
      ]
    },
    {
      "cell_type": "markdown",
      "metadata": {
        "id": "1l7KVPBLZB50",
        "colab_type": "text"
      },
      "source": [
        "### Functions for Post Training Analysis "
      ]
    },
    {
      "cell_type": "code",
      "metadata": {
        "id": "bmfsk76-fadV",
        "colab_type": "code",
        "colab": {}
      },
      "source": [
        "def plot_model_history(model_history):\n",
        "    fig, axs = plt.subplots(1,2,figsize=(15,5))\n",
        "    # summarize history for accuracy\n",
        "    axs[0].plot(range(1,len(model_history.history['acc'])+1),model_history.history['acc'])\n",
        "    axs[0].plot(range(1,len(model_history.history['val_acc'])+1),model_history.history['val_acc'])\n",
        "    axs[0].set_title('Model Accuracy')\n",
        "    axs[0].set_ylabel('Accuracy')\n",
        "    axs[0].set_xlabel('Epoch')\n",
        "    axs[0].set_xticks(np.arange(1,len(model_history.history['acc'])+1),len(model_history.history['acc'])/10)\n",
        "    axs[0].legend(['train', 'val'], loc='best')\n",
        "    # summarize history for loss\n",
        "    axs[1].plot(range(1,len(model_history.history['loss'])+1),model_history.history['loss'])\n",
        "    axs[1].plot(range(1,len(model_history.history['val_loss'])+1),model_history.history['val_loss'])\n",
        "    axs[1].set_title('Model Loss')\n",
        "    axs[1].set_ylabel('Loss')\n",
        "    axs[1].set_xlabel('Epoch')\n",
        "    axs[1].set_xticks(np.arange(1,len(model_history.history['loss'])+1),len(model_history.history['loss'])/10)\n",
        "    axs[1].legend(['train', 'val'], loc='best')\n",
        "    plt.show()"
      ],
      "execution_count": 0,
      "outputs": []
    },
    {
      "cell_type": "code",
      "metadata": {
        "id": "YJMT4rjgfdZz",
        "colab_type": "code",
        "colab": {}
      },
      "source": [
        "def accuracy(test_x, test_y, model):\n",
        "    result = model.predict(test_x)\n",
        "    predicted_class = np.argmax(result, axis=1)\n",
        "    true_class = np.argmax(test_y, axis=1)\n",
        "    num_correct = np.sum(predicted_class == true_class) \n",
        "    accuracy = float(num_correct)/result.shape[0]\n",
        "    return (accuracy * 100)"
      ],
      "execution_count": 0,
      "outputs": []
    },
    {
      "cell_type": "markdown",
      "metadata": {
        "id": "ouCIpP-8ZJYr",
        "colab_type": "text"
      },
      "source": [
        "### Preparing Data"
      ]
    },
    {
      "cell_type": "code",
      "metadata": {
        "id": "T5c5nDvxm6zR",
        "colab_type": "code",
        "colab": {}
      },
      "source": [
        "train_X = train_X.astype('float32')/255\n",
        "test_X = test_X.astype('float32')/255\n",
        "# convert class labels to binary class labels\n",
        "train_y = np_utils.to_categorical(train_y, num_classes)\n",
        "test_y = np_utils.to_categorical(test_y, num_classes)"
      ],
      "execution_count": 0,
      "outputs": []
    },
    {
      "cell_type": "code",
      "metadata": {
        "id": "hSDO3qz-xMjf",
        "colab_type": "code",
        "colab": {}
      },
      "source": [
        "train_X_mean = np.mean(train_X, axis=(0,1,2))\n",
        "train_X_std = np.std(train_X, axis=(0,1,2))\n",
        "train_X = (train_X - train_X_mean) / train_X_std\n",
        "test_X = (test_X - train_X_mean) / train_X_std"
      ],
      "execution_count": 0,
      "outputs": []
    },
    {
      "cell_type": "markdown",
      "metadata": {
        "id": "4ELIuC6KYmVH",
        "colab_type": "text"
      },
      "source": [
        "### Import Cutout"
      ]
    },
    {
      "cell_type": "code",
      "metadata": {
        "id": "BUh5DL3Rqb02",
        "colab_type": "code",
        "outputId": "f9e73660-2fa3-48be-93ce-185c9d300cdf",
        "colab": {
          "base_uri": "https://localhost:8080/"
        }
      },
      "source": [
        "!wget \"https://raw.githubusercontent.com/yu4u/cutout-random-erasing/master/random_eraser.py\"\n",
        "from random_eraser import get_random_eraser"
      ],
      "execution_count": 0,
      "outputs": [
        {
          "output_type": "stream",
          "text": [
            "--2019-07-26 06:50:20--  https://raw.githubusercontent.com/yu4u/cutout-random-erasing/master/random_eraser.py\n",
            "Resolving raw.githubusercontent.com (raw.githubusercontent.com)... 151.101.0.133, 151.101.64.133, 151.101.128.133, ...\n",
            "Connecting to raw.githubusercontent.com (raw.githubusercontent.com)|151.101.0.133|:443... connected.\n",
            "HTTP request sent, awaiting response... 200 OK\n",
            "Length: 888 [text/plain]\n",
            "Saving to: ‘random_eraser.py’\n",
            "\n",
            "\rrandom_eraser.py      0%[                    ]       0  --.-KB/s               \rrandom_eraser.py    100%[===================>]     888  --.-KB/s    in 0s      \n",
            "\n",
            "2019-07-26 06:50:20 (110 MB/s) - ‘random_eraser.py’ saved [888/888]\n",
            "\n"
          ],
          "name": "stdout"
        }
      ]
    },
    {
      "cell_type": "markdown",
      "metadata": {
        "colab_type": "text",
        "id": "ooMYx8z4rkKk"
      },
      "source": [
        "### Image Augmentation"
      ]
    },
    {
      "cell_type": "code",
      "metadata": {
        "id": "mW_wS7hmri96",
        "colab_type": "code",
        "colab": {}
      },
      "source": [
        "from keras.preprocessing.image import ImageDataGenerator\n",
        "\n",
        "traindatagen = ImageDataGenerator(zoom_range=0.0, #featurewise_center=True, featurewise_std_normalization=True,\n",
        "                             width_shift_range=0.15625, height_shift_range=0.15625, rotation_range=15, horizontal_flip=True, \n",
        "                             preprocessing_function=get_random_eraser(s_l=0.25, s_h=0.25,v_l=0, v_h=1))\n",
        "testdatagen = ImageDataGenerator()\n",
        "\n",
        "train_generator = traindatagen.flow(train_X, train_y, batch_size = BATCH_SIZE)"
      ],
      "execution_count": 0,
      "outputs": []
    },
    {
      "cell_type": "markdown",
      "metadata": {
        "id": "rvxchytVYpx4",
        "colab_type": "text"
      },
      "source": [
        "### Define Model"
      ]
    },
    {
      "cell_type": "code",
      "metadata": {
        "id": "z3d05MXp7qXD",
        "colab_type": "code",
        "outputId": "5cb3379f-cc7c-4a4d-eab4-57f40a74ba1f",
        "colab": {
          "base_uri": "https://localhost:8080/",
          "height": 258
        }
      },
      "source": [
        "# Define the model\n",
        "model = Sequential()\n",
        "model.add(Convolution2D(32, 3, 3, border_mode='same',kernel_regularizer=regularizers.l2(0.0001), input_shape=(32, 32, 3)))\n",
        "model.add(Activation('relu'))\n",
        "model.add(BatchNormalization())\n",
        "\n",
        "model.add(Convolution2D(64, 3, 3,kernel_regularizer=regularizers.l2(0.0001),border_mode='same'))\n",
        "model.add(Activation('relu'))\n",
        "model.add(BatchNormalization())\n",
        "\n",
        "model.add(MaxPooling2D(pool_size=(2, 2)))\n",
        "model.add(Dropout(0.2))\n",
        "\n",
        "model.add(Convolution2D(32, 1, 1))\n",
        "\n",
        "\n",
        "model.add(Convolution2D(64, 3, 3,kernel_regularizer=regularizers.l2(0.0001),border_mode='same'))\n",
        "model.add(Activation('relu'))\n",
        "model.add(BatchNormalization())\n",
        "\n",
        "model.add(Convolution2D(128, 3, 3,kernel_regularizer=regularizers.l2(0.0001),border_mode='same'))\n",
        "model.add(Activation('relu'))\n",
        "model.add(BatchNormalization())\n",
        "\n",
        "model.add(MaxPooling2D(pool_size=(2, 2)))\n",
        "model.add(Dropout(0.3))\n",
        "\n",
        "model.add(Convolution2D(32, 1, 1))\n",
        "\n",
        "\n",
        "model.add(Convolution2D(128, 3, 3,kernel_regularizer=regularizers.l2(0.0001), border_mode='same'))\n",
        "model.add(Activation('relu'))\n",
        "model.add(BatchNormalization())\n",
        "\n",
        "model.add(Convolution2D(256, 3, 3,kernel_regularizer=regularizers.l2(0.0001), border_mode='same'))\n",
        "model.add(Activation('relu'))\n",
        "model.add(BatchNormalization())\n",
        "\n",
        "model.add(MaxPooling2D(pool_size=(2, 2)))\n",
        "model.add(Dropout(0.5))\n",
        "\n",
        "model.add(Convolution2D(10, 1, 1))\n",
        "\n",
        "model.add(AveragePooling2D(pool_size = (4,4)))\n",
        "model.add(Flatten())\n",
        "\n",
        "\n",
        "model.add(Activation('softmax'))\n"
      ],
      "execution_count": 81,
      "outputs": [
        {
          "output_type": "stream",
          "text": [
            "/usr/local/lib/python3.6/dist-packages/ipykernel_launcher.py:2: UserWarning: Update your `Conv2D` call to the Keras 2 API: `Conv2D(32, (3, 3), kernel_regularizer=<keras.reg..., input_shape=(32, 32, 3..., padding=\"same\")`\n",
            "  \n",
            "/usr/local/lib/python3.6/dist-packages/ipykernel_launcher.py:6: UserWarning: Update your `Conv2D` call to the Keras 2 API: `Conv2D(64, (3, 3), kernel_regularizer=<keras.reg..., padding=\"same\")`\n",
            "  \n",
            "/usr/local/lib/python3.6/dist-packages/ipykernel_launcher.py:13: UserWarning: Update your `Conv2D` call to the Keras 2 API: `Conv2D(32, (1, 1))`\n",
            "  del sys.path[0]\n",
            "/usr/local/lib/python3.6/dist-packages/ipykernel_launcher.py:16: UserWarning: Update your `Conv2D` call to the Keras 2 API: `Conv2D(64, (3, 3), kernel_regularizer=<keras.reg..., padding=\"same\")`\n",
            "  app.launch_new_instance()\n",
            "/usr/local/lib/python3.6/dist-packages/ipykernel_launcher.py:20: UserWarning: Update your `Conv2D` call to the Keras 2 API: `Conv2D(128, (3, 3), kernel_regularizer=<keras.reg..., padding=\"same\")`\n",
            "/usr/local/lib/python3.6/dist-packages/ipykernel_launcher.py:27: UserWarning: Update your `Conv2D` call to the Keras 2 API: `Conv2D(32, (1, 1))`\n",
            "/usr/local/lib/python3.6/dist-packages/ipykernel_launcher.py:30: UserWarning: Update your `Conv2D` call to the Keras 2 API: `Conv2D(128, (3, 3), kernel_regularizer=<keras.reg..., padding=\"same\")`\n",
            "/usr/local/lib/python3.6/dist-packages/ipykernel_launcher.py:34: UserWarning: Update your `Conv2D` call to the Keras 2 API: `Conv2D(256, (3, 3), kernel_regularizer=<keras.reg..., padding=\"same\")`\n",
            "/usr/local/lib/python3.6/dist-packages/ipykernel_launcher.py:41: UserWarning: Update your `Conv2D` call to the Keras 2 API: `Conv2D(10, (1, 1))`\n"
          ],
          "name": "stderr"
        }
      ]
    },
    {
      "cell_type": "markdown",
      "metadata": {
        "id": "ddlMZCFgYxnw",
        "colab_type": "text"
      },
      "source": [
        "### Model Summary"
      ]
    },
    {
      "cell_type": "code",
      "metadata": {
        "id": "wvVs5tC8mR6Q",
        "colab_type": "code",
        "outputId": "20bfe3d9-bdfb-4601-bc97-af5922ce09fc",
        "colab": {
          "base_uri": "https://localhost:8080/",
          "height": 1000
        }
      },
      "source": [
        "model.summary()"
      ],
      "execution_count": 0,
      "outputs": [
        {
          "output_type": "stream",
          "text": [
            "_________________________________________________________________\n",
            "Layer (type)                 Output Shape              Param #   \n",
            "=================================================================\n",
            "conv2d_19 (Conv2D)           (None, 32, 32, 32)        896       \n",
            "_________________________________________________________________\n",
            "activation_15 (Activation)   (None, 32, 32, 32)        0         \n",
            "_________________________________________________________________\n",
            "batch_normalization_13 (Batc (None, 32, 32, 32)        128       \n",
            "_________________________________________________________________\n",
            "conv2d_20 (Conv2D)           (None, 32, 32, 64)        18496     \n",
            "_________________________________________________________________\n",
            "activation_16 (Activation)   (None, 32, 32, 64)        0         \n",
            "_________________________________________________________________\n",
            "batch_normalization_14 (Batc (None, 32, 32, 64)        256       \n",
            "_________________________________________________________________\n",
            "max_pooling2d_7 (MaxPooling2 (None, 16, 16, 64)        0         \n",
            "_________________________________________________________________\n",
            "dropout_5 (Dropout)          (None, 16, 16, 64)        0         \n",
            "_________________________________________________________________\n",
            "conv2d_21 (Conv2D)           (None, 16, 16, 32)        2080      \n",
            "_________________________________________________________________\n",
            "conv2d_22 (Conv2D)           (None, 16, 16, 64)        18496     \n",
            "_________________________________________________________________\n",
            "activation_17 (Activation)   (None, 16, 16, 64)        0         \n",
            "_________________________________________________________________\n",
            "batch_normalization_15 (Batc (None, 16, 16, 64)        256       \n",
            "_________________________________________________________________\n",
            "conv2d_23 (Conv2D)           (None, 16, 16, 128)       73856     \n",
            "_________________________________________________________________\n",
            "activation_18 (Activation)   (None, 16, 16, 128)       0         \n",
            "_________________________________________________________________\n",
            "batch_normalization_16 (Batc (None, 16, 16, 128)       512       \n",
            "_________________________________________________________________\n",
            "max_pooling2d_8 (MaxPooling2 (None, 8, 8, 128)         0         \n",
            "_________________________________________________________________\n",
            "dropout_6 (Dropout)          (None, 8, 8, 128)         0         \n",
            "_________________________________________________________________\n",
            "conv2d_24 (Conv2D)           (None, 8, 8, 32)          4128      \n",
            "_________________________________________________________________\n",
            "conv2d_25 (Conv2D)           (None, 8, 8, 128)         36992     \n",
            "_________________________________________________________________\n",
            "activation_19 (Activation)   (None, 8, 8, 128)         0         \n",
            "_________________________________________________________________\n",
            "batch_normalization_17 (Batc (None, 8, 8, 128)         512       \n",
            "_________________________________________________________________\n",
            "conv2d_26 (Conv2D)           (None, 8, 8, 256)         295168    \n",
            "_________________________________________________________________\n",
            "activation_20 (Activation)   (None, 8, 8, 256)         0         \n",
            "_________________________________________________________________\n",
            "batch_normalization_18 (Batc (None, 8, 8, 256)         1024      \n",
            "_________________________________________________________________\n",
            "max_pooling2d_9 (MaxPooling2 (None, 4, 4, 256)         0         \n",
            "_________________________________________________________________\n",
            "dropout_7 (Dropout)          (None, 4, 4, 256)         0         \n",
            "_________________________________________________________________\n",
            "conv2d_27 (Conv2D)           (None, 4, 4, 10)          2570      \n",
            "_________________________________________________________________\n",
            "average_pooling2d_3 (Average (None, 1, 1, 10)          0         \n",
            "_________________________________________________________________\n",
            "flatten_3 (Flatten)          (None, 10)                0         \n",
            "_________________________________________________________________\n",
            "activation_21 (Activation)   (None, 10)                0         \n",
            "=================================================================\n",
            "Total params: 455,370\n",
            "Trainable params: 454,026\n",
            "Non-trainable params: 1,344\n",
            "_________________________________________________________________\n"
          ],
          "name": "stdout"
        }
      ]
    },
    {
      "cell_type": "markdown",
      "metadata": {
        "colab_type": "text",
        "id": "g5CPp87is7_A"
      },
      "source": [
        "### Compile Model"
      ]
    },
    {
      "cell_type": "code",
      "metadata": {
        "colab_type": "code",
        "id": "PROH3JVIs7_K",
        "colab": {}
      },
      "source": [
        "# Compile the model\n",
        "model.compile(optimizer=SGD(lr=0.1, momentum=MOMENTUM, decay=WEIGHT_DECAY), \n",
        "              loss='categorical_crossentropy', \n",
        "              metrics=['accuracy'])"
      ],
      "execution_count": 0,
      "outputs": []
    },
    {
      "cell_type": "markdown",
      "metadata": {
        "id": "qkqly-jN61pk",
        "colab_type": "text"
      },
      "source": [
        "### One Cycle Learning Rate"
      ]
    },
    {
      "cell_type": "markdown",
      "metadata": {
        "id": "vJKVQbolCYue",
        "colab_type": "text"
      },
      "source": [
        "#### Code"
      ]
    },
    {
      "cell_type": "code",
      "metadata": {
        "id": "navTKJwTYwp4",
        "colab_type": "code",
        "colab": {}
      },
      "source": [
        "from keras.callbacks import Callback\n",
        "\n",
        "class OneCycleLR(Callback):\n",
        "    def __init__(self,\n",
        "                 batch_size,\n",
        "                 epochs,   \n",
        "                 samples,\n",
        "                 max_lr,\n",
        "                 end_percentage=0.1,\n",
        "                 scale_percentage=None,\n",
        "                 maximum_momentum=0.95,\n",
        "                 minimum_momentum=0.85,\n",
        "                 verbose=True):\n",
        "        \"\"\" This callback implements a cyclical learning rate policy (CLR).\n",
        "        This is a special case of Cyclic Learning Rates, where we have only 1 cycle.\n",
        "        After the completion of 1 cycle, the learning rate will decrease rapidly to\n",
        "        100th its initial lowest value.\n",
        "\n",
        "        # Arguments:\n",
        "            max_lr: Float. Initial learning rate. This also sets the\n",
        "                starting learning rate (which will be 10x smaller than\n",
        "                this), and will increase to this value during the first cycle.\n",
        "            end_percentage: Float. The percentage of all the epochs of training\n",
        "                that will be dedicated to sharply decreasing the learning\n",
        "                rate after the completion of 1 cycle. Must be between 0 and 1.\n",
        "            scale_percentage: Float or None. If float, must be between 0 and 1.\n",
        "                If None, it will compute the scale_percentage automatically\n",
        "                based on the `end_percentage`.\n",
        "            maximum_momentum: Optional. Sets the maximum momentum (initial)\n",
        "                value, which gradually drops to its lowest value in half-cycle,\n",
        "                then gradually increases again to stay constant at this max value.\n",
        "                Can only be used with SGD Optimizer.\n",
        "            minimum_momentum: Optional. Sets the minimum momentum at the end of\n",
        "                the half-cycle. Can only be used with SGD Optimizer.\n",
        "            verbose: Bool. Whether to print the current learning rate after every\n",
        "                epoch.\n",
        "\n",
        "        # Reference\n",
        "            - [A disciplined approach to neural network hyper-parameters: Part 1 -- learning rate, batch size, weight_decay, and weight decay](https://arxiv.org/abs/1803.09820)\n",
        "            - [Super-Convergence: Very Fast Training of Residual Networks Using Large Learning Rates](https://arxiv.org/abs/1708.07120)\n",
        "        \"\"\"\n",
        "        super(OneCycleLR, self).__init__()\n",
        "\n",
        "        if end_percentage < 0. or end_percentage > 1.:\n",
        "            raise ValueError(\"`end_percentage` must be between 0 and 1\")\n",
        "\n",
        "        if scale_percentage is not None and (scale_percentage < 0. or scale_percentage > 1.):\n",
        "            raise ValueError(\"`scale_percentage` must be between 0 and 1\")\n",
        "\n",
        "        self.initial_lr = max_lr\n",
        "        self.end_percentage = end_percentage\n",
        "        self.scale = float(scale_percentage) if scale_percentage is not None else float(end_percentage)\n",
        "        self.max_momentum = maximum_momentum\n",
        "        self.min_momentum = minimum_momentum\n",
        "        self.verbose = verbose\n",
        "\n",
        "        if self.max_momentum is not None and self.min_momentum is not None:\n",
        "            self._update_momentum = True\n",
        "        else:\n",
        "            self._update_momentum = False\n",
        "\n",
        "        self.clr_iterations = 0.\n",
        "        self.history = {}\n",
        "\n",
        "        self.epochs = epochs\n",
        "        self.batch_size = batch_size\n",
        "        self.samples = samples\n",
        "        self.steps = None\n",
        "        self.num_iterations = None\n",
        "        self.mid_cycle_id = None\n",
        "\n",
        "    def _reset(self):\n",
        "        \"\"\"\n",
        "        Reset the callback.\n",
        "        \"\"\"\n",
        "        self.clr_iterations = 0.\n",
        "        self.history = {}\n",
        "\n",
        "    def compute_lr(self):\n",
        "        \"\"\"\n",
        "        Compute the learning rate based on which phase of the cycle it is in.\n",
        "\n",
        "        - If in the first half of training, the learning rate gradually increases.\n",
        "        - If in the second half of training, the learning rate gradually decreases.\n",
        "        - If in the final `end_percentage` portion of training, the learning rate\n",
        "            is quickly reduced to near 100th of the original min learning rate.\n",
        "\n",
        "        # Returns:\n",
        "            the new learning rate\n",
        "        \"\"\"\n",
        "        if self.clr_iterations > 2 * self.mid_cycle_id:\n",
        "            current_percentage = (self.clr_iterations - 2 * self.mid_cycle_id)\n",
        "            current_percentage /= float((self.num_iterations - 2 * self.mid_cycle_id))\n",
        "            new_lr = self.initial_lr * (1. + (current_percentage *\n",
        "                                              (1. - 100.) / 100.)) * self.scale\n",
        "\n",
        "        elif self.clr_iterations > self.mid_cycle_id:\n",
        "            current_percentage = 1. - (\n",
        "                self.clr_iterations - self.mid_cycle_id) / self.mid_cycle_id\n",
        "            new_lr = self.initial_lr * (1. + current_percentage *\n",
        "                                        (self.scale * 100 - 1.)) * self.scale\n",
        "\n",
        "        else:\n",
        "            current_percentage = self.clr_iterations / self.mid_cycle_id\n",
        "            new_lr = self.initial_lr * (1. + current_percentage *\n",
        "                                        (self.scale * 100 - 1.)) * self.scale\n",
        "\n",
        "        if self.clr_iterations == self.num_iterations:\n",
        "            self.clr_iterations = 0\n",
        "\n",
        "        return new_lr\n",
        "\n",
        "    def compute_momentum(self):\n",
        "        \"\"\"\n",
        "         Compute the momentum based on which phase of the cycle it is in.\n",
        "\n",
        "        - If in the first half of training, the momentum gradually decreases.\n",
        "        - If in the second half of training, the momentum gradually increases.\n",
        "        - If in the final `end_percentage` portion of training, the momentum value\n",
        "            is kept constant at the maximum initial value.\n",
        "\n",
        "        # Returns:\n",
        "            the new momentum value\n",
        "        \"\"\"\n",
        "        if self.clr_iterations > 2 * self.mid_cycle_id:\n",
        "            new_momentum = self.max_momentum\n",
        "\n",
        "        elif self.clr_iterations > self.mid_cycle_id:\n",
        "            current_percentage = 1. - ((self.clr_iterations - self.mid_cycle_id) / float(\n",
        "                                        self.mid_cycle_id))\n",
        "            new_momentum = self.max_momentum - current_percentage * (\n",
        "                self.max_momentum - self.min_momentum)\n",
        "\n",
        "        else:\n",
        "            current_percentage = self.clr_iterations / float(self.mid_cycle_id)\n",
        "            new_momentum = self.max_momentum - current_percentage * (\n",
        "                self.max_momentum - self.min_momentum)\n",
        "\n",
        "        return new_momentum\n",
        "\n",
        "    def on_train_begin(self, logs={}):\n",
        "        logs = logs or {}\n",
        "\n",
        "        self.epochs = self.epochs\n",
        "        self.batch_size = self.batch_size\n",
        "        self.samples = self.samples\n",
        "#         self.steps = self.params['worlsteps']\n",
        "\n",
        "        if self.steps is not None:\n",
        "            self.num_iterations = self.epochs * self.steps\n",
        "        else:\n",
        "            if (self.samples % self.batch_size) == 0:\n",
        "                remainder = 0\n",
        "            else:\n",
        "                remainder = 1\n",
        "            self.num_iterations = (self.epochs + remainder) * self.samples // self.batch_size\n",
        "\n",
        "        self.mid_cycle_id = int(self.num_iterations * ((1. - self.end_percentage)) / float(2))\n",
        "\n",
        "        self._reset()\n",
        "        K.set_value(self.model.optimizer.lr, self.compute_lr())\n",
        "\n",
        "        if self._update_momentum:\n",
        "            if not hasattr(self.model.optimizer, 'momentum'):\n",
        "                raise ValueError(\"Momentum can be updated only on SGD optimizer !\")\n",
        "\n",
        "            new_momentum = self.compute_momentum()\n",
        "            K.set_value(self.model.optimizer.momentum, new_momentum)\n",
        "\n",
        "    def on_batch_end(self, epoch, logs=None):\n",
        "        logs = logs or {}\n",
        "\n",
        "        self.clr_iterations += 1\n",
        "        new_lr = self.compute_lr()\n",
        "\n",
        "        self.history.setdefault('lr', []).append(\n",
        "            K.get_value(self.model.optimizer.lr))\n",
        "        K.set_value(self.model.optimizer.lr, new_lr)\n",
        "\n",
        "        if self._update_momentum:\n",
        "            if not hasattr(self.model.optimizer, 'momentum'):\n",
        "                raise ValueError(\"Momentum can be updated only on SGD optimizer !\")\n",
        "\n",
        "            new_momentum = self.compute_momentum()\n",
        "\n",
        "            self.history.setdefault('momentum', []).append(\n",
        "                K.get_value(self.model.optimizer.momentum))\n",
        "            K.set_value(self.model.optimizer.momentum, new_momentum)\n",
        "\n",
        "        for k, v in logs.items():\n",
        "            self.history.setdefault(k, []).append(v)\n",
        "\n",
        "    def on_epoch_end(self, epoch, logs=None):\n",
        "        if self.verbose:\n",
        "            if self._update_momentum:\n",
        "                print(\" - lr: %0.5f - momentum: %0.2f \" %\n",
        "                      (self.history['lr'][-1], self.history['momentum'][-1]))\n",
        "\n",
        "            else:\n",
        "                print(\" - lr: %0.5f \" % (self.history['lr'][-1]))"
      ],
      "execution_count": 0,
      "outputs": []
    },
    {
      "cell_type": "markdown",
      "metadata": {
        "id": "8L1THaKsCbB7",
        "colab_type": "text"
      },
      "source": [
        "#### Initialize"
      ]
    },
    {
      "cell_type": "code",
      "metadata": {
        "id": "G93kmoui61Rs",
        "colab_type": "code",
        "colab": {}
      },
      "source": [
        "lr_manager = OneCycleLR(batch_size=BATCH_SIZE, epochs=EPOCHS, samples=num_train,\n",
        "                        max_lr=0.3, end_percentage=0.1, scale_percentage=None,\n",
        "                        maximum_momentum=0.95, minimum_momentum=0.85,verbose=1)"
      ],
      "execution_count": 0,
      "outputs": []
    },
    {
      "cell_type": "markdown",
      "metadata": {
        "id": "6LOFMqeu_7aA",
        "colab_type": "text"
      },
      "source": [
        "### Callback"
      ]
    },
    {
      "cell_type": "code",
      "metadata": {
        "id": "G2Bo2zn5_9lC",
        "colab_type": "code",
        "outputId": "6e15d1d1-470c-4e01-fb10-8656f9a37a34",
        "colab": {
          "base_uri": "https://localhost:8080/",
          "height": 34
        }
      },
      "source": [
        "from keras.callbacks import ModelCheckpoint\n",
        "!mkdir \"Assignment12\"\n",
        "filepath=\"Assignment12//maxAccuracy.hdf5\"\n",
        "checkpoint = ModelCheckpoint(filepath, monitor='val_acc', verbose=1, save_best_only=True, mode='max')\n",
        "\n",
        "callbacks_list = [lr_manager,checkpoint]"
      ],
      "execution_count": 84,
      "outputs": [
        {
          "output_type": "stream",
          "text": [
            "mkdir: cannot create directory ‘Assignment12’: File exists\n"
          ],
          "name": "stdout"
        }
      ]
    },
    {
      "cell_type": "markdown",
      "metadata": {
        "colab_type": "text",
        "id": "TMTGZyWKOtQQ"
      },
      "source": [
        "### Model Training"
      ]
    },
    {
      "cell_type": "markdown",
      "metadata": {
        "id": "_qSmsVMllJr7",
        "colab_type": "text"
      },
      "source": [
        "#### Max LR:0.5, 24 epochs, Acc: 82.84 stable"
      ]
    },
    {
      "cell_type": "code",
      "metadata": {
        "id": "5oK_V7WyfsXX",
        "colab_type": "code",
        "outputId": "0734b16a-e826-488e-8b70-16bb545c7ac8",
        "colab": {
          "base_uri": "https://localhost:8080/",
          "height": 1000
        }
      },
      "source": [
        "# max_lr=0.5\n",
        "# train the model\n",
        "start = time.time()\n",
        "# Train the model\n",
        "model_info = model.fit_generator(train_generator, \n",
        "                                 samples_per_epoch = train_X.shape[0], epochs = EPOCHS, \n",
        "                                 validation_data = (test_X, test_y), verbose=1, callbacks=callbacks_list)\n",
        "\n",
        "end = time.time()\n",
        "print (\"Model took %0.2f seconds to train\"%(end - start))\n",
        "# plot model history\n",
        "plot_model_history(model_info)\n",
        "# compute test accuracy\n",
        "print (\"Accuracy on test data is: %0.2f\"%accuracy(test_X, test_y, model))"
      ],
      "execution_count": 0,
      "outputs": [
        {
          "output_type": "stream",
          "text": [
            "/usr/local/lib/python3.6/dist-packages/ipykernel_launcher.py:5: UserWarning: Update your `fit_generator` call to the Keras 2 API: `fit_generator(<keras_pre..., epochs=24, validation_data=(array([[[..., verbose=1, callbacks=[<__main__..., steps_per_epoch=97)`\n",
            "  \"\"\"\n"
          ],
          "name": "stderr"
        },
        {
          "output_type": "stream",
          "text": [
            "Epoch 1/24\n",
            " 3/97 [..............................] - ETA: 1:28 - loss: 2.7733 - acc: 0.1530"
          ],
          "name": "stdout"
        },
        {
          "output_type": "stream",
          "text": [
            "/usr/local/lib/python3.6/dist-packages/keras/callbacks.py:122: UserWarning: Method on_batch_end() is slow compared to the batch update (0.303051). Check your callbacks.\n",
            "  % delta_t_median)\n"
          ],
          "name": "stderr"
        },
        {
          "output_type": "stream",
          "text": [
            "97/97 [==============================] - 36s 368ms/step - loss: 1.9996 - acc: 0.3101 - val_loss: 5.0677 - val_acc: 0.1923\n",
            " - lr: 0.08934 - momentum: 0.94 \n",
            "\n",
            "Epoch 00001: val_acc did not improve from 0.82840\n",
            "Epoch 2/24\n",
            "97/97 [==============================] - 33s 341ms/step - loss: 1.6254 - acc: 0.4312 - val_loss: 2.1029 - val_acc: 0.3902\n",
            " - lr: 0.12910 - momentum: 0.93 \n",
            "\n",
            "Epoch 00002: val_acc did not improve from 0.82840\n",
            "Epoch 3/24\n",
            "97/97 [==============================] - 33s 343ms/step - loss: 1.4550 - acc: 0.5001 - val_loss: 1.9462 - val_acc: 0.4102\n",
            " - lr: 0.16885 - momentum: 0.92 \n",
            "\n",
            "Epoch 00003: val_acc did not improve from 0.82840\n",
            "Epoch 4/24\n",
            "97/97 [==============================] - 33s 343ms/step - loss: 1.3011 - acc: 0.5623 - val_loss: 1.4093 - val_acc: 0.5585\n",
            " - lr: 0.20861 - momentum: 0.91 \n",
            "\n",
            "Epoch 00004: val_acc did not improve from 0.82840\n",
            "Epoch 5/24\n",
            "97/97 [==============================] - 33s 341ms/step - loss: 1.2240 - acc: 0.5922 - val_loss: 1.3166 - val_acc: 0.5997\n",
            " - lr: 0.24836 - momentum: 0.91 \n",
            "\n",
            "Epoch 00005: val_acc did not improve from 0.82840\n",
            "Epoch 6/24\n",
            "97/97 [==============================] - 33s 340ms/step - loss: 1.1299 - acc: 0.6276 - val_loss: 1.3200 - val_acc: 0.6207\n",
            " - lr: 0.28811 - momentum: 0.90 \n",
            "\n",
            "Epoch 00006: val_acc did not improve from 0.82840\n",
            "Epoch 7/24\n",
            "97/97 [==============================] - 33s 338ms/step - loss: 1.0729 - acc: 0.6515 - val_loss: 1.1597 - val_acc: 0.6542\n",
            " - lr: 0.32787 - momentum: 0.89 \n",
            "\n",
            "Epoch 00007: val_acc did not improve from 0.82840\n",
            "Epoch 8/24\n",
            "97/97 [==============================] - 33s 338ms/step - loss: 1.0333 - acc: 0.6696 - val_loss: 1.6406 - val_acc: 0.5685\n",
            " - lr: 0.36762 - momentum: 0.88 \n",
            "\n",
            "Epoch 00008: val_acc did not improve from 0.82840\n",
            "Epoch 9/24\n",
            "97/97 [==============================] - 33s 339ms/step - loss: 1.0043 - acc: 0.6845 - val_loss: 1.2163 - val_acc: 0.6759\n",
            " - lr: 0.40738 - momentum: 0.87 \n",
            "\n",
            "Epoch 00009: val_acc did not improve from 0.82840\n",
            "Epoch 10/24\n",
            "97/97 [==============================] - 33s 340ms/step - loss: 0.9668 - acc: 0.7028 - val_loss: 1.0710 - val_acc: 0.7077\n",
            " - lr: 0.44713 - momentum: 0.86 \n",
            "\n",
            "Epoch 00010: val_acc did not improve from 0.82840\n",
            "Epoch 11/24\n",
            "97/97 [==============================] - 33s 338ms/step - loss: 0.9599 - acc: 0.7093 - val_loss: 0.8577 - val_acc: 0.7559\n",
            " - lr: 0.48689 - momentum: 0.85 \n",
            "\n",
            "Epoch 00011: val_acc did not improve from 0.82840\n",
            "Epoch 12/24\n",
            "97/97 [==============================] - 33s 339ms/step - loss: 0.9350 - acc: 0.7205 - val_loss: 1.0206 - val_acc: 0.7138\n",
            " - lr: 0.47336 - momentum: 0.86 \n",
            "\n",
            "Epoch 00012: val_acc did not improve from 0.82840\n",
            "Epoch 13/24\n",
            "97/97 [==============================] - 33s 340ms/step - loss: 0.9203 - acc: 0.7264 - val_loss: 1.0293 - val_acc: 0.7200\n",
            " - lr: 0.43361 - momentum: 0.86 \n",
            "\n",
            "Epoch 00013: val_acc did not improve from 0.82840\n",
            "Epoch 14/24\n",
            "97/97 [==============================] - 33s 341ms/step - loss: 0.9034 - acc: 0.7362 - val_loss: 0.9285 - val_acc: 0.7466\n",
            " - lr: 0.39385 - momentum: 0.87 \n",
            "\n",
            "Epoch 00014: val_acc did not improve from 0.82840\n",
            "Epoch 15/24\n",
            "97/97 [==============================] - 33s 343ms/step - loss: 0.8853 - acc: 0.7420 - val_loss: 1.0336 - val_acc: 0.7383\n",
            " - lr: 0.35410 - momentum: 0.88 \n",
            "\n",
            "Epoch 00015: val_acc did not improve from 0.82840\n",
            "Epoch 16/24\n",
            "97/97 [==============================] - 33s 339ms/step - loss: 0.8782 - acc: 0.7450 - val_loss: 0.9601 - val_acc: 0.7468\n",
            " - lr: 0.31434 - momentum: 0.89 \n",
            "\n",
            "Epoch 00016: val_acc did not improve from 0.82840\n",
            "Epoch 17/24\n",
            "97/97 [==============================] - 33s 339ms/step - loss: 0.8572 - acc: 0.7543 - val_loss: 0.8578 - val_acc: 0.7746\n",
            " - lr: 0.27459 - momentum: 0.90 \n",
            "\n",
            "Epoch 00017: val_acc did not improve from 0.82840\n",
            "Epoch 18/24\n",
            "97/97 [==============================] - 33s 339ms/step - loss: 0.8498 - acc: 0.7587 - val_loss: 0.8715 - val_acc: 0.7746\n",
            " - lr: 0.23484 - momentum: 0.91 \n",
            "\n",
            "Epoch 00018: val_acc did not improve from 0.82840\n",
            "Epoch 19/24\n",
            "97/97 [==============================] - 33s 338ms/step - loss: 0.8198 - acc: 0.7702 - val_loss: 1.1149 - val_acc: 0.7159\n",
            " - lr: 0.19508 - momentum: 0.92 \n",
            "\n",
            "Epoch 00019: val_acc did not improve from 0.82840\n",
            "Epoch 20/24\n",
            "97/97 [==============================] - 33s 339ms/step - loss: 0.8061 - acc: 0.7719 - val_loss: 0.7394 - val_acc: 0.8092\n",
            " - lr: 0.15533 - momentum: 0.93 \n",
            "\n",
            "Epoch 00020: val_acc did not improve from 0.82840\n",
            "Epoch 21/24\n",
            "97/97 [==============================] - 33s 340ms/step - loss: 0.7812 - acc: 0.7826 - val_loss: 0.7565 - val_acc: 0.8024\n",
            " - lr: 0.11557 - momentum: 0.94 \n",
            "\n",
            "Epoch 00021: val_acc did not improve from 0.82840\n",
            "Epoch 22/24\n",
            "97/97 [==============================] - 33s 339ms/step - loss: 0.7594 - acc: 0.7899 - val_loss: 0.7040 - val_acc: 0.8224\n",
            " - lr: 0.07582 - momentum: 0.94 \n",
            "\n",
            "Epoch 00022: val_acc did not improve from 0.82840\n",
            "Epoch 23/24\n",
            "97/97 [==============================] - 33s 339ms/step - loss: 0.7280 - acc: 0.8000 - val_loss: 0.7387 - val_acc: 0.8127\n",
            " - lr: 0.04313 - momentum: 0.95 \n",
            "\n",
            "Epoch 00023: val_acc did not improve from 0.82840\n",
            "Epoch 24/24\n",
            "97/97 [==============================] - 33s 340ms/step - loss: 0.6942 - acc: 0.8076 - val_loss: 0.6714 - val_acc: 0.8284\n",
            " - lr: 0.02353 - momentum: 0.95 \n",
            "\n",
            "Epoch 00024: val_acc improved from 0.82840 to 0.82840, saving model to Assignment12//maxAccuracy.hdf5\n",
            "Model took 801.52 seconds to train\n"
          ],
          "name": "stdout"
        },
        {
          "output_type": "display_data",
          "data": {
            "image/png": "[encoded data removed]",
            "text/plain": [
              "<Figure size 1080x360 with 2 Axes>"
            ]
          },
          "metadata": {
            "tags": []
          }
        },
        {
          "output_type": "stream",
          "text": [
            "Accuracy on test data is: 82.84\n"
          ],
          "name": "stdout"
        }
      ]
    },
    {
      "cell_type": "markdown",
      "metadata": {
        "id": "6N3EXRtPxYnS",
        "colab_type": "text"
      },
      "source": [
        "#### Max LR:0.3, 50 epochs, Acc: 87.33 stable"
      ]
    },
    {
      "cell_type": "code",
      "metadata": {
        "id": "fJnvakhOxTZ5",
        "colab_type": "code",
        "colab": {
          "base_uri": "https://localhost:8080/",
          "height": 1000
        },
        "outputId": "62ef4645-0ad0-4fa7-c6f1-5073d3a919de"
      },
      "source": [
        "# max_lr=0.3\n",
        "# train the model\n",
        "start = time.time()\n",
        "# Train the model\n",
        "model_info = model.fit_generator(train_generator, \n",
        "                                 samples_per_epoch = train_X.shape[0], epochs = EPOCHS, \n",
        "                                 validation_data = (test_X, test_y), verbose=1, callbacks=callbacks_list)\n",
        "\n",
        "end = time.time()\n",
        "print (\"Model took %0.2f seconds to train\"%(end - start))\n",
        "# plot model history\n",
        "plot_model_history(model_info)\n",
        "# compute test accuracy\n",
        "print (\"Accuracy on test data is: %0.2f\"%accuracy(test_X, test_y, model))"
      ],
      "execution_count": 85,
      "outputs": [
        {
          "output_type": "stream",
          "text": [
            "/usr/local/lib/python3.6/dist-packages/ipykernel_launcher.py:5: UserWarning: Update your `fit_generator` call to the Keras 2 API: `fit_generator(<keras_pre..., epochs=50, validation_data=(array([[[..., verbose=1, callbacks=[<__main__..., steps_per_epoch=390)`\n",
            "  \"\"\"\n"
          ],
          "name": "stderr"
        },
        {
          "output_type": "stream",
          "text": [
            "Epoch 1/50\n",
            "  4/390 [..............................] - ETA: 4:06 - loss: 2.8814 - acc: 0.1629"
          ],
          "name": "stdout"
        },
        {
          "output_type": "stream",
          "text": [
            "/usr/local/lib/python3.6/dist-packages/keras/callbacks.py:122: UserWarning: Method on_batch_end() is slow compared to the batch update (0.300145). Check your callbacks.\n",
            "  % delta_t_median)\n"
          ],
          "name": "stderr"
        },
        {
          "output_type": "stream",
          "text": [
            "390/390 [==============================] - 46s 117ms/step - loss: 1.8971 - acc: 0.3407 - val_loss: 2.2075 - val_acc: 0.3567\n",
            " - lr: 0.04172 - momentum: 0.95 \n",
            "\n",
            "Epoch 00001: val_acc improved from -inf to 0.35670, saving model to Assignment12//maxAccuracy.hdf5\n",
            "Epoch 2/50\n",
            "390/390 [==============================] - 42s 108ms/step - loss: 1.4945 - acc: 0.4816 - val_loss: 1.5354 - val_acc: 0.4903\n",
            " - lr: 0.05346 - momentum: 0.94 \n",
            "\n",
            "Epoch 00002: val_acc improved from 0.35670 to 0.49030, saving model to Assignment12//maxAccuracy.hdf5\n",
            "Epoch 3/50\n",
            "390/390 [==============================] - 42s 108ms/step - loss: 1.3487 - acc: 0.5431 - val_loss: 1.2571 - val_acc: 0.5957\n",
            " - lr: 0.06521 - momentum: 0.94 \n",
            "\n",
            "Epoch 00003: val_acc improved from 0.49030 to 0.59570, saving model to Assignment12//maxAccuracy.hdf5\n",
            "Epoch 4/50\n",
            "390/390 [==============================] - 42s 108ms/step - loss: 1.2528 - acc: 0.5847 - val_loss: 1.0349 - val_acc: 0.6641\n",
            " - lr: 0.07696 - momentum: 0.93 \n",
            "\n",
            "Epoch 00004: val_acc improved from 0.59570 to 0.66410, saving model to Assignment12//maxAccuracy.hdf5\n",
            "Epoch 5/50\n",
            "390/390 [==============================] - 43s 109ms/step - loss: 1.1803 - acc: 0.6159 - val_loss: 1.5063 - val_acc: 0.5751\n",
            " - lr: 0.08870 - momentum: 0.93 \n",
            "\n",
            "Epoch 00005: val_acc did not improve from 0.66410\n",
            "Epoch 6/50\n",
            "390/390 [==============================] - 43s 109ms/step - loss: 1.1303 - acc: 0.6381 - val_loss: 1.0272 - val_acc: 0.6961\n",
            " - lr: 0.10045 - momentum: 0.92 \n",
            "\n",
            "Epoch 00006: val_acc improved from 0.66410 to 0.69610, saving model to Assignment12//maxAccuracy.hdf5\n",
            "Epoch 7/50\n",
            "390/390 [==============================] - 43s 109ms/step - loss: 1.0911 - acc: 0.6570 - val_loss: 0.9938 - val_acc: 0.7110\n",
            " - lr: 0.11220 - momentum: 0.92 \n",
            "\n",
            "Epoch 00007: val_acc improved from 0.69610 to 0.71100, saving model to Assignment12//maxAccuracy.hdf5\n",
            "Epoch 8/50\n",
            "390/390 [==============================] - 42s 109ms/step - loss: 1.0608 - acc: 0.6720 - val_loss: 1.3611 - val_acc: 0.6276\n",
            " - lr: 0.12395 - momentum: 0.92 \n",
            "\n",
            "Epoch 00008: val_acc did not improve from 0.71100\n",
            "Epoch 9/50\n",
            "390/390 [==============================] - 42s 108ms/step - loss: 1.0461 - acc: 0.6803 - val_loss: 1.1089 - val_acc: 0.6987\n",
            " - lr: 0.13569 - momentum: 0.91 \n",
            "\n",
            "Epoch 00009: val_acc did not improve from 0.71100\n",
            "Epoch 10/50\n",
            "390/390 [==============================] - 43s 110ms/step - loss: 1.0195 - acc: 0.6952 - val_loss: 0.9544 - val_acc: 0.7315\n",
            " - lr: 0.14744 - momentum: 0.91 \n",
            "\n",
            "Epoch 00010: val_acc improved from 0.71100 to 0.73150, saving model to Assignment12//maxAccuracy.hdf5\n",
            "Epoch 11/50\n",
            "390/390 [==============================] - 43s 111ms/step - loss: 1.0158 - acc: 0.6960 - val_loss: 0.9546 - val_acc: 0.7389\n",
            " - lr: 0.15919 - momentum: 0.90 \n",
            "\n",
            "Epoch 00011: val_acc improved from 0.73150 to 0.73890, saving model to Assignment12//maxAccuracy.hdf5\n",
            "Epoch 12/50\n",
            "390/390 [==============================] - 43s 109ms/step - loss: 0.9990 - acc: 0.7055 - val_loss: 0.8636 - val_acc: 0.7660\n",
            " - lr: 0.17093 - momentum: 0.90 \n",
            "\n",
            "Epoch 00012: val_acc improved from 0.73890 to 0.76600, saving model to Assignment12//maxAccuracy.hdf5\n",
            "Epoch 13/50\n",
            "390/390 [==============================] - 42s 108ms/step - loss: 0.9828 - acc: 0.7150 - val_loss: 0.9643 - val_acc: 0.7537\n",
            " - lr: 0.18268 - momentum: 0.89 \n",
            "\n",
            "Epoch 00013: val_acc did not improve from 0.76600\n",
            "Epoch 14/50\n",
            "390/390 [==============================] - 42s 108ms/step - loss: 0.9826 - acc: 0.7148 - val_loss: 0.9499 - val_acc: 0.7629\n",
            " - lr: 0.19443 - momentum: 0.89 \n",
            "\n",
            "Epoch 00014: val_acc did not improve from 0.76600\n",
            "Epoch 15/50\n",
            "390/390 [==============================] - 44s 112ms/step - loss: 0.9680 - acc: 0.7244 - val_loss: 0.8476 - val_acc: 0.7756\n",
            " - lr: 0.20617 - momentum: 0.88 \n",
            "\n",
            "Epoch 00015: val_acc improved from 0.76600 to 0.77560, saving model to Assignment12//maxAccuracy.hdf5\n",
            "Epoch 16/50\n",
            "390/390 [==============================] - 43s 111ms/step - loss: 0.9695 - acc: 0.7243 - val_loss: 0.7761 - val_acc: 0.8000\n",
            " - lr: 0.21792 - momentum: 0.88 \n",
            "\n",
            "Epoch 00016: val_acc improved from 0.77560 to 0.80000, saving model to Assignment12//maxAccuracy.hdf5\n",
            "Epoch 17/50\n",
            "390/390 [==============================] - 43s 110ms/step - loss: 0.9562 - acc: 0.7317 - val_loss: 0.7857 - val_acc: 0.7956\n",
            " - lr: 0.22967 - momentum: 0.88 \n",
            "\n",
            "Epoch 00017: val_acc did not improve from 0.80000\n",
            "Epoch 18/50\n",
            "390/390 [==============================] - 44s 112ms/step - loss: 0.9399 - acc: 0.7366 - val_loss: 0.9001 - val_acc: 0.7674\n",
            " - lr: 0.24142 - momentum: 0.87 \n",
            "\n",
            "Epoch 00018: val_acc did not improve from 0.80000\n",
            "Epoch 19/50\n",
            "390/390 [==============================] - 43s 110ms/step - loss: 0.9424 - acc: 0.7336 - val_loss: 1.0384 - val_acc: 0.7308\n",
            " - lr: 0.25316 - momentum: 0.87 \n",
            "\n",
            "Epoch 00019: val_acc did not improve from 0.80000\n",
            "Epoch 20/50\n",
            "390/390 [==============================] - 42s 108ms/step - loss: 0.9471 - acc: 0.7362 - val_loss: 0.8720 - val_acc: 0.7816\n",
            " - lr: 0.26491 - momentum: 0.86 \n",
            "\n",
            "Epoch 00020: val_acc did not improve from 0.80000\n",
            "Epoch 21/50\n",
            "390/390 [==============================] - 42s 109ms/step - loss: 0.9348 - acc: 0.7388 - val_loss: 0.8122 - val_acc: 0.7850\n",
            " - lr: 0.27666 - momentum: 0.86 \n",
            "\n",
            "Epoch 00021: val_acc did not improve from 0.80000\n",
            "Epoch 22/50\n",
            "390/390 [==============================] - 42s 109ms/step - loss: 0.9291 - acc: 0.7417 - val_loss: 0.8877 - val_acc: 0.7757\n",
            " - lr: 0.28840 - momentum: 0.85 \n",
            "\n",
            "Epoch 00022: val_acc did not improve from 0.80000\n",
            "Epoch 23/50\n",
            "390/390 [==============================] - 42s 107ms/step - loss: 0.9265 - acc: 0.7434 - val_loss: 0.8155 - val_acc: 0.8008\n",
            " - lr: 0.29985 - momentum: 0.85 \n",
            "\n",
            "Epoch 00023: val_acc improved from 0.80000 to 0.80080, saving model to Assignment12//maxAccuracy.hdf5\n",
            "Epoch 24/50\n",
            "390/390 [==============================] - 42s 107ms/step - loss: 0.9100 - acc: 0.7487 - val_loss: 0.9742 - val_acc: 0.7586\n",
            " - lr: 0.28810 - momentum: 0.85 \n",
            "\n",
            "Epoch 00024: val_acc did not improve from 0.80080\n",
            "Epoch 25/50\n",
            "390/390 [==============================] - 42s 106ms/step - loss: 0.9017 - acc: 0.7518 - val_loss: 0.9977 - val_acc: 0.7563\n",
            " - lr: 0.27636 - momentum: 0.86 \n",
            "\n",
            "Epoch 00025: val_acc did not improve from 0.80080\n",
            "Epoch 26/50\n",
            "390/390 [==============================] - 42s 109ms/step - loss: 0.8972 - acc: 0.7544 - val_loss: 0.7649 - val_acc: 0.8117\n",
            " - lr: 0.26461 - momentum: 0.86 \n",
            "\n",
            "Epoch 00026: val_acc improved from 0.80080 to 0.81170, saving model to Assignment12//maxAccuracy.hdf5\n",
            "Epoch 27/50\n",
            "390/390 [==============================] - 42s 108ms/step - loss: 0.8915 - acc: 0.7555 - val_loss: 1.2401 - val_acc: 0.7091\n",
            " - lr: 0.25286 - momentum: 0.87 \n",
            "\n",
            "Epoch 00027: val_acc did not improve from 0.81170\n",
            "Epoch 28/50\n",
            "390/390 [==============================] - 42s 107ms/step - loss: 0.8706 - acc: 0.7648 - val_loss: 0.7627 - val_acc: 0.8152\n",
            " - lr: 0.24111 - momentum: 0.87 \n",
            "\n",
            "Epoch 00028: val_acc improved from 0.81170 to 0.81520, saving model to Assignment12//maxAccuracy.hdf5\n",
            "Epoch 29/50\n",
            "390/390 [==============================] - 42s 107ms/step - loss: 0.8629 - acc: 0.7650 - val_loss: 0.9009 - val_acc: 0.7757\n",
            " - lr: 0.22937 - momentum: 0.88 \n",
            "\n",
            "Epoch 00029: val_acc did not improve from 0.81520\n",
            "Epoch 30/50\n",
            "390/390 [==============================] - 42s 107ms/step - loss: 0.8642 - acc: 0.7642 - val_loss: 0.8719 - val_acc: 0.7881\n",
            " - lr: 0.21762 - momentum: 0.88 \n",
            "\n",
            "Epoch 00030: val_acc did not improve from 0.81520\n",
            "Epoch 31/50\n",
            "390/390 [==============================] - 43s 110ms/step - loss: 0.8589 - acc: 0.7677 - val_loss: 1.1122 - val_acc: 0.7334\n",
            " - lr: 0.20587 - momentum: 0.88 \n",
            "\n",
            "Epoch 00031: val_acc did not improve from 0.81520\n",
            "Epoch 32/50\n",
            "390/390 [==============================] - 42s 108ms/step - loss: 0.8441 - acc: 0.7699 - val_loss: 0.6930 - val_acc: 0.8331\n",
            " - lr: 0.19413 - momentum: 0.89 \n",
            "\n",
            "Epoch 00032: val_acc improved from 0.81520 to 0.83310, saving model to Assignment12//maxAccuracy.hdf5\n",
            "Epoch 33/50\n",
            "390/390 [==============================] - 42s 107ms/step - loss: 0.8315 - acc: 0.7759 - val_loss: 0.7678 - val_acc: 0.8137\n",
            " - lr: 0.18238 - momentum: 0.89 \n",
            "\n",
            "Epoch 00033: val_acc did not improve from 0.83310\n",
            "Epoch 34/50\n",
            "390/390 [==============================] - 42s 107ms/step - loss: 0.8283 - acc: 0.7761 - val_loss: 0.8659 - val_acc: 0.7880\n",
            " - lr: 0.17063 - momentum: 0.90 \n",
            "\n",
            "Epoch 00034: val_acc did not improve from 0.83310\n",
            "Epoch 35/50\n",
            "390/390 [==============================] - 43s 109ms/step - loss: 0.8121 - acc: 0.7797 - val_loss: 0.7199 - val_acc: 0.8243\n",
            " - lr: 0.15889 - momentum: 0.90 \n",
            "\n",
            "Epoch 00035: val_acc did not improve from 0.83310\n",
            "Epoch 36/50\n",
            "390/390 [==============================] - 42s 107ms/step - loss: 0.8130 - acc: 0.7817 - val_loss: 0.8971 - val_acc: 0.7775\n",
            " - lr: 0.14714 - momentum: 0.91 \n",
            "\n",
            "Epoch 00036: val_acc did not improve from 0.83310\n",
            "Epoch 37/50\n",
            "390/390 [==============================] - 45s 116ms/step - loss: 0.8013 - acc: 0.7846 - val_loss: 0.7139 - val_acc: 0.8298\n",
            " - lr: 0.13539 - momentum: 0.91 \n",
            "\n",
            "Epoch 00037: val_acc did not improve from 0.83310\n",
            "Epoch 38/50\n",
            "390/390 [==============================] - 43s 110ms/step - loss: 0.7871 - acc: 0.7887 - val_loss: 0.7422 - val_acc: 0.8213\n",
            " - lr: 0.12364 - momentum: 0.92 \n",
            "\n",
            "Epoch 00038: val_acc did not improve from 0.83310\n",
            "Epoch 39/50\n",
            "390/390 [==============================] - 43s 110ms/step - loss: 0.7778 - acc: 0.7921 - val_loss: 0.6892 - val_acc: 0.8369\n",
            " - lr: 0.11190 - momentum: 0.92 \n",
            "\n",
            "Epoch 00039: val_acc improved from 0.83310 to 0.83690, saving model to Assignment12//maxAccuracy.hdf5\n",
            "Epoch 40/50\n",
            "390/390 [==============================] - 45s 115ms/step - loss: 0.7631 - acc: 0.7920 - val_loss: 0.6722 - val_acc: 0.8369\n",
            " - lr: 0.10015 - momentum: 0.92 \n",
            "\n",
            "Epoch 00040: val_acc did not improve from 0.83690\n",
            "Epoch 41/50\n",
            "390/390 [==============================] - 43s 111ms/step - loss: 0.7531 - acc: 0.7978 - val_loss: 0.7123 - val_acc: 0.8295\n",
            " - lr: 0.08840 - momentum: 0.93 \n",
            "\n",
            "Epoch 00041: val_acc did not improve from 0.83690\n",
            "Epoch 42/50\n",
            "390/390 [==============================] - 43s 110ms/step - loss: 0.7390 - acc: 0.8013 - val_loss: 0.6769 - val_acc: 0.8383\n",
            " - lr: 0.07666 - momentum: 0.93 \n",
            "\n",
            "Epoch 00042: val_acc improved from 0.83690 to 0.83830, saving model to Assignment12//maxAccuracy.hdf5\n",
            "Epoch 43/50\n",
            "390/390 [==============================] - 43s 110ms/step - loss: 0.7295 - acc: 0.8041 - val_loss: 0.6778 - val_acc: 0.8348\n",
            " - lr: 0.06491 - momentum: 0.94 \n",
            "\n",
            "Epoch 00043: val_acc did not improve from 0.83830\n",
            "Epoch 44/50\n",
            "390/390 [==============================] - 45s 115ms/step - loss: 0.7187 - acc: 0.8068 - val_loss: 0.5835 - val_acc: 0.8607\n",
            " - lr: 0.05316 - momentum: 0.94 \n",
            "\n",
            "Epoch 00044: val_acc improved from 0.83830 to 0.86070, saving model to Assignment12//maxAccuracy.hdf5\n",
            "Epoch 45/50\n",
            "390/390 [==============================] - 45s 115ms/step - loss: 0.7072 - acc: 0.8095 - val_loss: 0.5957 - val_acc: 0.8546\n",
            " - lr: 0.04142 - momentum: 0.95 \n",
            "\n",
            "Epoch 00045: val_acc did not improve from 0.86070\n",
            "Epoch 46/50\n",
            "390/390 [==============================] - 43s 111ms/step - loss: 0.6813 - acc: 0.8169 - val_loss: 0.5940 - val_acc: 0.8583\n",
            " - lr: 0.02984 - momentum: 0.95 \n",
            "\n",
            "Epoch 00046: val_acc did not improve from 0.86070\n",
            "Epoch 47/50\n",
            "390/390 [==============================] - 43s 110ms/step - loss: 0.6639 - acc: 0.8232 - val_loss: 0.5692 - val_acc: 0.8648\n",
            " - lr: 0.02402 - momentum: 0.95 \n",
            "\n",
            "Epoch 00047: val_acc improved from 0.86070 to 0.86480, saving model to Assignment12//maxAccuracy.hdf5\n",
            "Epoch 48/50\n",
            "390/390 [==============================] - 44s 114ms/step - loss: 0.6558 - acc: 0.8248 - val_loss: 0.5821 - val_acc: 0.8649\n",
            " - lr: 0.01821 - momentum: 0.95 \n",
            "\n",
            "Epoch 00048: val_acc improved from 0.86480 to 0.86490, saving model to Assignment12//maxAccuracy.hdf5\n",
            "Epoch 49/50\n",
            "390/390 [==============================] - 43s 111ms/step - loss: 0.6326 - acc: 0.8327 - val_loss: 0.5445 - val_acc: 0.8745\n",
            " - lr: 0.01240 - momentum: 0.95 \n",
            "\n",
            "Epoch 00049: val_acc improved from 0.86490 to 0.87450, saving model to Assignment12//maxAccuracy.hdf5\n",
            "Epoch 50/50\n",
            "390/390 [==============================] - 43s 110ms/step - loss: 0.6287 - acc: 0.8325 - val_loss: 0.5480 - val_acc: 0.8733\n",
            " - lr: 0.00659 - momentum: 0.95 \n",
            "\n",
            "Epoch 00050: val_acc did not improve from 0.87450\n",
            "Model took 2151.20 seconds to train\n"
          ],
          "name": "stdout"
        },
        {
          "output_type": "display_data",
          "data": {
            "image/png": "[encoded data removed]",
            "text/plain": [
              "<Figure size 1080x360 with 2 Axes>"
            ]
          },
          "metadata": {
            "tags": []
          }
        },
        {
          "output_type": "stream",
          "text": [
            "Accuracy on test data is: 87.33\n"
          ],
          "name": "stdout"
        }
      ]
    },
    {
      "cell_type": "markdown",
      "metadata": {
        "colab_type": "text",
        "id": "FSlzJOT7O5VY"
      },
      "source": [
        "#### Save Model"
      ]
    },
    {
      "cell_type": "code",
      "metadata": {
        "id": "DbCF6wkTrpYb",
        "colab_type": "code",
        "colab": {}
      },
      "source": [
        "model.load_weights('./Assignment12//maxAccuracy.hdf5')\n",
        "model.save('./drive/My Drive/EVA/12a_CIFAR10-49-0.87.hdf5.h5')"
      ],
      "execution_count": 0,
      "outputs": []
    },
    {
      "cell_type": "markdown",
      "metadata": {
        "colab_type": "text",
        "id": "Ueoc3-HYqPW-"
      },
      "source": [
        "#### Evaluate Model"
      ]
    },
    {
      "cell_type": "code",
      "metadata": {
        "id": "a-Q0JyIKAV2b",
        "colab_type": "code",
        "outputId": "f52242d6-ac24-488d-b252-5aa03bda74cc",
        "colab": {
          "base_uri": "https://localhost:8080/",
          "height": 51
        }
      },
      "source": [
        "model.load_weights('./drive/My Drive/EVA/12a_CIFAR10-49-0.87.hdf5.h5')\n",
        "model.evaluate(test_X, test_y)"
      ],
      "execution_count": 89,
      "outputs": [
        {
          "output_type": "stream",
          "text": [
            "10000/10000 [==============================] - 4s 403us/step\n"
          ],
          "name": "stdout"
        },
        {
          "output_type": "execute_result",
          "data": {
            "text/plain": [
              "[0.5444809146881103, 0.8745]"
            ]
          },
          "metadata": {
            "tags": []
          },
          "execution_count": 89
        }
      ]
    }
  ]
}